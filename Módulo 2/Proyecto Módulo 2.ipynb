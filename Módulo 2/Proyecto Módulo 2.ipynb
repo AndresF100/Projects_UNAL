{
 "cells": [
  {
   "attachments": {},
   "cell_type": "markdown",
   "metadata": {},
   "source": [
    "# Proyecto aplicado: \"Pokemon_data\"\n",
    "* Andrés Forero\n",
    "* Daniel Cuellar\n",
    "* Daniela González \n",
    "\n",
    "\n"
   ]
  },
  {
   "attachments": {},
   "cell_type": "markdown",
   "metadata": {},
   "source": [
    "## Librerías \n",
    "______"
   ]
  },
  {
   "cell_type": "code",
   "execution_count": 11,
   "metadata": {},
   "outputs": [],
   "source": [
    "# manejo de data\n",
    "import pandas as pd\n",
    "import numpy as np\n",
    "\n",
    "\n",
    "# visualización\n",
    "import seaborn as sns\n",
    "import matplotlib.pyplot as plt\n",
    "\n"
   ]
  },
  {
   "attachments": {},
   "cell_type": "markdown",
   "metadata": {},
   "source": [
    "# Metodología CRISP-DM\n",
    "___\n",
    "<img src=\"http://www.iic.uam.es/wp-content/uploads/2021/11/CRISP-DM.jpg\" width=\"400\" height=\"400\" />\n"
   ]
  },
  {
   "attachments": {},
   "cell_type": "markdown",
   "metadata": {},
   "source": [
    "## Situación actual\n"
   ]
  },
  {
   "attachments": {},
   "cell_type": "markdown",
   "metadata": {},
   "source": [
    "## Descripción del dataset\n",
    "_______________\n"
   ]
  },
  {
   "attachments": {},
   "cell_type": "markdown",
   "metadata": {},
   "source": [
    "## Problema\n",
    "_____\n"
   ]
  },
  {
   "attachments": {},
   "cell_type": "markdown",
   "metadata": {},
   "source": [
    " "
   ]
  },
  {
   "attachments": {},
   "cell_type": "markdown",
   "metadata": {},
   "source": [
    "## Objetivos\n",
    "_____\n",
    "\n",
    "### General\n",
    "\n",
    "\n",
    "### Específico \n",
    "\n"
   ]
  },
  {
   "attachments": {},
   "cell_type": "markdown",
   "metadata": {},
   "source": [
    "## Hipótesis (científica o estadística)\n",
    "------\n"
   ]
  },
  {
   "cell_type": "code",
   "execution_count": null,
   "metadata": {},
   "outputs": [],
   "source": []
  },
  {
   "attachments": {},
   "cell_type": "markdown",
   "metadata": {},
   "source": [
    "# Entendimiento de los datos\n",
    "----"
   ]
  },
  {
   "attachments": {},
   "cell_type": "markdown",
   "metadata": {},
   "source": [
    "## Carga De Datos\n",
    "------"
   ]
  },
  {
   "cell_type": "code",
   "execution_count": 179,
   "metadata": {},
   "outputs": [],
   "source": [
    "data = pd.read_csv(\"pokemon.csv\")"
   ]
  },
  {
   "attachments": {},
   "cell_type": "markdown",
   "metadata": {},
   "source": [
    "## Describir los datos \n",
    "------"
   ]
  },
  {
   "attachments": {},
   "cell_type": "markdown",
   "metadata": {},
   "source": [
    "Este conjunto de datos contiene información sobre los 802 Pokémon de las Siete Generaciones de Pokémon, y el cual contiene las siguientes características.\n",
    "\n",
    "\n",
    "Name: El nombre en inglés del Pokémon.\n",
    "Japanese_name: El nombre japonés original del Pokémon\n",
    "Pokedex_number: El número de entrada del Pokémon en el Pokédex Nacional\n",
    "Percent_male: El porcentaje de las especies que son machos. En blanco si el Pokémon no tiene género.\n",
    "Type1: El tipo primario del Pokémon\n",
    "Type2: El tipo secundario del Pokémon\n",
    "Clasificación: La clasificación de los Pokémon como se describe en el Sol y la Luna Pokédex\n",
    "Height_m: Altura del Pokémon en metros\n",
    "Weight_kg: El Peso del Pokémon en kilogramos\n",
    "Capture_rate: Tasa de captura del Pokémon\n",
    "Base_egg_steps: La cantidad de pasos necesarios para eclosionar un huevo del Pokémon\n",
    "Abilities:Lista ordenada de habilidades que el Pokémon es capaz de tener.\n",
    "Experience_growth: El crecimiento de la experiencia de los Pokémon\n",
    "Base_happiness: Felicidad Base del Pokémon\n",
    "Against_?: dieciocho características que denotan la cantidad de daño recibido contra un ataque de un tipo particular\n",
    "HP: El HP (Puntos de vida) base del Pokémon\n",
    "Attack:El Ataque Base de los Pokémon\n",
    "Defense:La Defensa Base de los Pokémon\n",
    "Sp_attack: El Ataque Especial Base del Pokémon\n",
    "Sp_defense: La Defensa Especial Base del Pokémon\n",
    "Speed:La velocidad base del Pokémon\n",
    "Generation: Generación numerada en la que se introdujo por primera vez el Pokémon\n",
    "Is_legendary:Indica si el Pokémon es legendario."
   ]
  },
  {
   "cell_type": "code",
   "execution_count": 162,
   "metadata": {},
   "outputs": [
    {
     "name": "stdout",
     "output_type": "stream",
     "text": [
      "<class 'pandas.core.frame.DataFrame'>\n",
      "RangeIndex: 801 entries, 0 to 800\n",
      "Data columns (total 41 columns):\n",
      " #   Column             Non-Null Count  Dtype  \n",
      "---  ------             --------------  -----  \n",
      " 0   abilities          801 non-null    object \n",
      " 1   against_bug        801 non-null    float64\n",
      " 2   against_dark       801 non-null    float64\n",
      " 3   against_dragon     801 non-null    float64\n",
      " 4   against_electric   801 non-null    float64\n",
      " 5   against_fairy      801 non-null    float64\n",
      " 6   against_fight      801 non-null    float64\n",
      " 7   against_fire       801 non-null    float64\n",
      " 8   against_flying     801 non-null    float64\n",
      " 9   against_ghost      801 non-null    float64\n",
      " 10  against_grass      801 non-null    float64\n",
      " 11  against_ground     801 non-null    float64\n",
      " 12  against_ice        801 non-null    float64\n",
      " 13  against_normal     801 non-null    float64\n",
      " 14  against_poison     801 non-null    float64\n",
      " 15  against_psychic    801 non-null    float64\n",
      " 16  against_rock       801 non-null    float64\n",
      " 17  against_steel      801 non-null    float64\n",
      " 18  against_water      801 non-null    float64\n",
      " 19  attack             801 non-null    int64  \n",
      " 20  base_egg_steps     801 non-null    int64  \n",
      " 21  base_happiness     801 non-null    int64  \n",
      " 22  base_total         801 non-null    int64  \n",
      " 23  capture_rate       801 non-null    object \n",
      " 24  classfication      801 non-null    object \n",
      " 25  defense            801 non-null    int64  \n",
      " 26  experience_growth  801 non-null    int64  \n",
      " 27  height_m           781 non-null    float64\n",
      " 28  hp                 801 non-null    int64  \n",
      " 29  japanese_name      801 non-null    object \n",
      " 30  name               801 non-null    object \n",
      " 31  percentage_male    703 non-null    float64\n",
      " 32  pokedex_number     801 non-null    int64  \n",
      " 33  sp_attack          801 non-null    int64  \n",
      " 34  sp_defense         801 non-null    int64  \n",
      " 35  speed              801 non-null    int64  \n",
      " 36  type1              801 non-null    object \n",
      " 37  type2              417 non-null    object \n",
      " 38  weight_kg          781 non-null    float64\n",
      " 39  generation         801 non-null    int64  \n",
      " 40  is_legendary       801 non-null    int64  \n",
      "dtypes: float64(21), int64(13), object(7)\n",
      "memory usage: 256.7+ KB\n"
     ]
    }
   ],
   "source": [
    "data.info()"
   ]
  },
  {
   "cell_type": "code",
   "execution_count": 163,
   "metadata": {},
   "outputs": [
    {
     "data": {
      "text/html": [
       "<div>\n",
       "<style scoped>\n",
       "    .dataframe tbody tr th:only-of-type {\n",
       "        vertical-align: middle;\n",
       "    }\n",
       "\n",
       "    .dataframe tbody tr th {\n",
       "        vertical-align: top;\n",
       "    }\n",
       "\n",
       "    .dataframe thead th {\n",
       "        text-align: right;\n",
       "    }\n",
       "</style>\n",
       "<table border=\"1\" class=\"dataframe\">\n",
       "  <thead>\n",
       "    <tr style=\"text-align: right;\">\n",
       "      <th></th>\n",
       "      <th>abilities</th>\n",
       "      <th>against_bug</th>\n",
       "      <th>against_dark</th>\n",
       "      <th>against_dragon</th>\n",
       "      <th>against_electric</th>\n",
       "      <th>against_fairy</th>\n",
       "      <th>against_fight</th>\n",
       "      <th>against_fire</th>\n",
       "      <th>against_flying</th>\n",
       "      <th>against_ghost</th>\n",
       "      <th>...</th>\n",
       "      <th>percentage_male</th>\n",
       "      <th>pokedex_number</th>\n",
       "      <th>sp_attack</th>\n",
       "      <th>sp_defense</th>\n",
       "      <th>speed</th>\n",
       "      <th>type1</th>\n",
       "      <th>type2</th>\n",
       "      <th>weight_kg</th>\n",
       "      <th>generation</th>\n",
       "      <th>is_legendary</th>\n",
       "    </tr>\n",
       "  </thead>\n",
       "  <tbody>\n",
       "    <tr>\n",
       "      <th>0</th>\n",
       "      <td>['Overgrow', 'Chlorophyll']</td>\n",
       "      <td>1.0</td>\n",
       "      <td>1.0</td>\n",
       "      <td>1.0</td>\n",
       "      <td>0.5</td>\n",
       "      <td>0.5</td>\n",
       "      <td>0.5</td>\n",
       "      <td>2.0</td>\n",
       "      <td>2.0</td>\n",
       "      <td>1.0</td>\n",
       "      <td>...</td>\n",
       "      <td>88.1</td>\n",
       "      <td>1</td>\n",
       "      <td>65</td>\n",
       "      <td>65</td>\n",
       "      <td>45</td>\n",
       "      <td>grass</td>\n",
       "      <td>poison</td>\n",
       "      <td>6.9</td>\n",
       "      <td>1</td>\n",
       "      <td>0</td>\n",
       "    </tr>\n",
       "    <tr>\n",
       "      <th>1</th>\n",
       "      <td>['Overgrow', 'Chlorophyll']</td>\n",
       "      <td>1.0</td>\n",
       "      <td>1.0</td>\n",
       "      <td>1.0</td>\n",
       "      <td>0.5</td>\n",
       "      <td>0.5</td>\n",
       "      <td>0.5</td>\n",
       "      <td>2.0</td>\n",
       "      <td>2.0</td>\n",
       "      <td>1.0</td>\n",
       "      <td>...</td>\n",
       "      <td>88.1</td>\n",
       "      <td>2</td>\n",
       "      <td>80</td>\n",
       "      <td>80</td>\n",
       "      <td>60</td>\n",
       "      <td>grass</td>\n",
       "      <td>poison</td>\n",
       "      <td>13.0</td>\n",
       "      <td>1</td>\n",
       "      <td>0</td>\n",
       "    </tr>\n",
       "    <tr>\n",
       "      <th>2</th>\n",
       "      <td>['Overgrow', 'Chlorophyll']</td>\n",
       "      <td>1.0</td>\n",
       "      <td>1.0</td>\n",
       "      <td>1.0</td>\n",
       "      <td>0.5</td>\n",
       "      <td>0.5</td>\n",
       "      <td>0.5</td>\n",
       "      <td>2.0</td>\n",
       "      <td>2.0</td>\n",
       "      <td>1.0</td>\n",
       "      <td>...</td>\n",
       "      <td>88.1</td>\n",
       "      <td>3</td>\n",
       "      <td>122</td>\n",
       "      <td>120</td>\n",
       "      <td>80</td>\n",
       "      <td>grass</td>\n",
       "      <td>poison</td>\n",
       "      <td>100.0</td>\n",
       "      <td>1</td>\n",
       "      <td>0</td>\n",
       "    </tr>\n",
       "    <tr>\n",
       "      <th>3</th>\n",
       "      <td>['Blaze', 'Solar Power']</td>\n",
       "      <td>0.5</td>\n",
       "      <td>1.0</td>\n",
       "      <td>1.0</td>\n",
       "      <td>1.0</td>\n",
       "      <td>0.5</td>\n",
       "      <td>1.0</td>\n",
       "      <td>0.5</td>\n",
       "      <td>1.0</td>\n",
       "      <td>1.0</td>\n",
       "      <td>...</td>\n",
       "      <td>88.1</td>\n",
       "      <td>4</td>\n",
       "      <td>60</td>\n",
       "      <td>50</td>\n",
       "      <td>65</td>\n",
       "      <td>fire</td>\n",
       "      <td>NaN</td>\n",
       "      <td>8.5</td>\n",
       "      <td>1</td>\n",
       "      <td>0</td>\n",
       "    </tr>\n",
       "    <tr>\n",
       "      <th>4</th>\n",
       "      <td>['Blaze', 'Solar Power']</td>\n",
       "      <td>0.5</td>\n",
       "      <td>1.0</td>\n",
       "      <td>1.0</td>\n",
       "      <td>1.0</td>\n",
       "      <td>0.5</td>\n",
       "      <td>1.0</td>\n",
       "      <td>0.5</td>\n",
       "      <td>1.0</td>\n",
       "      <td>1.0</td>\n",
       "      <td>...</td>\n",
       "      <td>88.1</td>\n",
       "      <td>5</td>\n",
       "      <td>80</td>\n",
       "      <td>65</td>\n",
       "      <td>80</td>\n",
       "      <td>fire</td>\n",
       "      <td>NaN</td>\n",
       "      <td>19.0</td>\n",
       "      <td>1</td>\n",
       "      <td>0</td>\n",
       "    </tr>\n",
       "  </tbody>\n",
       "</table>\n",
       "<p>5 rows × 41 columns</p>\n",
       "</div>"
      ],
      "text/plain": [
       "                     abilities  against_bug  against_dark  against_dragon   \n",
       "0  ['Overgrow', 'Chlorophyll']          1.0           1.0             1.0  \\\n",
       "1  ['Overgrow', 'Chlorophyll']          1.0           1.0             1.0   \n",
       "2  ['Overgrow', 'Chlorophyll']          1.0           1.0             1.0   \n",
       "3     ['Blaze', 'Solar Power']          0.5           1.0             1.0   \n",
       "4     ['Blaze', 'Solar Power']          0.5           1.0             1.0   \n",
       "\n",
       "   against_electric  against_fairy  against_fight  against_fire   \n",
       "0               0.5            0.5            0.5           2.0  \\\n",
       "1               0.5            0.5            0.5           2.0   \n",
       "2               0.5            0.5            0.5           2.0   \n",
       "3               1.0            0.5            1.0           0.5   \n",
       "4               1.0            0.5            1.0           0.5   \n",
       "\n",
       "   against_flying  against_ghost  ...  percentage_male  pokedex_number   \n",
       "0             2.0            1.0  ...             88.1               1  \\\n",
       "1             2.0            1.0  ...             88.1               2   \n",
       "2             2.0            1.0  ...             88.1               3   \n",
       "3             1.0            1.0  ...             88.1               4   \n",
       "4             1.0            1.0  ...             88.1               5   \n",
       "\n",
       "   sp_attack  sp_defense  speed  type1   type2  weight_kg  generation   \n",
       "0         65          65     45  grass  poison        6.9           1  \\\n",
       "1         80          80     60  grass  poison       13.0           1   \n",
       "2        122         120     80  grass  poison      100.0           1   \n",
       "3         60          50     65   fire     NaN        8.5           1   \n",
       "4         80          65     80   fire     NaN       19.0           1   \n",
       "\n",
       "   is_legendary  \n",
       "0             0  \n",
       "1             0  \n",
       "2             0  \n",
       "3             0  \n",
       "4             0  \n",
       "\n",
       "[5 rows x 41 columns]"
      ]
     },
     "execution_count": 163,
     "metadata": {},
     "output_type": "execute_result"
    }
   ],
   "source": [
    "data.head()"
   ]
  },
  {
   "cell_type": "code",
   "execution_count": 234,
   "metadata": {},
   "outputs": [
    {
     "data": {
      "text/plain": [
       "height_m      20\n",
       "type2        384\n",
       "weight_kg     20\n",
       "dtype: int64"
      ]
     },
     "execution_count": 234,
     "metadata": {},
     "output_type": "execute_result"
    }
   ],
   "source": [
    "nulos = data.isnull().sum(axis=0)\n",
    "nulos[nulos>0]"
   ]
  },
  {
   "attachments": {},
   "cell_type": "markdown",
   "metadata": {},
   "source": [
    "Pokemón sin sexo"
   ]
  },
  {
   "cell_type": "code",
   "execution_count": 265,
   "metadata": {},
   "outputs": [
    {
     "data": {
      "text/html": [
       "<div>\n",
       "<style scoped>\n",
       "    .dataframe tbody tr th:only-of-type {\n",
       "        vertical-align: middle;\n",
       "    }\n",
       "\n",
       "    .dataframe tbody tr th {\n",
       "        vertical-align: top;\n",
       "    }\n",
       "\n",
       "    .dataframe thead th {\n",
       "        text-align: right;\n",
       "    }\n",
       "</style>\n",
       "<table border=\"1\" class=\"dataframe\">\n",
       "  <thead>\n",
       "    <tr style=\"text-align: right;\">\n",
       "      <th></th>\n",
       "      <th>name</th>\n",
       "      <th>weight_kg</th>\n",
       "      <th>height_m</th>\n",
       "    </tr>\n",
       "  </thead>\n",
       "  <tbody>\n",
       "    <tr>\n",
       "      <th>18</th>\n",
       "      <td>Rattata</td>\n",
       "      <td>NaN</td>\n",
       "      <td>NaN</td>\n",
       "    </tr>\n",
       "    <tr>\n",
       "      <th>19</th>\n",
       "      <td>Raticate</td>\n",
       "      <td>NaN</td>\n",
       "      <td>NaN</td>\n",
       "    </tr>\n",
       "    <tr>\n",
       "      <th>25</th>\n",
       "      <td>Raichu</td>\n",
       "      <td>NaN</td>\n",
       "      <td>NaN</td>\n",
       "    </tr>\n",
       "    <tr>\n",
       "      <th>26</th>\n",
       "      <td>Sandshrew</td>\n",
       "      <td>NaN</td>\n",
       "      <td>NaN</td>\n",
       "    </tr>\n",
       "    <tr>\n",
       "      <th>27</th>\n",
       "      <td>Sandslash</td>\n",
       "      <td>NaN</td>\n",
       "      <td>NaN</td>\n",
       "    </tr>\n",
       "    <tr>\n",
       "      <th>36</th>\n",
       "      <td>Vulpix</td>\n",
       "      <td>NaN</td>\n",
       "      <td>NaN</td>\n",
       "    </tr>\n",
       "    <tr>\n",
       "      <th>37</th>\n",
       "      <td>Ninetales</td>\n",
       "      <td>NaN</td>\n",
       "      <td>NaN</td>\n",
       "    </tr>\n",
       "    <tr>\n",
       "      <th>49</th>\n",
       "      <td>Diglett</td>\n",
       "      <td>NaN</td>\n",
       "      <td>NaN</td>\n",
       "    </tr>\n",
       "    <tr>\n",
       "      <th>50</th>\n",
       "      <td>Dugtrio</td>\n",
       "      <td>NaN</td>\n",
       "      <td>NaN</td>\n",
       "    </tr>\n",
       "    <tr>\n",
       "      <th>51</th>\n",
       "      <td>Meowth</td>\n",
       "      <td>NaN</td>\n",
       "      <td>NaN</td>\n",
       "    </tr>\n",
       "    <tr>\n",
       "      <th>52</th>\n",
       "      <td>Persian</td>\n",
       "      <td>NaN</td>\n",
       "      <td>NaN</td>\n",
       "    </tr>\n",
       "    <tr>\n",
       "      <th>73</th>\n",
       "      <td>Geodude</td>\n",
       "      <td>NaN</td>\n",
       "      <td>NaN</td>\n",
       "    </tr>\n",
       "    <tr>\n",
       "      <th>74</th>\n",
       "      <td>Graveler</td>\n",
       "      <td>NaN</td>\n",
       "      <td>NaN</td>\n",
       "    </tr>\n",
       "    <tr>\n",
       "      <th>75</th>\n",
       "      <td>Golem</td>\n",
       "      <td>NaN</td>\n",
       "      <td>NaN</td>\n",
       "    </tr>\n",
       "    <tr>\n",
       "      <th>87</th>\n",
       "      <td>Grimer</td>\n",
       "      <td>NaN</td>\n",
       "      <td>NaN</td>\n",
       "    </tr>\n",
       "    <tr>\n",
       "      <th>88</th>\n",
       "      <td>Muk</td>\n",
       "      <td>NaN</td>\n",
       "      <td>NaN</td>\n",
       "    </tr>\n",
       "    <tr>\n",
       "      <th>102</th>\n",
       "      <td>Exeggutor</td>\n",
       "      <td>NaN</td>\n",
       "      <td>NaN</td>\n",
       "    </tr>\n",
       "    <tr>\n",
       "      <th>104</th>\n",
       "      <td>Marowak</td>\n",
       "      <td>NaN</td>\n",
       "      <td>NaN</td>\n",
       "    </tr>\n",
       "    <tr>\n",
       "      <th>719</th>\n",
       "      <td>Hoopa</td>\n",
       "      <td>NaN</td>\n",
       "      <td>NaN</td>\n",
       "    </tr>\n",
       "    <tr>\n",
       "      <th>744</th>\n",
       "      <td>Lycanroc</td>\n",
       "      <td>NaN</td>\n",
       "      <td>NaN</td>\n",
       "    </tr>\n",
       "  </tbody>\n",
       "</table>\n",
       "</div>"
      ],
      "text/plain": [
       "          name  weight_kg  height_m\n",
       "18     Rattata        NaN       NaN\n",
       "19    Raticate        NaN       NaN\n",
       "25      Raichu        NaN       NaN\n",
       "26   Sandshrew        NaN       NaN\n",
       "27   Sandslash        NaN       NaN\n",
       "36      Vulpix        NaN       NaN\n",
       "37   Ninetales        NaN       NaN\n",
       "49     Diglett        NaN       NaN\n",
       "50     Dugtrio        NaN       NaN\n",
       "51      Meowth        NaN       NaN\n",
       "52     Persian        NaN       NaN\n",
       "73     Geodude        NaN       NaN\n",
       "74    Graveler        NaN       NaN\n",
       "75       Golem        NaN       NaN\n",
       "87      Grimer        NaN       NaN\n",
       "88         Muk        NaN       NaN\n",
       "102  Exeggutor        NaN       NaN\n",
       "104    Marowak        NaN       NaN\n",
       "719      Hoopa        NaN       NaN\n",
       "744   Lycanroc        NaN       NaN"
      ]
     },
     "execution_count": 265,
     "metadata": {},
     "output_type": "execute_result"
    }
   ],
   "source": [
    "data[data.weight_kg.isnull()][[\"name\",\"weight_kg\",\"height_m\"] ]"
   ]
  },
  {
   "cell_type": "code",
   "execution_count": 252,
   "metadata": {},
   "outputs": [
    {
     "data": {
      "text/plain": [
       "weight_kg\n",
       "False    801\n",
       "Name: count, dtype: int64"
      ]
     },
     "execution_count": 252,
     "metadata": {},
     "output_type": "execute_result"
    }
   ],
   "source": [
    "b=data[\"weight_kg\"]== \n",
    "b.value_counts()"
   ]
  },
  {
   "cell_type": "code",
   "execution_count": null,
   "metadata": {},
   "outputs": [],
   "source": []
  },
  {
   "attachments": {},
   "cell_type": "markdown",
   "metadata": {},
   "source": [
    "Se crea una columna adicional para el porcentaje de sexo femenino, por ende, para los pokemón que no poseen sexo, se dejan en 0 las 2 columnas de sexo."
   ]
  },
  {
   "cell_type": "code",
   "execution_count": 184,
   "metadata": {},
   "outputs": [],
   "source": [
    "data[\"percentage_female\"]= [ 100-i for i in data.percentage_male]\n",
    "data[\"percentage_female\"]=data[\"percentage_female\"].fillna(0)\n",
    "data[\"percentage_male\"]=data[\"percentage_male\"].fillna(0)"
   ]
  },
  {
   "attachments": {},
   "cell_type": "markdown",
   "metadata": {},
   "source": [
    "### Descarte de variables"
   ]
  },
  {
   "attachments": {},
   "cell_type": "markdown",
   "metadata": {},
   "source": [
    "Se descartan las siguientes variables:\n",
    "* abilitites: están fuera del alcance.\n",
    "* classfication: no provee mucha información.\n",
    "* japanese_name: se va a trabajar con el nombre en inglés \"name\".\n",
    "* pokedex_number: al ser un índice no da información adicional.\n",
    "* type2: la mayoría de registros son de 1 solo tipo por ende se deja fuera del alcance."
   ]
  },
  {
   "cell_type": "code",
   "execution_count": 210,
   "metadata": {},
   "outputs": [],
   "source": [
    "# data[\"abilities\",\"classfication\",\"japanese_name\",\"pokedex_number\",\"type2\"]\n",
    "\n",
    "datos = data.loc[:,~data.columns.isin([\"abilities\",\"classfication\",\"japanese_name\",\"pokedex_number\",\"type2\"])]"
   ]
  },
  {
   "attachments": {},
   "cell_type": "markdown",
   "metadata": {},
   "source": [
    "## Estadística exploratoria\n",
    "------"
   ]
  },
  {
   "cell_type": "code",
   "execution_count": 211,
   "metadata": {},
   "outputs": [
    {
     "data": {
      "text/html": [
       "<div>\n",
       "<style scoped>\n",
       "    .dataframe tbody tr th:only-of-type {\n",
       "        vertical-align: middle;\n",
       "    }\n",
       "\n",
       "    .dataframe tbody tr th {\n",
       "        vertical-align: top;\n",
       "    }\n",
       "\n",
       "    .dataframe thead th {\n",
       "        text-align: right;\n",
       "    }\n",
       "</style>\n",
       "<table border=\"1\" class=\"dataframe\">\n",
       "  <thead>\n",
       "    <tr style=\"text-align: right;\">\n",
       "      <th></th>\n",
       "      <th></th>\n",
       "      <th>against_bug</th>\n",
       "      <th>against_dark</th>\n",
       "      <th>against_dragon</th>\n",
       "      <th>against_electric</th>\n",
       "      <th>against_fairy</th>\n",
       "      <th>against_fight</th>\n",
       "      <th>against_fire</th>\n",
       "      <th>against_flying</th>\n",
       "      <th>against_ghost</th>\n",
       "      <th>against_grass</th>\n",
       "      <th>...</th>\n",
       "      <th>height_m</th>\n",
       "      <th>hp</th>\n",
       "      <th>percentage_male</th>\n",
       "      <th>sp_attack</th>\n",
       "      <th>sp_defense</th>\n",
       "      <th>speed</th>\n",
       "      <th>weight_kg</th>\n",
       "      <th>generation</th>\n",
       "      <th>is_legendary</th>\n",
       "      <th>percentage_female</th>\n",
       "    </tr>\n",
       "    <tr>\n",
       "      <th>Type</th>\n",
       "      <th>Measurement</th>\n",
       "      <th></th>\n",
       "      <th></th>\n",
       "      <th></th>\n",
       "      <th></th>\n",
       "      <th></th>\n",
       "      <th></th>\n",
       "      <th></th>\n",
       "      <th></th>\n",
       "      <th></th>\n",
       "      <th></th>\n",
       "      <th></th>\n",
       "      <th></th>\n",
       "      <th></th>\n",
       "      <th></th>\n",
       "      <th></th>\n",
       "      <th></th>\n",
       "      <th></th>\n",
       "      <th></th>\n",
       "      <th></th>\n",
       "      <th></th>\n",
       "      <th></th>\n",
       "    </tr>\n",
       "  </thead>\n",
       "  <tbody>\n",
       "    <tr>\n",
       "      <th rowspan=\"2\" valign=\"top\">Structure</th>\n",
       "      <th>Na count</th>\n",
       "      <td>0.00</td>\n",
       "      <td>0.00</td>\n",
       "      <td>0.00</td>\n",
       "      <td>0.00</td>\n",
       "      <td>0.00</td>\n",
       "      <td>0.00</td>\n",
       "      <td>0.00</td>\n",
       "      <td>0.00</td>\n",
       "      <td>0.00</td>\n",
       "      <td>0.00</td>\n",
       "      <td>...</td>\n",
       "      <td>20.00</td>\n",
       "      <td>0.00</td>\n",
       "      <td>0.00</td>\n",
       "      <td>0.00</td>\n",
       "      <td>0.00</td>\n",
       "      <td>0.00</td>\n",
       "      <td>20.00</td>\n",
       "      <td>0.00</td>\n",
       "      <td>0.00</td>\n",
       "      <td>0.00</td>\n",
       "    </tr>\n",
       "    <tr>\n",
       "      <th>count</th>\n",
       "      <td>801.00</td>\n",
       "      <td>801.00</td>\n",
       "      <td>801.00</td>\n",
       "      <td>801.00</td>\n",
       "      <td>801.00</td>\n",
       "      <td>801.00</td>\n",
       "      <td>801.00</td>\n",
       "      <td>801.00</td>\n",
       "      <td>801.00</td>\n",
       "      <td>801.00</td>\n",
       "      <td>...</td>\n",
       "      <td>781.00</td>\n",
       "      <td>801.00</td>\n",
       "      <td>801.00</td>\n",
       "      <td>801.00</td>\n",
       "      <td>801.00</td>\n",
       "      <td>801.00</td>\n",
       "      <td>781.00</td>\n",
       "      <td>801.00</td>\n",
       "      <td>801.00</td>\n",
       "      <td>801.00</td>\n",
       "    </tr>\n",
       "    <tr>\n",
       "      <th rowspan=\"3\" valign=\"top\">Central t.</th>\n",
       "      <th>mean</th>\n",
       "      <td>1.00</td>\n",
       "      <td>1.06</td>\n",
       "      <td>0.97</td>\n",
       "      <td>1.07</td>\n",
       "      <td>1.07</td>\n",
       "      <td>1.07</td>\n",
       "      <td>1.14</td>\n",
       "      <td>1.19</td>\n",
       "      <td>0.99</td>\n",
       "      <td>1.03</td>\n",
       "      <td>...</td>\n",
       "      <td>1.16</td>\n",
       "      <td>68.96</td>\n",
       "      <td>48.41</td>\n",
       "      <td>71.31</td>\n",
       "      <td>70.91</td>\n",
       "      <td>66.33</td>\n",
       "      <td>61.38</td>\n",
       "      <td>3.69</td>\n",
       "      <td>0.09</td>\n",
       "      <td>39.36</td>\n",
       "    </tr>\n",
       "    <tr>\n",
       "      <th>mode</th>\n",
       "      <td>1.00</td>\n",
       "      <td>1.00</td>\n",
       "      <td>1.00</td>\n",
       "      <td>1.00</td>\n",
       "      <td>1.00</td>\n",
       "      <td>1.00</td>\n",
       "      <td>1.00</td>\n",
       "      <td>1.00</td>\n",
       "      <td>1.00</td>\n",
       "      <td>1.00</td>\n",
       "      <td>...</td>\n",
       "      <td>0.60</td>\n",
       "      <td>60.00</td>\n",
       "      <td>50.00</td>\n",
       "      <td>40.00</td>\n",
       "      <td>50.00</td>\n",
       "      <td>60.00</td>\n",
       "      <td>15.00</td>\n",
       "      <td>5.00</td>\n",
       "      <td>0.00</td>\n",
       "      <td>50.00</td>\n",
       "    </tr>\n",
       "    <tr>\n",
       "      <th>median</th>\n",
       "      <td>1.00</td>\n",
       "      <td>1.00</td>\n",
       "      <td>1.00</td>\n",
       "      <td>1.00</td>\n",
       "      <td>1.00</td>\n",
       "      <td>1.00</td>\n",
       "      <td>1.00</td>\n",
       "      <td>1.00</td>\n",
       "      <td>1.00</td>\n",
       "      <td>1.00</td>\n",
       "      <td>...</td>\n",
       "      <td>1.00</td>\n",
       "      <td>65.00</td>\n",
       "      <td>50.00</td>\n",
       "      <td>65.00</td>\n",
       "      <td>66.00</td>\n",
       "      <td>65.00</td>\n",
       "      <td>27.30</td>\n",
       "      <td>4.00</td>\n",
       "      <td>0.00</td>\n",
       "      <td>50.00</td>\n",
       "    </tr>\n",
       "    <tr>\n",
       "      <th rowspan=\"2\" valign=\"top\">Dispersion</th>\n",
       "      <th>std</th>\n",
       "      <td>0.60</td>\n",
       "      <td>0.44</td>\n",
       "      <td>0.35</td>\n",
       "      <td>0.65</td>\n",
       "      <td>0.52</td>\n",
       "      <td>0.72</td>\n",
       "      <td>0.69</td>\n",
       "      <td>0.60</td>\n",
       "      <td>0.56</td>\n",
       "      <td>0.79</td>\n",
       "      <td>...</td>\n",
       "      <td>1.08</td>\n",
       "      <td>26.58</td>\n",
       "      <td>26.22</td>\n",
       "      <td>32.35</td>\n",
       "      <td>27.94</td>\n",
       "      <td>28.91</td>\n",
       "      <td>109.35</td>\n",
       "      <td>1.93</td>\n",
       "      <td>0.28</td>\n",
       "      <td>24.01</td>\n",
       "    </tr>\n",
       "    <tr>\n",
       "      <th>var</th>\n",
       "      <td>0.36</td>\n",
       "      <td>0.19</td>\n",
       "      <td>0.12</td>\n",
       "      <td>0.43</td>\n",
       "      <td>0.27</td>\n",
       "      <td>0.51</td>\n",
       "      <td>0.48</td>\n",
       "      <td>0.37</td>\n",
       "      <td>0.31</td>\n",
       "      <td>0.62</td>\n",
       "      <td>...</td>\n",
       "      <td>1.17</td>\n",
       "      <td>706.28</td>\n",
       "      <td>687.31</td>\n",
       "      <td>1046.77</td>\n",
       "      <td>780.78</td>\n",
       "      <td>835.65</td>\n",
       "      <td>11958.46</td>\n",
       "      <td>3.73</td>\n",
       "      <td>0.08</td>\n",
       "      <td>576.45</td>\n",
       "    </tr>\n",
       "    <tr>\n",
       "      <th rowspan=\"2\" valign=\"top\">Shape</th>\n",
       "      <th>kurt</th>\n",
       "      <td>5.00</td>\n",
       "      <td>5.41</td>\n",
       "      <td>4.45</td>\n",
       "      <td>2.11</td>\n",
       "      <td>9.83</td>\n",
       "      <td>2.68</td>\n",
       "      <td>3.75</td>\n",
       "      <td>5.06</td>\n",
       "      <td>2.03</td>\n",
       "      <td>4.59</td>\n",
       "      <td>...</td>\n",
       "      <td>43.10</td>\n",
       "      <td>8.33</td>\n",
       "      <td>-0.03</td>\n",
       "      <td>0.41</td>\n",
       "      <td>1.53</td>\n",
       "      <td>-0.12</td>\n",
       "      <td>31.74</td>\n",
       "      <td>-1.12</td>\n",
       "      <td>6.59</td>\n",
       "      <td>-0.10</td>\n",
       "    </tr>\n",
       "    <tr>\n",
       "      <th>skew</th>\n",
       "      <td>1.76</td>\n",
       "      <td>1.72</td>\n",
       "      <td>0.00</td>\n",
       "      <td>0.93</td>\n",
       "      <td>2.48</td>\n",
       "      <td>1.26</td>\n",
       "      <td>1.61</td>\n",
       "      <td>1.77</td>\n",
       "      <td>0.45</td>\n",
       "      <td>1.97</td>\n",
       "      <td>...</td>\n",
       "      <td>5.08</td>\n",
       "      <td>1.83</td>\n",
       "      <td>-0.33</td>\n",
       "      <td>0.78</td>\n",
       "      <td>0.87</td>\n",
       "      <td>0.44</td>\n",
       "      <td>4.87</td>\n",
       "      <td>0.12</td>\n",
       "      <td>2.93</td>\n",
       "      <td>-0.14</td>\n",
       "    </tr>\n",
       "    <tr>\n",
       "      <th rowspan=\"2\" valign=\"top\">Range</th>\n",
       "      <th>max</th>\n",
       "      <td>4.00</td>\n",
       "      <td>4.00</td>\n",
       "      <td>2.00</td>\n",
       "      <td>4.00</td>\n",
       "      <td>4.00</td>\n",
       "      <td>4.00</td>\n",
       "      <td>4.00</td>\n",
       "      <td>4.00</td>\n",
       "      <td>4.00</td>\n",
       "      <td>4.00</td>\n",
       "      <td>...</td>\n",
       "      <td>14.50</td>\n",
       "      <td>255.00</td>\n",
       "      <td>100.00</td>\n",
       "      <td>194.00</td>\n",
       "      <td>230.00</td>\n",
       "      <td>180.00</td>\n",
       "      <td>999.90</td>\n",
       "      <td>7.00</td>\n",
       "      <td>1.00</td>\n",
       "      <td>100.00</td>\n",
       "    </tr>\n",
       "    <tr>\n",
       "      <th>min</th>\n",
       "      <td>0.25</td>\n",
       "      <td>0.25</td>\n",
       "      <td>0.00</td>\n",
       "      <td>0.00</td>\n",
       "      <td>0.25</td>\n",
       "      <td>0.00</td>\n",
       "      <td>0.25</td>\n",
       "      <td>0.25</td>\n",
       "      <td>0.00</td>\n",
       "      <td>0.25</td>\n",
       "      <td>...</td>\n",
       "      <td>0.10</td>\n",
       "      <td>1.00</td>\n",
       "      <td>0.00</td>\n",
       "      <td>10.00</td>\n",
       "      <td>20.00</td>\n",
       "      <td>5.00</td>\n",
       "      <td>0.10</td>\n",
       "      <td>1.00</td>\n",
       "      <td>0.00</td>\n",
       "      <td>0.00</td>\n",
       "    </tr>\n",
       "  </tbody>\n",
       "</table>\n",
       "<p>11 rows × 34 columns</p>\n",
       "</div>"
      ],
      "text/plain": [
       "                        against_bug  against_dark  against_dragon   \n",
       "Type       Measurement                                              \n",
       "Structure  Na count            0.00          0.00            0.00  \\\n",
       "           count             801.00        801.00          801.00   \n",
       "Central t. mean                1.00          1.06            0.97   \n",
       "           mode                1.00          1.00            1.00   \n",
       "           median              1.00          1.00            1.00   \n",
       "Dispersion std                 0.60          0.44            0.35   \n",
       "           var                 0.36          0.19            0.12   \n",
       "Shape      kurt                5.00          5.41            4.45   \n",
       "           skew                1.76          1.72            0.00   \n",
       "Range      max                 4.00          4.00            2.00   \n",
       "           min                 0.25          0.25            0.00   \n",
       "\n",
       "                        against_electric  against_fairy  against_fight   \n",
       "Type       Measurement                                                   \n",
       "Structure  Na count                 0.00           0.00           0.00  \\\n",
       "           count                  801.00         801.00         801.00   \n",
       "Central t. mean                     1.07           1.07           1.07   \n",
       "           mode                     1.00           1.00           1.00   \n",
       "           median                   1.00           1.00           1.00   \n",
       "Dispersion std                      0.65           0.52           0.72   \n",
       "           var                      0.43           0.27           0.51   \n",
       "Shape      kurt                     2.11           9.83           2.68   \n",
       "           skew                     0.93           2.48           1.26   \n",
       "Range      max                      4.00           4.00           4.00   \n",
       "           min                      0.00           0.25           0.00   \n",
       "\n",
       "                        against_fire  against_flying  against_ghost   \n",
       "Type       Measurement                                                \n",
       "Structure  Na count             0.00            0.00           0.00  \\\n",
       "           count              801.00          801.00         801.00   \n",
       "Central t. mean                 1.14            1.19           0.99   \n",
       "           mode                 1.00            1.00           1.00   \n",
       "           median               1.00            1.00           1.00   \n",
       "Dispersion std                  0.69            0.60           0.56   \n",
       "           var                  0.48            0.37           0.31   \n",
       "Shape      kurt                 3.75            5.06           2.03   \n",
       "           skew                 1.61            1.77           0.45   \n",
       "Range      max                  4.00            4.00           4.00   \n",
       "           min                  0.25            0.25           0.00   \n",
       "\n",
       "                        against_grass  ...  height_m      hp  percentage_male   \n",
       "Type       Measurement                 ...                                      \n",
       "Structure  Na count              0.00  ...     20.00    0.00             0.00  \\\n",
       "           count               801.00  ...    781.00  801.00           801.00   \n",
       "Central t. mean                  1.03  ...      1.16   68.96            48.41   \n",
       "           mode                  1.00  ...      0.60   60.00            50.00   \n",
       "           median                1.00  ...      1.00   65.00            50.00   \n",
       "Dispersion std                   0.79  ...      1.08   26.58            26.22   \n",
       "           var                   0.62  ...      1.17  706.28           687.31   \n",
       "Shape      kurt                  4.59  ...     43.10    8.33            -0.03   \n",
       "           skew                  1.97  ...      5.08    1.83            -0.33   \n",
       "Range      max                   4.00  ...     14.50  255.00           100.00   \n",
       "           min                   0.25  ...      0.10    1.00             0.00   \n",
       "\n",
       "                        sp_attack  sp_defense   speed  weight_kg  generation   \n",
       "Type       Measurement                                                         \n",
       "Structure  Na count          0.00        0.00    0.00      20.00        0.00  \\\n",
       "           count           801.00      801.00  801.00     781.00      801.00   \n",
       "Central t. mean             71.31       70.91   66.33      61.38        3.69   \n",
       "           mode             40.00       50.00   60.00      15.00        5.00   \n",
       "           median           65.00       66.00   65.00      27.30        4.00   \n",
       "Dispersion std              32.35       27.94   28.91     109.35        1.93   \n",
       "           var            1046.77      780.78  835.65   11958.46        3.73   \n",
       "Shape      kurt              0.41        1.53   -0.12      31.74       -1.12   \n",
       "           skew              0.78        0.87    0.44       4.87        0.12   \n",
       "Range      max             194.00      230.00  180.00     999.90        7.00   \n",
       "           min              10.00       20.00    5.00       0.10        1.00   \n",
       "\n",
       "                        is_legendary  percentage_female  \n",
       "Type       Measurement                                   \n",
       "Structure  Na count             0.00               0.00  \n",
       "           count              801.00             801.00  \n",
       "Central t. mean                 0.09              39.36  \n",
       "           mode                 0.00              50.00  \n",
       "           median               0.00              50.00  \n",
       "Dispersion std                  0.28              24.01  \n",
       "           var                  0.08             576.45  \n",
       "Shape      kurt                 6.59              -0.10  \n",
       "           skew                 2.93              -0.14  \n",
       "Range      max                  1.00             100.00  \n",
       "           min                  0.00               0.00  \n",
       "\n",
       "[11 rows x 34 columns]"
      ]
     },
     "execution_count": 211,
     "metadata": {},
     "output_type": "execute_result"
    }
   ],
   "source": [
    "categorical_data = data.select_dtypes(include=['object']).columns\n",
    "def est_exploratoria(data,categoricas):\n",
    "    \"\"\"\n",
    "    tablas de estadística exploratoria\n",
    "    ---\n",
    "    data : dataframe\n",
    "    categoricas : lista con nombre de variables a tratar como categoricas\n",
    "    \n",
    "    \"\"\"\n",
    "    datos = data.loc[:,~data.columns.isin(categoricas)]\n",
    "\n",
    "    df0 = datos.agg([lambda x : sum(x.isna()),\"count\",]).rename(index={\"<lambda>\": 'Na count'})\n",
    "    df1 = datos.agg([\"mean\"])\n",
    "    df2 = datos.agg(pd.Series.mode).loc[[0]].rename(index={0: 'mode'})\n",
    "    df3 = datos.agg([\"median\",\"std\",\"var\",\"kurt\",\"skew\",\"max\",\"min\"])\n",
    "\n",
    "    df = pd.concat([df0,df1,df2, df3])\n",
    "\n",
    "    df[\"Measurement\"] = df.index\n",
    "    df[\"Type\"]=[\"Structure\",\"Structure\",\"Central t.\",\"Central t.\",\"Central t.\",\"Dispersion\",\"Dispersion\",\"Shape\",\"Shape\",\"Range\",\"Range\"]\n",
    "    df.set_index(\"Type\", append=False, inplace=True)\n",
    "    df.set_index(\"Measurement\", append=True, inplace=True)\n",
    "\n",
    "    numerica=df.round(decimals=2)\n",
    "\n",
    "    datos = data.loc[:,data.columns.isin(categoricas)]\n",
    "\n",
    "\n",
    "    df0 = datos.agg([lambda x : sum(x.isna())]).rename(index={\"<lambda>\": 'Na count'})\n",
    "\n",
    "    df = pd.concat([df0,datos.describe(include=['object',\"string\"])])\n",
    "\n",
    "    categorica=df.round(decimals=2)\n",
    "    return numerica, categorica\n",
    "\n",
    "numerica, categorica = est_exploratoria(datos,categorical_data)\n",
    "\n",
    "numerica\n"
   ]
  },
  {
   "cell_type": "code",
   "execution_count": 189,
   "metadata": {},
   "outputs": [
    {
     "data": {
      "text/html": [
       "<div>\n",
       "<style scoped>\n",
       "    .dataframe tbody tr th:only-of-type {\n",
       "        vertical-align: middle;\n",
       "    }\n",
       "\n",
       "    .dataframe tbody tr th {\n",
       "        vertical-align: top;\n",
       "    }\n",
       "\n",
       "    .dataframe thead th {\n",
       "        text-align: right;\n",
       "    }\n",
       "</style>\n",
       "<table border=\"1\" class=\"dataframe\">\n",
       "  <thead>\n",
       "    <tr style=\"text-align: right;\">\n",
       "      <th></th>\n",
       "      <th>capture_rate</th>\n",
       "      <th>name</th>\n",
       "      <th>type1</th>\n",
       "    </tr>\n",
       "  </thead>\n",
       "  <tbody>\n",
       "    <tr>\n",
       "      <th>Na count</th>\n",
       "      <td>0</td>\n",
       "      <td>0</td>\n",
       "      <td>0</td>\n",
       "    </tr>\n",
       "    <tr>\n",
       "      <th>count</th>\n",
       "      <td>801</td>\n",
       "      <td>801</td>\n",
       "      <td>801</td>\n",
       "    </tr>\n",
       "    <tr>\n",
       "      <th>unique</th>\n",
       "      <td>34</td>\n",
       "      <td>801</td>\n",
       "      <td>18</td>\n",
       "    </tr>\n",
       "    <tr>\n",
       "      <th>top</th>\n",
       "      <td>45</td>\n",
       "      <td>Bulbasaur</td>\n",
       "      <td>water</td>\n",
       "    </tr>\n",
       "    <tr>\n",
       "      <th>freq</th>\n",
       "      <td>250</td>\n",
       "      <td>1</td>\n",
       "      <td>114</td>\n",
       "    </tr>\n",
       "  </tbody>\n",
       "</table>\n",
       "</div>"
      ],
      "text/plain": [
       "         capture_rate       name  type1\n",
       "Na count            0          0      0\n",
       "count             801        801    801\n",
       "unique             34        801     18\n",
       "top                45  Bulbasaur  water\n",
       "freq              250          1    114"
      ]
     },
     "execution_count": 189,
     "metadata": {},
     "output_type": "execute_result"
    }
   ],
   "source": [
    "categorica"
   ]
  },
  {
   "attachments": {},
   "cell_type": "markdown",
   "metadata": {},
   "source": [
    "## Visualización de datos\n",
    "------"
   ]
  },
  {
   "cell_type": "code",
   "execution_count": 226,
   "metadata": {},
   "outputs": [
    {
     "name": "stderr",
     "output_type": "stream",
     "text": [
      "C:\\Users\\andre\\AppData\\Local\\Temp\\ipykernel_25028\\2099431093.py:5: UserWarning:\n",
      "\n",
      "\n",
      "\n",
      "The `bw` parameter is deprecated in favor of `bw_method` and `bw_adjust`.\n",
      "Setting `bw_method=0.5`, but please see the docs for the new parameters\n",
      "and update your code. This will become an error in seaborn v0.13.0.\n",
      "\n",
      "\n"
     ]
    },
    {
     "data": {
      "text/plain": [
       "<Axes: ylabel='Density'>"
      ]
     },
     "execution_count": 226,
     "metadata": {},
     "output_type": "execute_result"
    },
    {
     "data": {
      "image/png": "[encoded data removed]",
      "text/plain": [
       "<Figure size 640x480 with 1 Axes>"
      ]
     },
     "metadata": {},
     "output_type": "display_data"
    }
   ],
   "source": [
    "a=datos[datos.columns[pd.Series(datos.columns).str.startswith('against')]]\n",
    "\n",
    "\n",
    "sns.set_style('whitegrid')\n",
    "sns.kdeplot(a, bw=0.5)"
   ]
  },
  {
   "cell_type": "code",
   "execution_count": 323,
   "metadata": {},
   "outputs": [
    {
     "data": {
      "text/html": [
       "<div>\n",
       "<style scoped>\n",
       "    .dataframe tbody tr th:only-of-type {\n",
       "        vertical-align: middle;\n",
       "    }\n",
       "\n",
       "    .dataframe tbody tr th {\n",
       "        vertical-align: top;\n",
       "    }\n",
       "\n",
       "    .dataframe thead th {\n",
       "        text-align: right;\n",
       "    }\n",
       "</style>\n",
       "<table border=\"1\" class=\"dataframe\">\n",
       "  <thead>\n",
       "    <tr style=\"text-align: right;\">\n",
       "      <th></th>\n",
       "      <th>type1</th>\n",
       "      <th>variable</th>\n",
       "      <th>value</th>\n",
       "    </tr>\n",
       "  </thead>\n",
       "  <tbody>\n",
       "    <tr>\n",
       "      <th>0</th>\n",
       "      <td>bug</td>\n",
       "      <td>against_bug</td>\n",
       "      <td>0.826389</td>\n",
       "    </tr>\n",
       "    <tr>\n",
       "      <th>1</th>\n",
       "      <td>dark</td>\n",
       "      <td>against_bug</td>\n",
       "      <td>1.724138</td>\n",
       "    </tr>\n",
       "    <tr>\n",
       "      <th>2</th>\n",
       "      <td>dragon</td>\n",
       "      <td>against_bug</td>\n",
       "      <td>0.944444</td>\n",
       "    </tr>\n",
       "    <tr>\n",
       "      <th>3</th>\n",
       "      <td>electric</td>\n",
       "      <td>against_bug</td>\n",
       "      <td>0.871795</td>\n",
       "    </tr>\n",
       "    <tr>\n",
       "      <th>4</th>\n",
       "      <td>fairy</td>\n",
       "      <td>against_bug</td>\n",
       "      <td>0.472222</td>\n",
       "    </tr>\n",
       "  </tbody>\n",
       "</table>\n",
       "</div>"
      ],
      "text/plain": [
       "      type1     variable     value\n",
       "0       bug  against_bug  0.826389\n",
       "1      dark  against_bug  1.724138\n",
       "2    dragon  against_bug  0.944444\n",
       "3  electric  against_bug  0.871795\n",
       "4     fairy  against_bug  0.472222"
      ]
     },
     "execution_count": 323,
     "metadata": {},
     "output_type": "execute_result"
    }
   ],
   "source": [
    "contras1=datos[datos.columns[\n",
    "    (pd.Series(datos.columns).str.startswith('against')) | \n",
    "    (datos.columns==\"type1\")]].groupby([\"type1\"]).agg(\"mean\")\n",
    "\n",
    "contras=contras1\n",
    "contras.reset_index(inplace=True)\n",
    "\n",
    "contras=pd.melt(contras, id_vars='type1')\n",
    "contras.head()"
   ]
  },
  {
   "cell_type": "code",
   "execution_count": 325,
   "metadata": {},
   "outputs": [
    {
     "data": {
      "image/png": "[encoded data removed]",
      "text/plain": [
       "<Figure size 640x480 with 2 Axes>"
      ]
     },
     "metadata": {},
     "output_type": "display_data"
    }
   ],
   "source": [
    "df_heatmap = contras.pivot_table(values='value',index='type1',columns='variable',aggfunc=np.mean)\n",
    "sns.heatmap(df_heatmap,annot=True)\n",
    "plt.show()"
   ]
  },
  {
   "cell_type": "code",
   "execution_count": 327,
   "metadata": {},
   "outputs": [
    {
     "data": {
      "application/vnd.plotly.v1+json": {
       "config": {
        "plotlyServerURL": "https://plot.ly"
       },
       "data": [
        {
         "coloraxis": "coloraxis",
         "hovertemplate": "x: %{x}<br>y: %{y}<br>color: %{z}<extra></extra>",
         "name": "0",
         "type": "heatmap",
         "x": [
          "type1",
          "against_bug",
          "against_dark",
          "against_dragon",
          "against_electric",
          "against_fairy",
          "against_fight",
          "against_fire",
          "against_flying",
          "against_ghost",
          "against_grass",
          "against_ground",
          "against_ice",
          "against_normal",
          "against_poison",
          "against_psychic",
          "against_rock",
          "against_steel",
          "against_water"
         ],
         "xaxis": "x",
         "y": [
          0,
          1,
          2,
          3,
          4,
          5,
          6,
          7,
          8,
          9,
          10,
          11,
          12,
          13,
          14,
          15,
          16,
          17
         ],
         "yaxis": "y",
         "z": [
          [
           "bug",
           0.8263888888888888,
           0.9791666666666666,
           0.9375,
           1.1388888888888888,
           0.9166666666666666,
           0.4583333333333333,
           2.1944444444444446,
           2.0833333333333335,
           1.0138888888888888,
           0.4201388888888889,
           0.5625,
           1.2083333333333333,
           0.9305555555555556,
           0.9305555555555556,
           1.1597222222222223,
           2.2916666666666665,
           0.9722222222222222,
           1.0208333333333333
          ],
          [
           "dark",
           1.7241379310344827,
           0.5344827586206896,
           1.103448275862069,
           1.103448275862069,
           2.2758620689655173,
           1.9655172413793103,
           1.0344827586206897,
           1.0344827586206897,
           0.5517241379310345,
           0.7758620689655172,
           0.9655172413793104,
           1.206896551724138,
           0.9310344827586207,
           0.9137931034482759,
           0,
           1.2413793103448276,
           1,
           1
          ],
          [
           "dragon",
           0.9444444444444444,
           1.037037037037037,
           2,
           0.49074074074074076,
           2.111111111111111,
           0.9259259259259259,
           0.5092592592592593,
           1.0555555555555556,
           1.0740740740740742,
           0.5277777777777778,
           0.9259259259259259,
           2.5185185185185186,
           1,
           0.9259259259259259,
           1.037037037037037,
           1.1111111111111112,
           1,
           0.5925925925925926
          ],
          [
           "electric",
           0.8717948717948718,
           1,
           0.8974358974358975,
           0.5384615384615384,
           0.9487179487179487,
           1.064102564102564,
           1.1025641025641026,
           0.47435897435897434,
           0.9743589743589743,
           0.9102564102564102,
           2.051282051282051,
           1.0256410256410255,
           0.9230769230769231,
           0.9358974358974359,
           0.9487179487179487,
           1.0256410256410255,
           0.5,
           1
          ],
          [
           "fairy",
           0.4722222222222222,
           0.5,
           0,
           1.1111111111111112,
           1,
           0.4722222222222222,
           1,
           1,
           1,
           0.9444444444444444,
           0.8888888888888888,
           1.1111111111111112,
           1,
           2,
           1,
           1.1111111111111112,
           2,
           1
          ],
          [
           "fighting",
           0.5357142857142857,
           0.5267857142857143,
           0.9821428571428571,
           1.0357142857142858,
           2.0357142857142856,
           1.0535714285714286,
           1.0714285714285714,
           1.9642857142857142,
           1.0535714285714286,
           0.9642857142857143,
           1,
           1,
           0.9821428571428571,
           0.9642857142857143,
           1.8214285714285714,
           0.5267857142857143,
           1.0178571428571428,
           1
          ],
          [
           "fire",
           0.4567307692307692,
           0.9519230769230769,
           1.0096153846153846,
           1.0865384615384615,
           0.5721153846153846,
           1.0288461538461537,
           0.4951923076923077,
           1.0961538461538463,
           0.9711538461538461,
           0.5,
           1.8461538461538463,
           0.5769230769230769,
           0.9807692307692307,
           0.9519230769230769,
           1.0769230769230769,
           2.0576923076923075,
           0.5,
           2.076923076923077
          ],
          [
           "flying",
           0.5,
           1,
           1.6666666666666667,
           1.3333333333333333,
           1.6666666666666667,
           0.5,
           0.6666666666666666,
           1,
           1,
           0.3333333333333333,
           0,
           3.3333333333333335,
           1,
           1,
           1,
           2,
           1,
           0.6666666666666666
          ],
          [
           "ghost",
           0.5277777777777778,
           1.9259259259259258,
           1,
           0.8888888888888888,
           0.9629629629629629,
           0,
           1.1111111111111112,
           1.1851851851851851,
           1.962962962962963,
           0.8148148148148148,
           1.0555555555555556,
           1.3148148148148149,
           0,
           0.5648148148148148,
           1.0740740740740742,
           1.1481481481481481,
           0.9814814814814815,
           1.0740740740740742
          ],
          [
           "grass",
           1.7179487179487178,
           0.967948717948718,
           0.9166666666666666,
           0.532051282051282,
           0.967948717948718,
           0.9166666666666666,
           2.128205128205128,
           2.0384615384615383,
           1.0192307692307692,
           0.4326923076923077,
           0.5705128205128205,
           2.1153846153846154,
           0.967948717948718,
           1.8461538461538463,
           1.1474358974358974,
           1.0576923076923077,
           1.0705128205128205,
           0.5064102564102564
          ],
          [
           "ground",
           1.0625,
           1.078125,
           1.046875,
           0,
           1.140625,
           1.078125,
           0.953125,
           0.921875,
           1.078125,
           2,
           1.0625,
           2.28125,
           0.875,
           0.4453125,
           0.859375,
           0.5390625,
           1.0625,
           2.125
          ],
          [
           "ice",
           1.0217391304347827,
           1.1304347826086956,
           1,
           1.0869565217391304,
           1,
           1.7391304347826086,
           1.8695652173913044,
           1,
           1.1304347826086956,
           1.2173913043478262,
           0.9130434782608695,
           0.5760869565217391,
           0.9565217391304348,
           0.9130434782608695,
           0.9565217391304348,
           2.0434782608695654,
           1.8695652173913044,
           1.065217391304348
          ],
          [
           "normal",
           0.8952380952380953,
           1,
           0.9714285714285714,
           1.2333333333333334,
           1.0285714285714285,
           1.6857142857142857,
           1.0095238095238095,
           1.0380952380952382,
           0,
           0.8809523809523809,
           0.7428571428571429,
           1.2809523809523808,
           1,
           1.0523809523809524,
           1.0047619047619047,
           1.2333333333333334,
           1.0333333333333334,
           0.9904761904761905
          ],
          [
           "poison",
           0.4921875,
           0.921875,
           1.03125,
           1.109375,
           0.578125,
           0.515625,
           0.9375,
           1.09375,
           0.953125,
           0.5234375,
           1.90625,
           1.109375,
           1,
           0.484375,
           1.9375,
           1.125,
           0.921875,
           1.0625
          ],
          [
           "psychic",
           1.7169811320754718,
           1.9433962264150944,
           0.8773584905660378,
           1.1037735849056605,
           1,
           0.4339622641509434,
           1.028301886792453,
           1.028301886792453,
           2.0754716981132075,
           0.9150943396226415,
           0.9150943396226415,
           1.1132075471698113,
           0.9528301886792453,
           1.0943396226415094,
           0.5047169811320755,
           1.1132075471698113,
           1.0943396226415094,
           1.009433962264151
          ],
          [
           "rock",
           0.9888888888888889,
           1,
           0.9666666666666667,
           1.0444444444444445,
           1.0444444444444445,
           2.022222222222222,
           0.5555555555555556,
           0.5388888888888889,
           1.0333333333333334,
           2.2222222222222223,
           1.9111111111111112,
           1.1888888888888889,
           0.48333333333333334,
           0.4722222222222222,
           0.9666666666666667,
           1.0666666666666667,
           1.9777777777777779,
           2.0444444444444443
          ],
          [
           "steel",
           0.53125,
           1.2916666666666667,
           0.4583333333333333,
           1.0208333333333333,
           0.5416666666666666,
           1.5416666666666667,
           1.8333333333333333,
           0.4895833333333333,
           1.375,
           0.5520833333333334,
           2.0833333333333335,
           0.5833333333333334,
           0.40625,
           0,
           0.4583333333333333,
           0.5208333333333334,
           0.625,
           1.1458333333333333
          ],
          [
           "water",
           1.0219298245614035,
           1.0175438596491229,
           0.9780701754385965,
           1.9035087719298245,
           1.0526315789473684,
           0.9956140350877193,
           0.5263157894736842,
           1.030701754385965,
           1.043859649122807,
           2.0701754385964914,
           1.0043859649122806,
           0.5833333333333334,
           0.9605263157894737,
           0.9736842105263158,
           0.9824561403508771,
           1.0526315789473684,
           0.5416666666666666,
           0.5460526315789473
          ]
         ]
        }
       ],
       "layout": {
        "coloraxis": {
         "colorscale": [
          [
           0,
           "#0d0887"
          ],
          [
           0.1111111111111111,
           "#46039f"
          ],
          [
           0.2222222222222222,
           "#7201a8"
          ],
          [
           0.3333333333333333,
           "#9c179e"
          ],
          [
           0.4444444444444444,
           "#bd3786"
          ],
          [
           0.5555555555555556,
           "#d8576b"
          ],
          [
           0.6666666666666666,
           "#ed7953"
          ],
          [
           0.7777777777777778,
           "#fb9f3a"
          ],
          [
           0.8888888888888888,
           "#fdca26"
          ],
          [
           1,
           "#f0f921"
          ]
         ]
        },
        "margin": {
         "t": 60
        },
        "template": {
         "data": {
          "bar": [
           {
            "error_x": {
             "color": "#2a3f5f"
            },
            "error_y": {
             "color": "#2a3f5f"
            },
            "marker": {
             "line": {
              "color": "#E5ECF6",
              "width": 0.5
             },
             "pattern": {
              "fillmode": "overlay",
              "size": 10,
              "solidity": 0.2
             }
            },
            "type": "bar"
           }
          ],
          "barpolar": [
           {
            "marker": {
             "line": {
              "color": "#E5ECF6",
              "width": 0.5
             },
             "pattern": {
              "fillmode": "overlay",
              "size": 10,
              "solidity": 0.2
             }
            },
            "type": "barpolar"
           }
          ],
          "carpet": [
           {
            "aaxis": {
             "endlinecolor": "#2a3f5f",
             "gridcolor": "white",
             "linecolor": "white",
             "minorgridcolor": "white",
             "startlinecolor": "#2a3f5f"
            },
            "baxis": {
             "endlinecolor": "#2a3f5f",
             "gridcolor": "white",
             "linecolor": "white",
             "minorgridcolor": "white",
             "startlinecolor": "#2a3f5f"
            },
            "type": "carpet"
           }
          ],
          "choropleth": [
           {
            "colorbar": {
             "outlinewidth": 0,
             "ticks": ""
            },
            "type": "choropleth"
           }
          ],
          "contour": [
           {
            "colorbar": {
             "outlinewidth": 0,
             "ticks": ""
            },
            "colorscale": [
             [
              0,
              "#0d0887"
             ],
             [
              0.1111111111111111,
              "#46039f"
             ],
             [
              0.2222222222222222,
              "#7201a8"
             ],
             [
              0.3333333333333333,
              "#9c179e"
             ],
             [
              0.4444444444444444,
              "#bd3786"
             ],
             [
              0.5555555555555556,
              "#d8576b"
             ],
             [
              0.6666666666666666,
              "#ed7953"
             ],
             [
              0.7777777777777778,
              "#fb9f3a"
             ],
             [
              0.8888888888888888,
              "#fdca26"
             ],
             [
              1,
              "#f0f921"
             ]
            ],
            "type": "contour"
           }
          ],
          "contourcarpet": [
           {
            "colorbar": {
             "outlinewidth": 0,
             "ticks": ""
            },
            "type": "contourcarpet"
           }
          ],
          "heatmap": [
           {
            "colorbar": {
             "outlinewidth": 0,
             "ticks": ""
            },
            "colorscale": [
             [
              0,
              "#0d0887"
             ],
             [
              0.1111111111111111,
              "#46039f"
             ],
             [
              0.2222222222222222,
              "#7201a8"
             ],
             [
              0.3333333333333333,
              "#9c179e"
             ],
             [
              0.4444444444444444,
              "#bd3786"
             ],
             [
              0.5555555555555556,
              "#d8576b"
             ],
             [
              0.6666666666666666,
              "#ed7953"
             ],
             [
              0.7777777777777778,
              "#fb9f3a"
             ],
             [
              0.8888888888888888,
              "#fdca26"
             ],
             [
              1,
              "#f0f921"
             ]
            ],
            "type": "heatmap"
           }
          ],
          "heatmapgl": [
           {
            "colorbar": {
             "outlinewidth": 0,
             "ticks": ""
            },
            "colorscale": [
             [
              0,
              "#0d0887"
             ],
             [
              0.1111111111111111,
              "#46039f"
             ],
             [
              0.2222222222222222,
              "#7201a8"
             ],
             [
              0.3333333333333333,
              "#9c179e"
             ],
             [
              0.4444444444444444,
              "#bd3786"
             ],
             [
              0.5555555555555556,
              "#d8576b"
             ],
             [
              0.6666666666666666,
              "#ed7953"
             ],
             [
              0.7777777777777778,
              "#fb9f3a"
             ],
             [
              0.8888888888888888,
              "#fdca26"
             ],
             [
              1,
              "#f0f921"
             ]
            ],
            "type": "heatmapgl"
           }
          ],
          "histogram": [
           {
            "marker": {
             "pattern": {
              "fillmode": "overlay",
              "size": 10,
              "solidity": 0.2
             }
            },
            "type": "histogram"
           }
          ],
          "histogram2d": [
           {
            "colorbar": {
             "outlinewidth": 0,
             "ticks": ""
            },
            "colorscale": [
             [
              0,
              "#0d0887"
             ],
             [
              0.1111111111111111,
              "#46039f"
             ],
             [
              0.2222222222222222,
              "#7201a8"
             ],
             [
              0.3333333333333333,
              "#9c179e"
             ],
             [
              0.4444444444444444,
              "#bd3786"
             ],
             [
              0.5555555555555556,
              "#d8576b"
             ],
             [
              0.6666666666666666,
              "#ed7953"
             ],
             [
              0.7777777777777778,
              "#fb9f3a"
             ],
             [
              0.8888888888888888,
              "#fdca26"
             ],
             [
              1,
              "#f0f921"
             ]
            ],
            "type": "histogram2d"
           }
          ],
          "histogram2dcontour": [
           {
            "colorbar": {
             "outlinewidth": 0,
             "ticks": ""
            },
            "colorscale": [
             [
              0,
              "#0d0887"
             ],
             [
              0.1111111111111111,
              "#46039f"
             ],
             [
              0.2222222222222222,
              "#7201a8"
             ],
             [
              0.3333333333333333,
              "#9c179e"
             ],
             [
              0.4444444444444444,
              "#bd3786"
             ],
             [
              0.5555555555555556,
              "#d8576b"
             ],
             [
              0.6666666666666666,
              "#ed7953"
             ],
             [
              0.7777777777777778,
              "#fb9f3a"
             ],
             [
              0.8888888888888888,
              "#fdca26"
             ],
             [
              1,
              "#f0f921"
             ]
            ],
            "type": "histogram2dcontour"
           }
          ],
          "mesh3d": [
           {
            "colorbar": {
             "outlinewidth": 0,
             "ticks": ""
            },
            "type": "mesh3d"
           }
          ],
          "parcoords": [
           {
            "line": {
             "colorbar": {
              "outlinewidth": 0,
              "ticks": ""
             }
            },
            "type": "parcoords"
           }
          ],
          "pie": [
           {
            "automargin": true,
            "type": "pie"
           }
          ],
          "scatter": [
           {
            "fillpattern": {
             "fillmode": "overlay",
             "size": 10,
             "solidity": 0.2
            },
            "type": "scatter"
           }
          ],
          "scatter3d": [
           {
            "line": {
             "colorbar": {
              "outlinewidth": 0,
              "ticks": ""
             }
            },
            "marker": {
             "colorbar": {
              "outlinewidth": 0,
              "ticks": ""
             }
            },
            "type": "scatter3d"
           }
          ],
          "scattercarpet": [
           {
            "marker": {
             "colorbar": {
              "outlinewidth": 0,
              "ticks": ""
             }
            },
            "type": "scattercarpet"
           }
          ],
          "scattergeo": [
           {
            "marker": {
             "colorbar": {
              "outlinewidth": 0,
              "ticks": ""
             }
            },
            "type": "scattergeo"
           }
          ],
          "scattergl": [
           {
            "marker": {
             "colorbar": {
              "outlinewidth": 0,
              "ticks": ""
             }
            },
            "type": "scattergl"
           }
          ],
          "scattermapbox": [
           {
            "marker": {
             "colorbar": {
              "outlinewidth": 0,
              "ticks": ""
             }
            },
            "type": "scattermapbox"
           }
          ],
          "scatterpolar": [
           {
            "marker": {
             "colorbar": {
              "outlinewidth": 0,
              "ticks": ""
             }
            },
            "type": "scatterpolar"
           }
          ],
          "scatterpolargl": [
           {
            "marker": {
             "colorbar": {
              "outlinewidth": 0,
              "ticks": ""
             }
            },
            "type": "scatterpolargl"
           }
          ],
          "scatterternary": [
           {
            "marker": {
             "colorbar": {
              "outlinewidth": 0,
              "ticks": ""
             }
            },
            "type": "scatterternary"
           }
          ],
          "surface": [
           {
            "colorbar": {
             "outlinewidth": 0,
             "ticks": ""
            },
            "colorscale": [
             [
              0,
              "#0d0887"
             ],
             [
              0.1111111111111111,
              "#46039f"
             ],
             [
              0.2222222222222222,
              "#7201a8"
             ],
             [
              0.3333333333333333,
              "#9c179e"
             ],
             [
              0.4444444444444444,
              "#bd3786"
             ],
             [
              0.5555555555555556,
              "#d8576b"
             ],
             [
              0.6666666666666666,
              "#ed7953"
             ],
             [
              0.7777777777777778,
              "#fb9f3a"
             ],
             [
              0.8888888888888888,
              "#fdca26"
             ],
             [
              1,
              "#f0f921"
             ]
            ],
            "type": "surface"
           }
          ],
          "table": [
           {
            "cells": {
             "fill": {
              "color": "#EBF0F8"
             },
             "line": {
              "color": "white"
             }
            },
            "header": {
             "fill": {
              "color": "#C8D4E3"
             },
             "line": {
              "color": "white"
             }
            },
            "type": "table"
           }
          ]
         },
         "layout": {
          "annotationdefaults": {
           "arrowcolor": "#2a3f5f",
           "arrowhead": 0,
           "arrowwidth": 1
          },
          "autotypenumbers": "strict",
          "coloraxis": {
           "colorbar": {
            "outlinewidth": 0,
            "ticks": ""
           }
          },
          "colorscale": {
           "diverging": [
            [
             0,
             "#8e0152"
            ],
            [
             0.1,
             "#c51b7d"
            ],
            [
             0.2,
             "#de77ae"
            ],
            [
             0.3,
             "#f1b6da"
            ],
            [
             0.4,
             "#fde0ef"
            ],
            [
             0.5,
             "#f7f7f7"
            ],
            [
             0.6,
             "#e6f5d0"
            ],
            [
             0.7,
             "#b8e186"
            ],
            [
             0.8,
             "#7fbc41"
            ],
            [
             0.9,
             "#4d9221"
            ],
            [
             1,
             "#276419"
            ]
           ],
           "sequential": [
            [
             0,
             "#0d0887"
            ],
            [
             0.1111111111111111,
             "#46039f"
            ],
            [
             0.2222222222222222,
             "#7201a8"
            ],
            [
             0.3333333333333333,
             "#9c179e"
            ],
            [
             0.4444444444444444,
             "#bd3786"
            ],
            [
             0.5555555555555556,
             "#d8576b"
            ],
            [
             0.6666666666666666,
             "#ed7953"
            ],
            [
             0.7777777777777778,
             "#fb9f3a"
            ],
            [
             0.8888888888888888,
             "#fdca26"
            ],
            [
             1,
             "#f0f921"
            ]
           ],
           "sequentialminus": [
            [
             0,
             "#0d0887"
            ],
            [
             0.1111111111111111,
             "#46039f"
            ],
            [
             0.2222222222222222,
             "#7201a8"
            ],
            [
             0.3333333333333333,
             "#9c179e"
            ],
            [
             0.4444444444444444,
             "#bd3786"
            ],
            [
             0.5555555555555556,
             "#d8576b"
            ],
            [
             0.6666666666666666,
             "#ed7953"
            ],
            [
             0.7777777777777778,
             "#fb9f3a"
            ],
            [
             0.8888888888888888,
             "#fdca26"
            ],
            [
             1,
             "#f0f921"
            ]
           ]
          },
          "colorway": [
           "#636efa",
           "#EF553B",
           "#00cc96",
           "#ab63fa",
           "#FFA15A",
           "#19d3f3",
           "#FF6692",
           "#B6E880",
           "#FF97FF",
           "#FECB52"
          ],
          "font": {
           "color": "#2a3f5f"
          },
          "geo": {
           "bgcolor": "white",
           "lakecolor": "white",
           "landcolor": "#E5ECF6",
           "showlakes": true,
           "showland": true,
           "subunitcolor": "white"
          },
          "hoverlabel": {
           "align": "left"
          },
          "hovermode": "closest",
          "mapbox": {
           "style": "light"
          },
          "paper_bgcolor": "white",
          "plot_bgcolor": "#E5ECF6",
          "polar": {
           "angularaxis": {
            "gridcolor": "white",
            "linecolor": "white",
            "ticks": ""
           },
           "bgcolor": "#E5ECF6",
           "radialaxis": {
            "gridcolor": "white",
            "linecolor": "white",
            "ticks": ""
           }
          },
          "scene": {
           "xaxis": {
            "backgroundcolor": "#E5ECF6",
            "gridcolor": "white",
            "gridwidth": 2,
            "linecolor": "white",
            "showbackground": true,
            "ticks": "",
            "zerolinecolor": "white"
           },
           "yaxis": {
            "backgroundcolor": "#E5ECF6",
            "gridcolor": "white",
            "gridwidth": 2,
            "linecolor": "white",
            "showbackground": true,
            "ticks": "",
            "zerolinecolor": "white"
           },
           "zaxis": {
            "backgroundcolor": "#E5ECF6",
            "gridcolor": "white",
            "gridwidth": 2,
            "linecolor": "white",
            "showbackground": true,
            "ticks": "",
            "zerolinecolor": "white"
           }
          },
          "shapedefaults": {
           "line": {
            "color": "#2a3f5f"
           }
          },
          "ternary": {
           "aaxis": {
            "gridcolor": "white",
            "linecolor": "white",
            "ticks": ""
           },
           "baxis": {
            "gridcolor": "white",
            "linecolor": "white",
            "ticks": ""
           },
           "bgcolor": "#E5ECF6",
           "caxis": {
            "gridcolor": "white",
            "linecolor": "white",
            "ticks": ""
           }
          },
          "title": {
           "x": 0.05
          },
          "xaxis": {
           "automargin": true,
           "gridcolor": "white",
           "linecolor": "white",
           "ticks": "",
           "title": {
            "standoff": 15
           },
           "zerolinecolor": "white",
           "zerolinewidth": 2
          },
          "yaxis": {
           "automargin": true,
           "gridcolor": "white",
           "linecolor": "white",
           "ticks": "",
           "title": {
            "standoff": 15
           },
           "zerolinecolor": "white",
           "zerolinewidth": 2
          }
         }
        },
        "xaxis": {
         "anchor": "y",
         "constrain": "domain",
         "domain": [
          0,
          1
         ],
         "scaleanchor": "y"
        },
        "yaxis": {
         "anchor": "x",
         "autorange": "reversed",
         "constrain": "domain",
         "domain": [
          0,
          1
         ]
        }
       }
      }
     },
     "metadata": {},
     "output_type": "display_data"
    }
   ],
   "source": [
    "import plotly.express as px\n",
    "fig = px.imshow(contras1)\n",
    "# fig.update_xaxes(side=\"top\")\n",
    "fig.show()"
   ]
  },
  {
   "cell_type": "code",
   "execution_count": 328,
   "metadata": {},
   "outputs": [
    {
     "ename": "AttributeError",
     "evalue": "'tuple' object has no attribute 'set_xticklabels'",
     "output_type": "error",
     "traceback": [
      "\u001b[1;31m---------------------------------------------------------------------------\u001b[0m",
      "\u001b[1;31mAttributeError\u001b[0m                            Traceback (most recent call last)",
      "Cell \u001b[1;32mIn[328], line 5\u001b[0m\n\u001b[0;32m      3\u001b[0m fig, axs \u001b[39m=\u001b[39m plt\u001b[39m.\u001b[39msubplots(figsize\u001b[39m=\u001b[39m(\u001b[39m10\u001b[39m, \u001b[39m10\u001b[39m))\n\u001b[0;32m      4\u001b[0m axs\u001b[39m=\u001b[39mplt\u001b[39m.\u001b[39mhist(datos[\u001b[39m\"\u001b[39m\u001b[39mtype1\u001b[39m\u001b[39m\"\u001b[39m])\n\u001b[1;32m----> 5\u001b[0m axs\u001b[39m.\u001b[39;49mset_xticklabels(np\u001b[39m.\u001b[39marange(\u001b[39m10\u001b[39m), rotation\u001b[39m=\u001b[39m\u001b[39m90\u001b[39m)\n\u001b[0;32m      7\u001b[0m \u001b[39m# axs.set_xlabel(\"Tipo de Pokemón\")\u001b[39;00m\n\u001b[0;32m      8\u001b[0m \u001b[39m# axs.set_ylabel(\"Frecuencia\")\u001b[39;00m\n\u001b[0;32m      9\u001b[0m \u001b[39m# plt.show()\u001b[39;00m\n",
      "\u001b[1;31mAttributeError\u001b[0m: 'tuple' object has no attribute 'set_xticklabels'"
     ]
    },
    {
     "data": {
      "image/png": "[encoded data removed]",
      "text/plain": [
       "<Figure size 1000x1000 with 1 Axes>"
      ]
     },
     "metadata": {},
     "output_type": "display_data"
    }
   ],
   "source": [
    "#tipos = datos[\"type1\"].unique()\n",
    "\n",
    "fig, axs = plt.subplots(figsize=(10, 10))\n",
    "axs=plt.hist(datos[\"type1\"])\n",
    "\n",
    "\n",
    "# axs.set_xlabel(\"Tipo de Pokemón\")\n",
    "# axs.set_ylabel(\"Frecuencia\")\n",
    "# plt.show()"
   ]
  },
  {
   "cell_type": "code",
   "execution_count": 155,
   "metadata": {},
   "outputs": [
    {
     "data": {
      "text/plain": [
       "array(['grass', 'fire', 'water', 'bug', 'normal', 'poison', 'electric',\n",
       "       'ground', 'fairy', 'fighting', 'psychic', 'rock', 'ghost', 'ice',\n",
       "       'dragon', 'dark', 'steel', 'flying'], dtype=object)"
      ]
     },
     "execution_count": 155,
     "metadata": {},
     "output_type": "execute_result"
    }
   ],
   "source": [
    "datos.type1.unique()"
   ]
  },
  {
   "attachments": {},
   "cell_type": "markdown",
   "metadata": {},
   "source": [
    "# Preparación de datos\n",
    "---"
   ]
  },
  {
   "attachments": {},
   "cell_type": "markdown",
   "metadata": {},
   "source": [
    "## Análisis de datos faltantes e imputaciones\n",
    "----"
   ]
  },
  {
   "cell_type": "code",
   "execution_count": null,
   "metadata": {},
   "outputs": [
    {
     "name": "stdout",
     "output_type": "stream",
     "text": [
      "Fuera de rango RestingBP :  1\n",
      "Fuera de rango Cholesterol :  179\n",
      "Fuera de rango Oldpeak :  13\n"
     ]
    }
   ],
   "source": [
    "# datos fuera de rango\n",
    "print(\"Fuera de rango RestingBP : \",data[(data[\"RestingBP\"]<60) | (data[\"RestingBP\"]>200)].shape[0])\n",
    "print(\"Fuera de rango Cholesterol : \",data[(data[\"Cholesterol\"]<120) | (data[\"Cholesterol\"]>600)].shape[0])\n",
    "print(\"Fuera de rango Oldpeak : \",data[(data[\"Oldpeak\"]<0) | (data[\"Oldpeak\"]>6.2)].shape[0])\n"
   ]
  },
  {
   "attachments": {},
   "cell_type": "markdown",
   "metadata": {},
   "source": [
    "## Filtros\n",
    "----"
   ]
  },
  {
   "attachments": {},
   "cell_type": "markdown",
   "metadata": {},
   "source": [
    "Como se explica en la sección anterior, se filtran los registros con caracterísitcas fuera de rango (escala común)."
   ]
  },
  {
   "cell_type": "code",
   "execution_count": null,
   "metadata": {},
   "outputs": [
    {
     "name": "stdout",
     "output_type": "stream",
     "text": [
      "Longitud original: 918\n",
      "Registros eliminados: 180\n",
      "Nueva longitud: 738\n"
     ]
    }
   ],
   "source": [
    "print(\"Longitud original:\",data.shape[0])\n",
    "\n",
    "data_fixed = data[(data[\"RestingBP\"]>=60) & (data[\"RestingBP\"]<=200) &\n",
    "     (data[\"Cholesterol\"]>=120) & (data[\"Cholesterol\"]<=600) & \n",
    "     (data[\"Oldpeak\"]>=0) & (data[\"Oldpeak\"]<=6.2)]\n",
    "\n",
    "print(\"Registros eliminados:\",data.shape[0]-data_fixed.shape[0])\n",
    "print(\"Nueva longitud:\",data_fixed.shape[0])"
   ]
  },
  {
   "attachments": {},
   "cell_type": "markdown",
   "metadata": {},
   "source": [
    "## Agrupaciones\n",
    "----"
   ]
  },
  {
   "cell_type": "code",
   "execution_count": null,
   "metadata": {},
   "outputs": [
    {
     "data": {
      "text/html": [
       "<div>\n",
       "<style scoped>\n",
       "    .dataframe tbody tr th:only-of-type {\n",
       "        vertical-align: middle;\n",
       "    }\n",
       "\n",
       "    .dataframe tbody tr th {\n",
       "        vertical-align: top;\n",
       "    }\n",
       "\n",
       "    .dataframe thead tr th {\n",
       "        text-align: left;\n",
       "    }\n",
       "\n",
       "    .dataframe thead tr:last-of-type th {\n",
       "        text-align: right;\n",
       "    }\n",
       "</style>\n",
       "<table border=\"1\" class=\"dataframe\">\n",
       "  <thead>\n",
       "    <tr>\n",
       "      <th></th>\n",
       "      <th></th>\n",
       "      <th colspan=\"2\" halign=\"left\">Age</th>\n",
       "      <th colspan=\"2\" halign=\"left\">RestingBP</th>\n",
       "      <th colspan=\"2\" halign=\"left\">Cholesterol</th>\n",
       "      <th colspan=\"2\" halign=\"left\">MaxHR</th>\n",
       "      <th colspan=\"2\" halign=\"left\">Oldpeak</th>\n",
       "    </tr>\n",
       "    <tr>\n",
       "      <th></th>\n",
       "      <th></th>\n",
       "      <th>mean</th>\n",
       "      <th>size</th>\n",
       "      <th>mean</th>\n",
       "      <th>size</th>\n",
       "      <th>mean</th>\n",
       "      <th>size</th>\n",
       "      <th>mean</th>\n",
       "      <th>size</th>\n",
       "      <th>mean</th>\n",
       "      <th>size</th>\n",
       "    </tr>\n",
       "    <tr>\n",
       "      <th>Sex</th>\n",
       "      <th>HeartDisease</th>\n",
       "      <th></th>\n",
       "      <th></th>\n",
       "      <th></th>\n",
       "      <th></th>\n",
       "      <th></th>\n",
       "      <th></th>\n",
       "      <th></th>\n",
       "      <th></th>\n",
       "      <th></th>\n",
       "      <th></th>\n",
       "    </tr>\n",
       "  </thead>\n",
       "  <tbody>\n",
       "    <tr>\n",
       "      <th rowspan=\"2\" valign=\"top\">F</th>\n",
       "      <th>0</th>\n",
       "      <td>51.12</td>\n",
       "      <td>142</td>\n",
       "      <td>128.77</td>\n",
       "      <td>142</td>\n",
       "      <td>249.18</td>\n",
       "      <td>142</td>\n",
       "      <td>149.18</td>\n",
       "      <td>142</td>\n",
       "      <td>0.44</td>\n",
       "      <td>142</td>\n",
       "    </tr>\n",
       "    <tr>\n",
       "      <th>1</th>\n",
       "      <td>56.02</td>\n",
       "      <td>40</td>\n",
       "      <td>143.38</td>\n",
       "      <td>40</td>\n",
       "      <td>279.18</td>\n",
       "      <td>40</td>\n",
       "      <td>139.25</td>\n",
       "      <td>40</td>\n",
       "      <td>1.47</td>\n",
       "      <td>40</td>\n",
       "    </tr>\n",
       "    <tr>\n",
       "      <th rowspan=\"2\" valign=\"top\">M</th>\n",
       "      <th>0</th>\n",
       "      <td>49.65</td>\n",
       "      <td>245</td>\n",
       "      <td>131.00</td>\n",
       "      <td>245</td>\n",
       "      <td>234.24</td>\n",
       "      <td>245</td>\n",
       "      <td>149.05</td>\n",
       "      <td>245</td>\n",
       "      <td>0.37</td>\n",
       "      <td>245</td>\n",
       "    </tr>\n",
       "    <tr>\n",
       "      <th>1</th>\n",
       "      <td>55.78</td>\n",
       "      <td>311</td>\n",
       "      <td>135.53</td>\n",
       "      <td>311</td>\n",
       "      <td>248.13</td>\n",
       "      <td>311</td>\n",
       "      <td>129.58</td>\n",
       "      <td>311</td>\n",
       "      <td>1.45</td>\n",
       "      <td>311</td>\n",
       "    </tr>\n",
       "  </tbody>\n",
       "</table>\n",
       "</div>"
      ],
      "text/plain": [
       "                    Age      RestingBP      Cholesterol        MaxHR       \\\n",
       "                   mean size      mean size        mean size    mean size   \n",
       "Sex HeartDisease                                                            \n",
       "F   0             51.12  142    128.77  142      249.18  142  149.18  142   \n",
       "    1             56.02   40    143.38   40      279.18   40  139.25   40   \n",
       "M   0             49.65  245    131.00  245      234.24  245  149.05  245   \n",
       "    1             55.78  311    135.53  311      248.13  311  129.58  311   \n",
       "\n",
       "                 Oldpeak       \n",
       "                    mean size  \n",
       "Sex HeartDisease               \n",
       "F   0               0.44  142  \n",
       "    1               1.47   40  \n",
       "M   0               0.37  245  \n",
       "    1               1.45  311  "
      ]
     },
     "execution_count": 125,
     "metadata": {},
     "output_type": "execute_result"
    }
   ],
   "source": [
    "data_fixed.groupby([\"Sex\",\"HeartDisease\"]).agg([\"mean\",\"size\"]).round(2)"
   ]
  },
  {
   "attachments": {},
   "cell_type": "markdown",
   "metadata": {},
   "source": [
    "Parece existir una diferencia entre las medias de las variables dado el sexo y si padecen enfermedad cardíaca, se procederá a analizar si realmente son significativas estas diferencias."
   ]
  },
  {
   "attachments": {},
   "cell_type": "markdown",
   "metadata": {},
   "source": [
    "## Construccion de tablas pivote y crosstab\n",
    "----"
   ]
  },
  {
   "attachments": {},
   "cell_type": "markdown",
   "metadata": {},
   "source": [
    "Tras ver la relación del *MaxHR* por *RestingECG* en el análisis gráfico, se desea ver el valor medio separado por el clasificador principal *HeartDisease*."
   ]
  },
  {
   "cell_type": "code",
   "execution_count": null,
   "metadata": {},
   "outputs": [
    {
     "data": {
      "text/html": [
       "<div>\n",
       "<style scoped>\n",
       "    .dataframe tbody tr th:only-of-type {\n",
       "        vertical-align: middle;\n",
       "    }\n",
       "\n",
       "    .dataframe tbody tr th {\n",
       "        vertical-align: top;\n",
       "    }\n",
       "\n",
       "    .dataframe thead th {\n",
       "        text-align: right;\n",
       "    }\n",
       "</style>\n",
       "<table border=\"1\" class=\"dataframe\">\n",
       "  <thead>\n",
       "    <tr style=\"text-align: right;\">\n",
       "      <th>HeartDisease</th>\n",
       "      <th>0</th>\n",
       "      <th>1</th>\n",
       "    </tr>\n",
       "    <tr>\n",
       "      <th>ChestPainType</th>\n",
       "      <th></th>\n",
       "      <th></th>\n",
       "    </tr>\n",
       "  </thead>\n",
       "  <tbody>\n",
       "    <tr>\n",
       "      <th>ASY</th>\n",
       "      <td>139.52</td>\n",
       "      <td>128.17</td>\n",
       "    </tr>\n",
       "    <tr>\n",
       "      <th>ATA</th>\n",
       "      <td>152.90</td>\n",
       "      <td>141.52</td>\n",
       "    </tr>\n",
       "    <tr>\n",
       "      <th>NAP</th>\n",
       "      <td>151.78</td>\n",
       "      <td>134.98</td>\n",
       "    </tr>\n",
       "    <tr>\n",
       "      <th>TA</th>\n",
       "      <td>150.50</td>\n",
       "      <td>147.73</td>\n",
       "    </tr>\n",
       "  </tbody>\n",
       "</table>\n",
       "</div>"
      ],
      "text/plain": [
       "HeartDisease        0       1\n",
       "ChestPainType                \n",
       "ASY            139.52  128.17\n",
       "ATA            152.90  141.52\n",
       "NAP            151.78  134.98\n",
       "TA             150.50  147.73"
      ]
     },
     "execution_count": 126,
     "metadata": {},
     "output_type": "execute_result"
    }
   ],
   "source": [
    "data_fixed.pivot_table(index=\"ChestPainType\",columns=\"HeartDisease\",values=\"MaxHR\",aggfunc=\"mean\").round(2)"
   ]
  },
  {
   "attachments": {},
   "cell_type": "markdown",
   "metadata": {},
   "source": [
    "* Se puede observar una menor media de \"MaxHR\" si el paciente padece enfermedad cardíaca, esto, para cada categoría de \"ChestPainType\"."
   ]
  },
  {
   "attachments": {},
   "cell_type": "markdown",
   "metadata": {},
   "source": [
    "# Análisis de datos\n"
   ]
  },
  {
   "attachments": {},
   "cell_type": "markdown",
   "metadata": {},
   "source": [
    "## Pruebas de correlación\n",
    "----\n"
   ]
  },
  {
   "cell_type": "code",
   "execution_count": null,
   "metadata": {},
   "outputs": [
    {
     "data": {
      "image/png": "[encoded data removed]",
      "text/plain": [
       "<Figure size 432x360 with 2 Axes>"
      ]
     },
     "metadata": {
      "needs_background": "light"
     },
     "output_type": "display_data"
    }
   ],
   "source": [
    "fig, ax = plt.subplots(figsize=(6,5))\n",
    "ax = sns.heatmap(data_fixed.corr().round(2),cmap='magma',vmin=-1,annot=True)\n",
    "ax.set_title(\"Correlation Matrix\");"
   ]
  },
  {
   "cell_type": "code",
   "execution_count": null,
   "metadata": {},
   "outputs": [
    {
     "data": {
      "text/html": [
       "<div>\n",
       "<style scoped>\n",
       "    .dataframe tbody tr th:only-of-type {\n",
       "        vertical-align: middle;\n",
       "    }\n",
       "\n",
       "    .dataframe tbody tr th {\n",
       "        vertical-align: top;\n",
       "    }\n",
       "\n",
       "    .dataframe thead th {\n",
       "        text-align: right;\n",
       "    }\n",
       "</style>\n",
       "<table border=\"1\" class=\"dataframe\">\n",
       "  <thead>\n",
       "    <tr style=\"text-align: right;\">\n",
       "      <th></th>\n",
       "      <th>Var_i</th>\n",
       "      <th>Var_j</th>\n",
       "      <th>Coef_corr</th>\n",
       "      <th>Correlacionada</th>\n",
       "      <th>p_value</th>\n",
       "    </tr>\n",
       "  </thead>\n",
       "  <tbody>\n",
       "    <tr>\n",
       "      <th>0</th>\n",
       "      <td>Age</td>\n",
       "      <td>RestingBP</td>\n",
       "      <td>0.263209</td>\n",
       "      <td>True</td>\n",
       "      <td>3.682124e-13</td>\n",
       "    </tr>\n",
       "    <tr>\n",
       "      <th>2</th>\n",
       "      <td>Age</td>\n",
       "      <td>MaxHR</td>\n",
       "      <td>-0.380071</td>\n",
       "      <td>True</td>\n",
       "      <td>8.926298e-27</td>\n",
       "    </tr>\n",
       "    <tr>\n",
       "      <th>3</th>\n",
       "      <td>Age</td>\n",
       "      <td>Oldpeak</td>\n",
       "      <td>0.282540</td>\n",
       "      <td>True</td>\n",
       "      <td>5.180863e-15</td>\n",
       "    </tr>\n",
       "    <tr>\n",
       "      <th>4</th>\n",
       "      <td>Age</td>\n",
       "      <td>HeartDisease</td>\n",
       "      <td>0.296911</td>\n",
       "      <td>True</td>\n",
       "      <td>1.739944e-16</td>\n",
       "    </tr>\n",
       "    <tr>\n",
       "      <th>18</th>\n",
       "      <td>MaxHR</td>\n",
       "      <td>Oldpeak</td>\n",
       "      <td>-0.256683</td>\n",
       "      <td>True</td>\n",
       "      <td>1.439216e-12</td>\n",
       "    </tr>\n",
       "    <tr>\n",
       "      <th>19</th>\n",
       "      <td>MaxHR</td>\n",
       "      <td>HeartDisease</td>\n",
       "      <td>-0.374328</td>\n",
       "      <td>True</td>\n",
       "      <td>5.813654e-26</td>\n",
       "    </tr>\n",
       "    <tr>\n",
       "      <th>24</th>\n",
       "      <td>Oldpeak</td>\n",
       "      <td>HeartDisease</td>\n",
       "      <td>0.491489</td>\n",
       "      <td>True</td>\n",
       "      <td>3.851994e-46</td>\n",
       "    </tr>\n",
       "  </tbody>\n",
       "</table>\n",
       "</div>"
      ],
      "text/plain": [
       "      Var_i         Var_j  Coef_corr  Correlacionada       p_value\n",
       "0       Age     RestingBP   0.263209            True  3.682124e-13\n",
       "2       Age         MaxHR  -0.380071            True  8.926298e-27\n",
       "3       Age       Oldpeak   0.282540            True  5.180863e-15\n",
       "4       Age  HeartDisease   0.296911            True  1.739944e-16\n",
       "18    MaxHR       Oldpeak  -0.256683            True  1.439216e-12\n",
       "19    MaxHR  HeartDisease  -0.374328            True  5.813654e-26\n",
       "24  Oldpeak  HeartDisease   0.491489            True  3.851994e-46"
      ]
     },
     "execution_count": 128,
     "metadata": {},
     "output_type": "execute_result"
    }
   ],
   "source": [
    "\n",
    "def tabla_corr_pearson(data_fixed,alfa,umbral):\n",
    "  newdf = data_fixed.select_dtypes(include=['int16', 'int32', 'int64', 'float16', 'float32', 'float64'])\n",
    "  result = []\n",
    "\n",
    "\n",
    "  for i in newdf.columns:\n",
    "    for j in newdf.columns:\n",
    "      if i!=j:\n",
    "        coef, p = stats.pearsonr(newdf[i], newdf[j])\n",
    "        result.append([i,j,coef,p < alfa,p])\n",
    "\n",
    "  correlaciones = pd.DataFrame(result,columns=[\"Var_i\",\"Var_j\",\"Coef_corr\",\"Correlacionada\",\"p_value\"])\n",
    "\n",
    "\n",
    "  return correlaciones[(correlaciones.Correlacionada==True) & (abs(correlaciones.Coef_corr)>=umbral)].drop_duplicates([\"Coef_corr\",\"p_value\"])\n",
    "\n",
    "\n",
    "tabla_corr_pearson(data_fixed,0.05,0.25)"
   ]
  },
  {
   "attachments": {},
   "cell_type": "markdown",
   "metadata": {},
   "source": [
    "## Construcción de intervalos de confianza\n",
    "----"
   ]
  },
  {
   "cell_type": "code",
   "execution_count": null,
   "metadata": {},
   "outputs": [
    {
     "data": {
      "text/html": [
       "<div>\n",
       "<style scoped>\n",
       "    .dataframe tbody tr th:only-of-type {\n",
       "        vertical-align: middle;\n",
       "    }\n",
       "\n",
       "    .dataframe tbody tr th {\n",
       "        vertical-align: top;\n",
       "    }\n",
       "\n",
       "    .dataframe thead th {\n",
       "        text-align: right;\n",
       "    }\n",
       "</style>\n",
       "<table border=\"1\" class=\"dataframe\">\n",
       "  <thead>\n",
       "    <tr style=\"text-align: right;\">\n",
       "      <th></th>\n",
       "      <th>variable</th>\n",
       "      <th>LI media LS hd:0</th>\n",
       "      <th>LI media LS hd:1</th>\n",
       "    </tr>\n",
       "  </thead>\n",
       "  <tbody>\n",
       "    <tr>\n",
       "      <th>0</th>\n",
       "      <td>Age</td>\n",
       "      <td>[49.2611, 50.1912, 51.1213]</td>\n",
       "      <td>[54.8947, 55.812, 56.7292]</td>\n",
       "    </tr>\n",
       "    <tr>\n",
       "      <th>0</th>\n",
       "      <td>RestingBP</td>\n",
       "      <td>[128.5664, 130.1835, 131.8005]</td>\n",
       "      <td>[134.5531, 136.4245, 138.2959]</td>\n",
       "    </tr>\n",
       "    <tr>\n",
       "      <th>0</th>\n",
       "      <td>Cholesterol</td>\n",
       "      <td>[234.2843, 239.7261, 245.1679]</td>\n",
       "      <td>[245.5678, 251.6667, 257.7655]</td>\n",
       "    </tr>\n",
       "    <tr>\n",
       "      <th>0</th>\n",
       "      <td>MaxHR</td>\n",
       "      <td>[146.7832, 149.1008, 151.4184]</td>\n",
       "      <td>[128.3254, 130.6781, 133.0308]</td>\n",
       "    </tr>\n",
       "    <tr>\n",
       "      <th>0</th>\n",
       "      <td>Oldpeak</td>\n",
       "      <td>[0.3293, 0.3972, 0.465]</td>\n",
       "      <td>[1.3294, 1.4501, 1.5708]</td>\n",
       "    </tr>\n",
       "  </tbody>\n",
       "</table>\n",
       "</div>"
      ],
      "text/plain": [
       "      variable                LI media LS hd:0                LI media LS hd:1\n",
       "0          Age     [49.2611, 50.1912, 51.1213]      [54.8947, 55.812, 56.7292]\n",
       "0    RestingBP  [128.5664, 130.1835, 131.8005]  [134.5531, 136.4245, 138.2959]\n",
       "0  Cholesterol  [234.2843, 239.7261, 245.1679]  [245.5678, 251.6667, 257.7655]\n",
       "0        MaxHR  [146.7832, 149.1008, 151.4184]  [128.3254, 130.6781, 133.0308]\n",
       "0      Oldpeak         [0.3293, 0.3972, 0.465]        [1.3294, 1.4501, 1.5708]"
      ]
     },
     "metadata": {},
     "output_type": "display_data"
    }
   ],
   "source": [
    "def limite_confianza_por_heartdisease(data, variable, confianza):\n",
    "\n",
    "  \n",
    "  limite_inferior_0, limite_superior_0 = sm.stats.DescrStatsW(data.loc[data.HeartDisease==0,variable]).tconfint_mean(alpha = 1-confianza)\n",
    "  mean_0 = data.loc[data.HeartDisease==0,variable].mean()\n",
    "  limite_inferior_1, limite_superior_1 = sm.stats.DescrStatsW(data.loc[data.HeartDisease==1,variable]).tconfint_mean(alpha = 1-confianza)\n",
    "  mean_1 = data.loc[data.HeartDisease==1,variable].mean()\n",
    "    \n",
    "  result = pd.DataFrame([[variable,\n",
    "                          [limite_inferior_0.round(4),mean_0.round(4),limite_superior_0.round(4)],\n",
    "                          [limite_inferior_1.round(4),mean_1.round(4),limite_superior_1.round(4)]]],\n",
    "                        columns=[\"variable\",\"LI media LS hd:0\",\"LI media LS hd:1\"])\n",
    "  return result.round(2)\n",
    "\n",
    "tabla_medias=pd.DataFrame(columns=[\"variable\",\"LI media LS hd:0\",\"LI media LS hd:1\"])\n",
    "\n",
    "variables = data_fixed.select_dtypes(include=['int16', 'int32', 'int64', 'float16', 'float32', 'float64']).columns.drop(\"HeartDisease\")\n",
    "\n",
    "for i in variables:\n",
    "    tabla_medias = tabla_medias.append(limite_confianza_por_heartdisease(data_fixed,i, 0.95))\n",
    "\n",
    "display(tabla_medias)"
   ]
  },
  {
   "attachments": {},
   "cell_type": "markdown",
   "metadata": {},
   "source": [
    "> **_Nota:_**  hd: HeartDisease."
   ]
  },
  {
   "cell_type": "code",
   "execution_count": null,
   "metadata": {},
   "outputs": [
    {
     "data": {
      "image/png": "[encoded data removed]",
      "text/plain": [
       "<Figure size 720x720 with 6 Axes>"
      ]
     },
     "metadata": {
      "needs_background": "light"
     },
     "output_type": "display_data"
    }
   ],
   "source": [
    "fig,ax = plt.subplots(figsize=(10,10),nrows=3,ncols=2)\n",
    "\n",
    "n=0\n",
    "for i in range(3):\n",
    "    for j in range(2):\n",
    "        if n < len(variables):    \n",
    "            lim=limite_confianza_por_heartdisease(data_fixed,variables[n], 0.95)\n",
    "            sns.kdeplot(ax=ax[i,j],data=data_fixed, x=variables[n],hue=\"HeartDisease\",palette=[\"green\",\"red\"])\n",
    "\n",
    "\n",
    "            li_0 =lim.iloc[0][1][0]\n",
    "            med_0 =lim.iloc[0][1][1]\n",
    "            ls_0 =lim.iloc[0][1][2]\n",
    "\n",
    "            li_1 =lim.iloc[0][2][0]\n",
    "            med_1 =lim.iloc[0][2][1]\n",
    "            ls_1 =lim.iloc[0][2][2]\n",
    "\n",
    "            centro = (med_0+med_1)/2\n",
    "\n",
    "            if variables[n]==\"Oldpeak\":\n",
    "                ax[i,j].set_xlim([centro*0.20,centro*1.80])\n",
    "            else:\n",
    "                ax[i,j].set_xlim([centro*0.80,centro*1.20])\n",
    "\n",
    "            #intervalo de confianza para hd:0\n",
    "            color=\"green\"\n",
    "            ax[i,j].plot([li_0, ls_0], [ax[i,j].get_ylim()[1]*0.1, ax[i,j].get_ylim()[1]*0.1],color=color)\n",
    "            ax[i,j].plot(med_0, ax[i,j].get_ylim()[1]*0.1, 'v', color='#f44336')\n",
    "            ax[i,j].plot([li_0, li_0], [ax[i,j].get_ylim()[1]*0.05, ax[i,j].get_ylim()[1]*0.15],color=color)\n",
    "            ax[i,j].plot([ls_0, ls_0], [ax[i,j].get_ylim()[1]*0.05, ax[i,j].get_ylim()[1]*0.15],color=color)\n",
    "\n",
    "\n",
    "            #intervalo de confianza para hd:1\n",
    "            color=\"red\"\n",
    "            ax[i,j].plot([li_1, ls_1], [ax[i,j].get_ylim()[1]*0.2, ax[i,j].get_ylim()[1]*0.2],color=color)\n",
    "            ax[i,j].plot(med_1, ax[i,j].get_ylim()[1]*0.2, 'v', color='#f44336')\n",
    "            ax[i,j].plot([li_1, li_1], [ax[i,j].get_ylim()[1]*0.15, ax[i,j].get_ylim()[1]*0.25],color=color)\n",
    "            ax[i,j].plot([ls_1, ls_1], [ax[i,j].get_ylim()[1]*0.15, ax[i,j].get_ylim()[1]*0.25],color=color)\n",
    "\n",
    "            ax[i,j].set_title(f\"IC para media de {variables[n]}\");\n",
    "            n+=1\n",
    "\n",
    "        else:\n",
    "            ax[i,j].axis(\"off\")\n",
    "\n",
    "fig.tight_layout()"
   ]
  },
  {
   "attachments": {},
   "cell_type": "markdown",
   "metadata": {},
   "source": [
    "## Prueba de hipótesis\n",
    "-----"
   ]
  },
  {
   "cell_type": "code",
   "execution_count": null,
   "metadata": {},
   "outputs": [
    {
     "name": "stdout",
     "output_type": "stream",
     "text": [
      "Diferencia de medias por HeartDisease\n"
     ]
    },
    {
     "data": {
      "text/html": [
       "<div>\n",
       "<style scoped>\n",
       "    .dataframe tbody tr th:only-of-type {\n",
       "        vertical-align: middle;\n",
       "    }\n",
       "\n",
       "    .dataframe tbody tr th {\n",
       "        vertical-align: top;\n",
       "    }\n",
       "\n",
       "    .dataframe thead th {\n",
       "        text-align: right;\n",
       "    }\n",
       "</style>\n",
       "<table border=\"1\" class=\"dataframe\">\n",
       "  <thead>\n",
       "    <tr style=\"text-align: right;\">\n",
       "      <th></th>\n",
       "      <th>Variable</th>\n",
       "      <th>z_score</th>\n",
       "      <th>p-value</th>\n",
       "      <th>Significativo</th>\n",
       "    </tr>\n",
       "  </thead>\n",
       "  <tbody>\n",
       "    <tr>\n",
       "      <th>0</th>\n",
       "      <td>Age</td>\n",
       "      <td>-8.4354</td>\n",
       "      <td>0.000</td>\n",
       "      <td>True</td>\n",
       "    </tr>\n",
       "    <tr>\n",
       "      <th>1</th>\n",
       "      <td>RestingBP</td>\n",
       "      <td>-4.9857</td>\n",
       "      <td>0.000</td>\n",
       "      <td>True</td>\n",
       "    </tr>\n",
       "    <tr>\n",
       "      <th>2</th>\n",
       "      <td>Cholesterol</td>\n",
       "      <td>-2.8818</td>\n",
       "      <td>0.004</td>\n",
       "      <td>True</td>\n",
       "    </tr>\n",
       "    <tr>\n",
       "      <th>3</th>\n",
       "      <td>MaxHR</td>\n",
       "      <td>10.9515</td>\n",
       "      <td>0.000</td>\n",
       "      <td>True</td>\n",
       "    </tr>\n",
       "    <tr>\n",
       "      <th>4</th>\n",
       "      <td>Oldpeak</td>\n",
       "      <td>-15.3106</td>\n",
       "      <td>0.000</td>\n",
       "      <td>True</td>\n",
       "    </tr>\n",
       "  </tbody>\n",
       "</table>\n",
       "</div>"
      ],
      "text/plain": [
       "      Variable  z_score  p-value  Significativo\n",
       "0          Age  -8.4354    0.000           True\n",
       "1    RestingBP  -4.9857    0.000           True\n",
       "2  Cholesterol  -2.8818    0.004           True\n",
       "3        MaxHR  10.9515    0.000           True\n",
       "4      Oldpeak -15.3106    0.000           True"
      ]
     },
     "execution_count": 131,
     "metadata": {},
     "output_type": "execute_result"
    }
   ],
   "source": [
    "def test_hipotesis_dos_colas_por_heartdisease(data_fixed,variable):\n",
    "\n",
    "    Categoria0 = data_fixed.loc[data_fixed.HeartDisease == 0,variable]\n",
    "    Categoria1 = data_fixed.loc[data_fixed.HeartDisease == 1,variable]\n",
    "\n",
    "    z, pvalor = sm.stats.ztest(Categoria0, Categoria1,value=0,alternative='two-sided')\n",
    "    \n",
    "    return z, pvalor, pvalor<0.05\n",
    "\n",
    "\n",
    "def diferencia_medias(data):\n",
    "\n",
    "    data=data_fixed\n",
    "\n",
    "    result=[]\n",
    "\n",
    "    columnas_numericas = data_fixed.select_dtypes(include=['int16', 'int32', 'int64', 'float16', 'float32', 'float64']).columns.drop(\"HeartDisease\")\n",
    "\n",
    "    for i in range(len(columnas_numericas)):\n",
    "\n",
    "        value=test_hipotesis_dos_colas_por_heartdisease(data_fixed,columnas_numericas[i])\n",
    "        result.append([columnas_numericas[i],value[0],value[1],value[2]])\n",
    "\n",
    "    result = pd.DataFrame(result,columns=[\"Variable\",\"z_score\",\"p-value\",\"Significativo\"])\n",
    "\n",
    "    return result.round(4)\n",
    "\n",
    "print(\"Diferencia de medias por HeartDisease\")\n",
    "diferencia_medias(data_fixed)"
   ]
  },
  {
   "cell_type": "code",
   "execution_count": null,
   "metadata": {},
   "outputs": [
    {
     "data": {
      "text/html": [
       "<div>\n",
       "<style scoped>\n",
       "    .dataframe tbody tr th:only-of-type {\n",
       "        vertical-align: middle;\n",
       "    }\n",
       "\n",
       "    .dataframe tbody tr th {\n",
       "        vertical-align: top;\n",
       "    }\n",
       "\n",
       "    .dataframe thead th {\n",
       "        text-align: right;\n",
       "    }\n",
       "</style>\n",
       "<table border=\"1\" class=\"dataframe\">\n",
       "  <thead>\n",
       "    <tr style=\"text-align: right;\">\n",
       "      <th></th>\n",
       "      <th>Age</th>\n",
       "      <th>RestingBP</th>\n",
       "      <th>Cholesterol</th>\n",
       "      <th>MaxHR</th>\n",
       "      <th>Oldpeak</th>\n",
       "    </tr>\n",
       "    <tr>\n",
       "      <th>HeartDisease</th>\n",
       "      <th></th>\n",
       "      <th></th>\n",
       "      <th></th>\n",
       "      <th></th>\n",
       "      <th></th>\n",
       "    </tr>\n",
       "  </thead>\n",
       "  <tbody>\n",
       "    <tr>\n",
       "      <th>0</th>\n",
       "      <td>50.1912</td>\n",
       "      <td>130.1835</td>\n",
       "      <td>239.7261</td>\n",
       "      <td>149.1008</td>\n",
       "      <td>0.3972</td>\n",
       "    </tr>\n",
       "    <tr>\n",
       "      <th>1</th>\n",
       "      <td>55.8120</td>\n",
       "      <td>136.4245</td>\n",
       "      <td>251.6667</td>\n",
       "      <td>130.6781</td>\n",
       "      <td>1.4501</td>\n",
       "    </tr>\n",
       "  </tbody>\n",
       "</table>\n",
       "</div>"
      ],
      "text/plain": [
       "                  Age  RestingBP  Cholesterol     MaxHR  Oldpeak\n",
       "HeartDisease                                                    \n",
       "0             50.1912   130.1835     239.7261  149.1008   0.3972\n",
       "1             55.8120   136.4245     251.6667  130.6781   1.4501"
      ]
     },
     "execution_count": 132,
     "metadata": {},
     "output_type": "execute_result"
    }
   ],
   "source": [
    "data_fixed.groupby([\"HeartDisease\"]).agg(\"mean\").round(4)"
   ]
  },
  {
   "cell_type": "code",
   "execution_count": null,
   "metadata": {},
   "outputs": [
    {
     "data": {
      "text/html": [
       "<div>\n",
       "<style scoped>\n",
       "    .dataframe tbody tr th:only-of-type {\n",
       "        vertical-align: middle;\n",
       "    }\n",
       "\n",
       "    .dataframe tbody tr th {\n",
       "        vertical-align: top;\n",
       "    }\n",
       "\n",
       "    .dataframe thead th {\n",
       "        text-align: right;\n",
       "    }\n",
       "</style>\n",
       "<table border=\"1\" class=\"dataframe\">\n",
       "  <thead>\n",
       "    <tr style=\"text-align: right;\">\n",
       "      <th></th>\n",
       "      <th>Hipótesis alterna</th>\n",
       "      <th>z_score</th>\n",
       "      <th>p_value</th>\n",
       "      <th>rechaza H0</th>\n",
       "    </tr>\n",
       "  </thead>\n",
       "  <tbody>\n",
       "    <tr>\n",
       "      <th>0</th>\n",
       "      <td>Age hd0 &lt; Age hd1</td>\n",
       "      <td>-11.8820</td>\n",
       "      <td>0.000000e+00</td>\n",
       "      <td>True</td>\n",
       "    </tr>\n",
       "    <tr>\n",
       "      <th>1</th>\n",
       "      <td>RestingBP hd0 &lt; RestingBP hd1</td>\n",
       "      <td>-7.5883</td>\n",
       "      <td>1.600000e-14</td>\n",
       "      <td>True</td>\n",
       "    </tr>\n",
       "    <tr>\n",
       "      <th>2</th>\n",
       "      <td>Cholesterol hd0 &lt; Cholesterol hd1</td>\n",
       "      <td>-4.3141</td>\n",
       "      <td>8.012261e-06</td>\n",
       "      <td>True</td>\n",
       "    </tr>\n",
       "    <tr>\n",
       "      <th>3</th>\n",
       "      <td>MaxHR hd0 &gt; MaxHR hd1</td>\n",
       "      <td>15.6289</td>\n",
       "      <td>0.000000e+00</td>\n",
       "      <td>True</td>\n",
       "    </tr>\n",
       "    <tr>\n",
       "      <th>4</th>\n",
       "      <td>Oldpeak hd0 &lt; Oldpeak hd1</td>\n",
       "      <td>-30.4969</td>\n",
       "      <td>0.000000e+00</td>\n",
       "      <td>True</td>\n",
       "    </tr>\n",
       "  </tbody>\n",
       "</table>\n",
       "</div>"
      ],
      "text/plain": [
       "                   Hipótesis alterna  z_score       p_value  rechaza H0\n",
       "0                  Age hd0 < Age hd1 -11.8820  0.000000e+00        True\n",
       "1      RestingBP hd0 < RestingBP hd1  -7.5883  1.600000e-14        True\n",
       "2  Cholesterol hd0 < Cholesterol hd1  -4.3141  8.012261e-06        True\n",
       "3              MaxHR hd0 > MaxHR hd1  15.6289  0.000000e+00        True\n",
       "4          Oldpeak hd0 < Oldpeak hd1 -30.4969  0.000000e+00        True"
      ]
     },
     "execution_count": 133,
     "metadata": {},
     "output_type": "execute_result"
    }
   ],
   "source": [
    "def test_hipotesis_una_cola(variable,value,tipo):\n",
    "    \n",
    "    z, pvalor = sm.stats.ztest(variable,value=value,alternative=tipo)\n",
    "    \n",
    "    return z.round(4), pvalor.round(15), pvalor<0.05\n",
    "\n",
    "\n",
    "result=[ \n",
    "test_hipotesis_una_cola(data_fixed.loc[data_fixed.HeartDisease==0,\"Age\"],\n",
    "                        data_fixed.loc[data_fixed.HeartDisease==1,\"Age\"].mean(),\n",
    "                        \"smaller\"),\n",
    "\n",
    "test_hipotesis_una_cola(data_fixed.loc[data_fixed.HeartDisease==0,\"RestingBP\"],\n",
    "                        data_fixed.loc[data_fixed.HeartDisease==1,\"RestingBP\"].mean(),\n",
    "                        \"smaller\"),\n",
    "\n",
    "test_hipotesis_una_cola(data_fixed.loc[data_fixed.HeartDisease==0,\"Cholesterol\"],\n",
    "                        data_fixed.loc[data_fixed.HeartDisease==1,\"Cholesterol\"].mean(),\n",
    "                        \"smaller\"),\n",
    "\n",
    "test_hipotesis_una_cola(data_fixed.loc[data_fixed.HeartDisease==0,\"MaxHR\"],\n",
    "                        data_fixed.loc[data_fixed.HeartDisease==1,\"MaxHR\"].mean(),\n",
    "                        \"larger\"),\n",
    "\n",
    "test_hipotesis_una_cola(data_fixed.loc[data_fixed.HeartDisease==0,\"Oldpeak\"],\n",
    "                        data_fixed.loc[data_fixed.HeartDisease==1,\"Oldpeak\"].mean(),\n",
    "                        \"smaller\")]\n",
    "\n",
    "result = pd.DataFrame([[\"Age hd0 < Age hd1\",result[0][0],result[0][1],result[0][2]],\n",
    "[\"RestingBP hd0 < RestingBP hd1\",result[1][0],result[1][1],result[1][2]],\n",
    "[\"Cholesterol hd0 < Cholesterol hd1\",result[2][0],result[2][1],result[2][2]],\n",
    "[\"MaxHR hd0 > MaxHR hd1\",result[3][0],result[3][1],result[3][2]],\n",
    "[\"Oldpeak hd0 < Oldpeak hd1\",result[4][0],result[4][1],result[4][2]]],\n",
    "columns=[\"Hipótesis alterna\",\"z_score\",\"p_value\",\"rechaza H0\"])\n",
    "\n",
    "result"
   ]
  },
  {
   "attachments": {},
   "cell_type": "markdown",
   "metadata": {},
   "source": [
    "## Gráficos avanzados\n",
    "---"
   ]
  },
  {
   "cell_type": "code",
   "execution_count": null,
   "metadata": {},
   "outputs": [],
   "source": [
    "variables_numericas = data_fixed.select_dtypes(include=['int16', 'int32', 'int64', 'float16', 'float32', 'float64']).columns.drop(\"HeartDisease\")\n",
    "\n",
    "variables_categoricas = data.columns[~data.columns.isin(cols_numericas)].drop(\"HeartDisease\")\n"
   ]
  },
  {
   "attachments": {},
   "cell_type": "markdown",
   "metadata": {},
   "source": [
    "Tomando la variable \"ChestPainType\" se pueden observar que existe mayor cantidad de registros para asintomáticos enfermos.\n"
   ]
  },
  {
   "attachments": {},
   "cell_type": "markdown",
   "metadata": {},
   "source": [
    "## Transformación de variables categóricas a Dummy\n",
    "---"
   ]
  },
  {
   "cell_type": "code",
   "execution_count": null,
   "metadata": {},
   "outputs": [],
   "source": [
    "data_fixed = pd.get_dummies(data=data_fixed, columns=[\"Sex\", \"ChestPainType\", \"FastingBS\",\"RestingECG\",\"ExerciseAngina\",\"ST_Slope\"])"
   ]
  },
  {
   "attachments": {},
   "cell_type": "markdown",
   "metadata": {},
   "source": [
    "## Análisis de regresión y clasificación n-aria \n",
    "-----"
   ]
  },
  {
   "attachments": {},
   "cell_type": "markdown",
   "metadata": {},
   "source": [
    "### Modelo de regresión lineal"
   ]
  },
  {
   "attachments": {},
   "cell_type": "markdown",
   "metadata": {},
   "source": [
    "### Modelo de regresión logística"
   ]
  },
  {
   "attachments": {},
   "cell_type": "markdown",
   "metadata": {},
   "source": [
    "# Conclusiones\n",
    "----"
   ]
  },
  {
   "attachments": {},
   "cell_type": "markdown",
   "metadata": {},
   "source": [
    "\n"
   ]
  }
 ],
 "metadata": {
  "kernelspec": {
   "display_name": "Python 3",
   "language": "python",
   "name": "python3"
  },
  "language_info": {
   "codemirror_mode": {
    "name": "ipython",
    "version": 3
   },
   "file_extension": ".py",
   "mimetype": "text/x-python",
   "name": "python",
   "nbconvert_exporter": "python",
   "pygments_lexer": "ipython3",
   "version": "3.11.3"
  },
  "orig_nbformat": 4
 },
 "nbformat": 4,
 "nbformat_minor": 2
}
