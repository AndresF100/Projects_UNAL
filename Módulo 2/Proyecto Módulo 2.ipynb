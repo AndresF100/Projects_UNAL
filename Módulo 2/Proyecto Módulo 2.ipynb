{
 "cells": [
  {
   "attachments": {},
   "cell_type": "markdown",
   "metadata": {},
   "source": [
    "# Proyecto aplicado: \"Pokemon_data\"\n",
    "* Andrés Forero\n",
    "* Daniel Cuellar\n",
    "* Daniela González \n",
    "\n",
    "\n"
   ]
  },
  {
   "attachments": {},
   "cell_type": "markdown",
   "metadata": {},
   "source": [
    "## Librerías \n",
    "______"
   ]
  },
  {
   "cell_type": "code",
   "execution_count": null,
   "metadata": {},
   "outputs": [],
   "source": [
    "from builtins import len\n",
    "\n",
    "# manejo de data\n",
    "import pandas as pd\n",
    "import numpy as np\n",
    "import math\n",
    "from scipy import stats\n",
    "# visualización\n",
    "import seaborn as sns\n",
    "import matplotlib.pyplot as plt\n",
    "\n",
    "from sklearn.pipeline import Pipeline\n",
    "from sklearn.preprocessing import OneHotEncoder\n",
    "from sklearn.preprocessing import MinMaxScaler\n",
    "from sklearn.compose import ColumnTransformer\n",
    "from sklearn.model_selection import train_test_split\n",
    "\n",
    "from sklearn.decomposition import PCA"
   ]
  },
  {
   "cell_type": "code",
   "execution_count": null,
   "metadata": {},
   "outputs": [],
   "source": [
    "sns.set_context(\"paper\")\n",
    "sns.set_style(\"whitegrid\")"
   ]
  },
  {
   "attachments": {},
   "cell_type": "markdown",
   "metadata": {},
   "source": [
    "# Metodología CRISP-DM\n",
    "___\n",
    "<img src=\"http://www.iic.uam.es/wp-content/uploads/2021/11/CRISP-DM.jpg\" width=\"400\" height=\"400\" />\n"
   ]
  },
  {
   "attachments": {},
   "cell_type": "markdown",
   "metadata": {},
   "source": [
    "## Situación actual\n"
   ]
  },
  {
   "attachments": {},
   "cell_type": "markdown",
   "metadata": {},
   "source": [
    "## Descripción del dataset\n",
    "_______________\n"
   ]
  },
  {
   "attachments": {},
   "cell_type": "markdown",
   "metadata": {},
   "source": [
    "## Problema\n",
    "_____\n"
   ]
  },
  {
   "attachments": {},
   "cell_type": "markdown",
   "metadata": {},
   "source": [
    " "
   ]
  },
  {
   "attachments": {},
   "cell_type": "markdown",
   "metadata": {},
   "source": [
    "## Objetivos\n",
    "_____\n",
    "\n",
    "### General\n",
    "\n",
    "\n",
    "### Específico \n",
    "\n"
   ]
  },
  {
   "attachments": {},
   "cell_type": "markdown",
   "metadata": {},
   "source": [
    "## Hipótesis (científica o estadística)\n",
    "------\n"
   ]
  },
  {
   "cell_type": "code",
   "execution_count": null,
   "metadata": {},
   "outputs": [],
   "source": []
  },
  {
   "attachments": {},
   "cell_type": "markdown",
   "metadata": {},
   "source": [
    "# Entendimiento de los datos\n",
    "----"
   ]
  },
  {
   "attachments": {},
   "cell_type": "markdown",
   "metadata": {},
   "source": [
    "## Carga De Datos\n"
   ]
  },
  {
   "cell_type": "code",
   "execution_count": null,
   "metadata": {},
   "outputs": [],
   "source": [
    "data = pd.read_csv(\"pokemon.csv\")"
   ]
  },
  {
   "attachments": {},
   "cell_type": "markdown",
   "metadata": {},
   "source": [
    "## Describir los datos \n"
   ]
  },
  {
   "attachments": {},
   "cell_type": "markdown",
   "metadata": {},
   "source": [
    "Este conjunto de datos contiene información sobre los 802 Pokémon de las Siete Generaciones de Pokémon, y el cual contiene las siguientes características.\n",
    "\n",
    "\n",
    "* Name: El nombre en inglés del Pokémon.\n",
    "* Japanese_name: El nombre japonés original del Pokémon\n",
    "* Pokedex_number: El número de entrada del Pokémon en el Pokédex Nacional\n",
    "* Percent_male: El porcentaje de las especies que son machos. En blanco si el Pokémon no tiene género.\n",
    "* Type1: El tipo primario del Pokémon\n",
    "* Type2: El tipo secundario del Pokémon\n",
    "* Clasificación: La clasificación de los Pokémon como se describe en el Sol y la Luna Pokédex\n",
    "* Height_m: Altura del Pokémon en metros\n",
    "* Weight_kg: El Peso del Pokémon en kilogramos\n",
    "* Capture_rate: Tasa de captura del Pokémon\n",
    "* Base_egg_steps: La cantidad de pasos necesarios para eclosionar un huevo del Pokémon\n",
    "* Abilities:Lista ordenada de habilidades que el Pokémon es capaz de tener.\n",
    "* Experience_growth: Cantidad de puntos que obtiene un Pokémon al derrotar a otro en un combate y subir de nivel\n",
    "* Base_happiness: Felicidad Base del Pokémon\n",
    "* Against_?: Dieciocho características que denotan la cantidad de daño recibido contra un ataque de un tipo particular\n",
    "* Base_total:Suma de las características del pokémon \"attack\", \"defense\", \"hp\", \"sp_attack\", \"sp_defense\" y \"speed\"\n",
    "* HP: (Health Points) condición fisica del Pokémon, representada con un valor numérico\n",
    "* Attack:El Ataque Base de los Pokémon\n",
    "* Defense:La Defensa Base de los Pokémon\n",
    "* Sp_attack: El Ataque Especial Base del Pokémon\n",
    "* Sp_defense: La Defensa Especial Base del Pokémon\n",
    "* Speed:La velocidad base del Pokémon\n",
    "* Generation: Generación numerada en la que se introdujo por primera vez el Pokémon\n",
    "* Is_legendary:Indica si el Pokémon es legendario."
   ]
  },
  {
   "cell_type": "code",
   "execution_count": null,
   "metadata": {},
   "outputs": [],
   "source": [
    "data.info()"
   ]
  },
  {
   "cell_type": "code",
   "execution_count": null,
   "metadata": {},
   "outputs": [],
   "source": [
    "data.head()"
   ]
  },
  {
   "attachments": {},
   "cell_type": "markdown",
   "metadata": {
    "collapsed": false
   },
   "source": [
    "## Limpieza de datos"
   ]
  },
  {
   "attachments": {},
   "cell_type": "markdown",
   "metadata": {},
   "source": [
    "Se valida que la variable \"base_total\" esta compuesta por la suma de las características \"attack\", \"defense\", \"hp\", \"sp_attack\", \"sp_defense\" y \"speed\""
   ]
  },
  {
   "cell_type": "code",
   "execution_count": null,
   "metadata": {},
   "outputs": [],
   "source": [
    "prueba_base=data['attack']+data['defense']+data['hp']+data['sp_attack']+data['sp_defense']+data['speed']\n",
    "comparacion=prueba_base==data['base_total']\n",
    "comparacion.sum()"
   ]
  },
  {
   "attachments": {},
   "cell_type": "markdown",
   "metadata": {},
   "source": [
    "### Valores nulos"
   ]
  },
  {
   "cell_type": "code",
   "execution_count": null,
   "metadata": {},
   "outputs": [],
   "source": [
    "nulos = data.isnull().sum(axis=0)\n",
    "nulos[nulos>0]"
   ]
  },
  {
   "attachments": {},
   "cell_type": "markdown",
   "metadata": {},
   "source": [
    "Dado que hay solo 20 faltantes para height_m y weight_kg, se decide buscar la información faltante en una base externa [Pokédex](https://www.pokemon.com/el/pokedex)."
   ]
  },
  {
   "cell_type": "code",
   "execution_count": null,
   "metadata": {},
   "outputs": [],
   "source": [
    "data_missing= pd.read_csv(\"pokemons_faltantes.csv\", sep=\";\")\n",
    "\n",
    "data_missing.rename(columns={\"weight_km\":\"weight_kg\"})"
   ]
  },
  {
   "cell_type": "code",
   "execution_count": null,
   "metadata": {
    "collapsed": false
   },
   "outputs": [],
   "source": [
    "data_missing= pd.read_csv(\"pokemons_faltantes.csv\", sep=\";\")\n",
    "data_missing.rename(columns={\"weight_km\":\"weight_kg\"})\n",
    "df2=pd.merge(data_missing, data, on=\"name\")\n",
    "df2=df2.drop([\"height_m_y\", \"weight_kg_y\"], axis=1)\n",
    "df2=df2.rename(columns={\"weight_kg_x\":\"weight_kg\", \"height_m_x\": \"height_m\"})\n",
    "data_fix=data[data[\"weight_kg\"].notna() ]\n",
    "data_fix\n",
    "a=data_fix.columns.tolist()\n",
    "df2=df2[a]\n",
    "data = pd.concat([data_fix,df2], axis=0)"
   ]
  },
  {
   "cell_type": "code",
   "execution_count": null,
   "metadata": {
    "collapsed": false
   },
   "outputs": [],
   "source": [
    "nulos = data.isnull().sum(axis=0)\n",
    "nulos[nulos>0]"
   ]
  },
  {
   "attachments": {},
   "cell_type": "markdown",
   "metadata": {},
   "source": [
    "### Sexo del pokémon"
   ]
  },
  {
   "attachments": {},
   "cell_type": "markdown",
   "metadata": {},
   "source": [
    "Se crea una columna adicional para el porcentaje de sexo femenino, por ende, para los pokemón que no poseen sexo, se dejan en 0 las 2 columnas de sexo."
   ]
  },
  {
   "cell_type": "code",
   "execution_count": null,
   "metadata": {},
   "outputs": [],
   "source": [
    "data[\"percentage_female\"]= [ 0 if pd.isna(i) else 100-i for i in data.percentage_male]\n",
    "data[\"percentage_male\"]=data[\"percentage_male\"].fillna(0)"
   ]
  },
  {
   "attachments": {},
   "cell_type": "markdown",
   "metadata": {},
   "source": [
    "### Ajuste de tasa de captura"
   ]
  },
  {
   "cell_type": "code",
   "execution_count": null,
   "metadata": {},
   "outputs": [],
   "source": [
    "data.capture_rate.unique()"
   ]
  },
  {
   "cell_type": "code",
   "execution_count": null,
   "metadata": {},
   "outputs": [],
   "source": [
    "data.loc[data.capture_rate=='30 (Meteorite)255 (Core)',\"capture_rate\"]=30\n",
    "\n",
    "data['capture_rate'] = data['capture_rate'].astype(int)"
   ]
  },
  {
   "attachments": {},
   "cell_type": "markdown",
   "metadata": {},
   "source": [
    "### Descarte de variables"
   ]
  },
  {
   "attachments": {},
   "cell_type": "markdown",
   "metadata": {},
   "source": [
    "Se descartan las siguientes variables:\n",
    "* abilitites: están fuera del alcance.\n",
    "* classfication: no provee mucha información.\n",
    "* japanese_name: se va a trabajar con el nombre en inglés \"name\".\n",
    "* pokedex_number: al ser un índice no da información adicional.\n",
    "* type2: la mayoría de registros son de 1 solo tipo por ende se deja fuera del alcance."
   ]
  },
  {
   "cell_type": "code",
   "execution_count": null,
   "metadata": {},
   "outputs": [],
   "source": [
    "datos = data.loc[:,~data.columns.isin([\"abilities\",\"classfication\",\"japanese_name\",\"pokedex_number\",\"type2\"])]"
   ]
  },
  {
   "attachments": {},
   "cell_type": "markdown",
   "metadata": {},
   "source": [
    "## Estadística exploratoria\n",
    "------"
   ]
  },
  {
   "cell_type": "code",
   "execution_count": null,
   "metadata": {},
   "outputs": [],
   "source": [
    "categorical_data = data.select_dtypes(include=['object']).columns\n",
    "def est_exploratoria(data,categoricas):\n",
    "    \"\"\"\n",
    "    tablas de estadística exploratoria\n",
    "    ---\n",
    "    data : dataframe\n",
    "    categoricas : lista con nombre de variables a tratar como categoricas\n",
    "    \n",
    "    \"\"\"\n",
    "    datos = data.loc[:,~data.columns.isin(categoricas)]\n",
    "\n",
    "    df0 = datos.agg([lambda x : sum(x.isna()),\"count\",]).rename(index={\"<lambda>\": 'Na count'})\n",
    "    df1 = datos.agg([\"mean\"])\n",
    "    df2 = datos.agg(pd.Series.mode).loc[[0]].rename(index={0: 'mode'})\n",
    "    df3 = datos.agg([\"median\",\"std\",\"var\",\"kurt\",\"skew\",\"max\",\"min\"])\n",
    "\n",
    "    df = pd.concat([df0,df1,df2, df3])\n",
    "\n",
    "    df[\"Measurement\"] = df.index\n",
    "    df[\"Type\"]=[\"Structure\",\"Structure\",\"Central t.\",\"Central t.\",\"Central t.\",\"Dispersion\",\"Dispersion\",\"Shape\",\"Shape\",\"Range\",\"Range\"]\n",
    "    df.set_index(\"Type\", append=False, inplace=True)\n",
    "    df.set_index(\"Measurement\", append=True, inplace=True)\n",
    "\n",
    "    numerica=df.round(decimals=2)\n",
    "\n",
    "    datos = data.loc[:,data.columns.isin(categoricas)]\n",
    "\n",
    "\n",
    "    df0 = datos.agg([lambda x : sum(x.isna())]).rename(index={\"<lambda>\": 'Na count'})\n",
    "\n",
    "    df = pd.concat([df0,datos.describe(include=['object',\"string\"])])\n",
    "\n",
    "    categorica=df.round(decimals=2)\n",
    "    return numerica, categorica\n",
    "\n",
    "numerica, categorica = est_exploratoria(datos,categorical_data)\n",
    "\n",
    "numerica\n"
   ]
  },
  {
   "cell_type": "code",
   "execution_count": null,
   "metadata": {},
   "outputs": [],
   "source": [
    "categorica"
   ]
  },
  {
   "attachments": {},
   "cell_type": "markdown",
   "metadata": {},
   "source": [
    "## Visualización de datos\n",
    "------"
   ]
  },
  {
   "cell_type": "code",
   "execution_count": null,
   "metadata": {},
   "outputs": [],
   "source": [
    "contras=datos[datos.columns[\n",
    "    (pd.Series(datos.columns).str.startswith('against')) | \n",
    "    (datos.columns==\"type1\")]].groupby([\"type1\"]).agg(\"mean\")\n",
    "\n",
    "contras.head()\n"
   ]
  },
  {
   "cell_type": "code",
   "execution_count": null,
   "metadata": {},
   "outputs": [],
   "source": [
    "import plotly.express as px\n",
    "fig = px.imshow(contras,\n",
    "                labels=dict(x=\"From\", y=\"Type\", color=\"Damage Received\"),\n",
    "                color_continuous_scale='Jet',title=\"Daño recibido según tipo de pokemón\")\n",
    "fig.update_layout(width=1000, height=900,template='plotly_white')\n",
    "fig.show()"
   ]
  },
  {
   "cell_type": "code",
   "execution_count": null,
   "metadata": {},
   "outputs": [],
   "source": [
    "combat_stats = ['attack','defense','hp','sp_attack', 'sp_defense','speed']\n",
    "other_stats = ['height_m', 'weight_kg','capture_rate','base_egg_steps']\n",
    "\n",
    "def plot_stats(datos,listado,titulo):\n",
    "    n_rows=2\n",
    "    n_cols=math.ceil(len(listado)/2)\n",
    "\n",
    "    fig,ax = plt.subplots(nrows=n_rows,ncols=n_cols,figsize=(11,5))\n",
    "    count=0\n",
    "    palette = list(reversed(sns.color_palette(\"pastel\", len(listado)).as_hex()))\n",
    "\n",
    "    class salida(Exception): pass\n",
    "\n",
    "    try: \n",
    "        for i in range(n_rows):\n",
    "            for j in range(n_cols):\n",
    "                # print(i,j)\n",
    "                sns.histplot(datos[listado[count]], kde=True,color=palette[count],alpha=0.2,edgecolor=\"gray\",ax=ax[i,j])\n",
    "                # ax[i,j].hist(datos[listado[count]],color=palette[count])\n",
    "                ax[i,j].axvline([datos[listado[count]].mean()],color=\"red\",label=f\"mean_{listado[count]}: {round(datos[listado[count]].mean(),2)}\")\n",
    "                ax[i,j].legend()\n",
    "                ax[i,j].title.set_text(f'Hist {listado[count]}')\n",
    "\n",
    "                count+=1\n",
    "                if count==len(listado): raise salida\n",
    "\n",
    "    except salida:\n",
    "        None\n",
    "\n",
    "\n",
    "\n",
    "\n",
    "    fig.suptitle(titulo, fontsize=16)\n",
    "    fig.tight_layout()\n",
    "\n",
    "\n",
    "plot_stats(datos,combat_stats,\"Hist. estadísticas de combate\")\n",
    "plot_stats(datos,other_stats,\"Hist. estadísticas varias\")"
   ]
  },
  {
   "cell_type": "code",
   "execution_count": null,
   "metadata": {},
   "outputs": [],
   "source": [
    "type1_counts = datos[\"type1\"].value_counts().sort_values()\n",
    "fig, ax = plt.subplots()\n",
    "ax.barh(type1_counts.index, type1_counts.values, color='green')\n",
    "ax.set_title(\"Conteo tipos de pokemón\",fontsize=16)\n",
    "ax.set_xlabel(\"Cantidad\")\n",
    "plt.show()\n"
   ]
  },
  {
   "attachments": {},
   "cell_type": "markdown",
   "metadata": {},
   "source": [
    "# DANIEL \n",
    "* Boxplot variables por tipo y legendario"
   ]
  },
  {
   "cell_type": "code",
   "execution_count": null,
   "metadata": {
    "collapsed": false
   },
   "outputs": [],
   "source": [
    "var_corr_1=['against_dark', 'attack', 'base_egg_steps', 'base_total', 'base_total', 'base_total']\n",
    "var_corr_2=['against_ghost','base_total','is_legendary','capture_rate','sp_attack','sp_defense']\n",
    "for i in range(len(var_corr_2)):\n",
    "    fig= px.box(datos,y=var_corr_2[i], x=\"type1\", color=\"is_legendary\")\n",
    "    fig.update_traces(quartilemethod=\"exclusive\")\n",
    "    fig.show()"
   ]
  },
  {
   "cell_type": "code",
   "execution_count": null,
   "metadata": {
    "collapsed": false
   },
   "outputs": [],
   "source": [
    "\n",
    "fig= px.box(datos,y=\"base_egg_steps\", x=\"type1\", color=\"is_legendary\")\n",
    "fig.update_traces(quartilemethod=\"exclusive\")\n",
    "fig.show()"
   ]
  },
  {
   "cell_type": "code",
   "execution_count": null,
   "metadata": {
    "collapsed": false
   },
   "outputs": [],
   "source": [
    "var_corr_1=['against_dark', 'attack', 'base_egg_steps', 'base_total', 'base_total', 'base_total']\n",
    "var_corr_2=['against_ghost','base_total','is_legendary','capture_rate','sp_attack','sp_defense']\n",
    "for i in range(len(var_corr_2)):\n",
    "    fig= px.scatter(datos,y=var_corr_2[i], x=var_corr_1[i],)\n",
    "    fig.show()"
   ]
  },
  {
   "attachments": {},
   "cell_type": "markdown",
   "metadata": {},
   "source": [
    "## Filtros\n"
   ]
  },
  {
   "attachments": {},
   "cell_type": "markdown",
   "metadata": {},
   "source": [
    "Dados los diferentes alcances del proyecto se realizarán filtros para tener conjuntos de datos apropiados para los análisis posteriores."
   ]
  },
  {
   "attachments": {},
   "cell_type": "markdown",
   "metadata": {},
   "source": [
    "No supervisado: \n",
    "* agrupar pokemones con características similares\n",
    "\n",
    "Supervisados:\n",
    "* clasificador el tipo de pokémon\n",
    "* clasificador si es legendario\n"
   ]
  },
  {
   "cell_type": "code",
   "execution_count": null,
   "metadata": {},
   "outputs": [],
   "source": [
    "datos = datos.loc[:,~datos.columns.isin([\"name\"])]"
   ]
  },
  {
   "attachments": {},
   "cell_type": "markdown",
   "metadata": {},
   "source": [
    "# Análisis de datos\n",
    "___"
   ]
  },
  {
   "attachments": {},
   "cell_type": "markdown",
   "metadata": {},
   "source": [
    "## Pruebas de correlación\n",
    "\n"
   ]
  },
  {
   "cell_type": "code",
   "execution_count": null,
   "metadata": {},
   "outputs": [],
   "source": [
    "data_corr = datos.select_dtypes(include=['int','float64'])\n",
    "\n",
    "def tabla_corr_pearson(data_fixed,alfa,umbral):\n",
    "  newdf = data_fixed.select_dtypes(include=['int16', 'int32', 'int64', 'float16', 'float32', 'float64'])\n",
    "  result = []\n",
    "\n",
    "\n",
    "  for i in newdf.columns:\n",
    "    for j in newdf.columns:\n",
    "      if i!=j:\n",
    "        coef, p = stats.pearsonr(newdf[i], newdf[j])\n",
    "        result.append([i,j,coef,p < alfa,p])\n",
    "\n",
    "  correlaciones = pd.DataFrame(result,columns=[\"Var_i\",\"Var_j\",\"Coef_corr\",\"Correlacionada\",\"p_value\"])\n",
    "\n",
    "\n",
    "  return correlaciones[(correlaciones.Correlacionada==True) & (abs(correlaciones.Coef_corr)>=umbral)].drop_duplicates([\"Coef_corr\",\"p_value\"])\n",
    "\n",
    "\n",
    "tabla_corr_pearson(data_corr,0.05,0.65)"
   ]
  },
  {
   "attachments": {},
   "cell_type": "markdown",
   "metadata": {},
   "source": [
    "___"
   ]
  },
  {
   "attachments": {},
   "cell_type": "markdown",
   "metadata": {},
   "source": [
    "___"
   ]
  },
  {
   "attachments": {},
   "cell_type": "markdown",
   "metadata": {},
   "source": [
    "___"
   ]
  },
  {
   "attachments": {},
   "cell_type": "markdown",
   "metadata": {},
   "source": [
    "# 3 Transforme las variables categóricas y continuas en variables que entienda el modelo de predicción.\n",
    "\n",
    "Recuerde tener en cuenta si las variables son categóricas (nominales, ordinales) o numéricas (discretas, continuas).\n",
    "\n",
    "https://medium.com/hugo-ferreiras-blog/dealing-with-categorical-features-in-machine-learning-1bb70f07262d\n",
    "\n",
    "- TargetEncoding\n",
    "- LabelEncoding\n",
    "- OneHotEncoding\n",
    "- CategoricalEncoding\n"
   ]
  },
  {
   "cell_type": "code",
   "execution_count": null,
   "metadata": {},
   "outputs": [],
   "source": [
    "datos.info()"
   ]
  },
  {
   "cell_type": "code",
   "execution_count": null,
   "metadata": {},
   "outputs": [],
   "source": [
    "cat_one_hot= [\"type1\",\"generation\"]\n",
    "num_scaler = datos.select_dtypes(include=['int64',\"float64\"]).columns\n",
    "num_scaler.drop(\"is_legendary\")"
   ]
  },
  {
   "cell_type": "code",
   "execution_count": null,
   "metadata": {},
   "outputs": [],
   "source": [
    "preprocessor = ColumnTransformer(\n",
    "    transformers=[\n",
    "        (\"numerical_data\", MinMaxScaler(), num_scaler),\n",
    "        (\"categorical_data\", OneHotEncoder(handle_unknown=\"ignore\"), cat_one_hot),\n",
    "    ]\n",
    ")\n",
    "preprocessor"
   ]
  },
  {
   "cell_type": "code",
   "execution_count": null,
   "metadata": {},
   "outputs": [],
   "source": [
    "a=preprocessor.fit_transform(datos)\n",
    "a=pd.DataFrame(a)\n",
    "\n",
    "a.columns=preprocessor.fit(datos).get_feature_names_out()\n",
    "a.head()\n"
   ]
  },
  {
   "cell_type": "code",
   "execution_count": null,
   "metadata": {},
   "outputs": [],
   "source": [
    "a.describe()"
   ]
  },
  {
   "cell_type": "code",
   "execution_count": null,
   "metadata": {},
   "outputs": [],
   "source": [
    "\n",
    "preprocessor.fit_transform(datos)\n",
    "\n",
    "def graf_pca(datos,limite=0.95,add_title=\"\"):\n",
    "    \"\"\"\n",
    "    datos: data a probar por pca\n",
    "    limite: cuánta varianza quiere ser explicada\n",
    "    add_title: parte para añadir al titulo\n",
    "    \"\"\"\n",
    "    pca = PCA() \n",
    "    transf = pca.fit_transform(datos)\n",
    "    \n",
    "    varianza_expl = pca.explained_variance_ratio_\n",
    "\n",
    "    var_cum=np.column_stack((range(0,len(varianza_expl)),varianza_expl.cumsum()))\n",
    "\n",
    "    # limite=0.95\n",
    "    punto=np.argmin(np.abs(np.array(var_cum[:,1])-limite))\n",
    "\n",
    "\n",
    "    plt.plot(var_cum[:,0],var_cum[:,1] , '--r')\n",
    "    plt.axhline(y=limite, color='b')\n",
    "    plt.title(\"Explicación de varianza acumulada por N componentes\" + add_title)\n",
    "    plt.xlabel(\"N componentes\")\n",
    "    plt.xlabel(\"Varianza acumulada explicada\")\n",
    "    plt.annotate('Comp. cercano al %.2f  = (%.0f, %.4f)'%(limite,punto, var_cum[punto,1]),\n",
    "                (punto, var_cum[punto,1]-0.07), \n",
    "                xytext =(-2 * 1, 1),\n",
    "                textcoords ='offset points',\n",
    "                bbox = dict(boxstyle =\"round\", fc =\"0.8\"))\n",
    "    plt.plot(punto, var_cum[punto,1], marker=\"o\", markersize=5, markeredgecolor=\"black\", markerfacecolor=\"black\")\n",
    "    plt.show;\n",
    "\n",
    "\n",
    "graf_pca(preprocessor.fit_transform(datos),0.95,\": datos con preprocesado\")\n"
   ]
  },
  {
   "attachments": {},
   "cell_type": "markdown",
   "metadata": {},
   "source": [
    "# Grafique los datos con pairplot \n",
    "\n"
   ]
  },
  {
   "cell_type": "code",
   "execution_count": null,
   "metadata": {},
   "outputs": [],
   "source": [
    "\n",
    "columnas=['attack', 'defense','hp','sp_attack','sp_defense', 'speed','is_legendary']\n",
    "sns.set_palette(\"Set2\")\n",
    "sns.pairplot(datos[columnas], hue=\"is_legendary\",corner=True).fig.suptitle('Pairplot stats. de combate')\n",
    "plt.show()\n"
   ]
  },
  {
   "attachments": {},
   "cell_type": "markdown",
   "metadata": {},
   "source": [
    "Se observa que la proporción de los pokemones legendarios es menor que los no legendarios. Estos primeros cuentan con mayor poder de ataque y velocidad. Los pokemones tanto legendarios como no legendarios en su mayoria cuentan con HP menores a 100."
   ]
  },
  {
   "attachments": {},
   "cell_type": "markdown",
   "metadata": {},
   "source": [
    "# 5. Particione los datos en entrenamiento y prueba\n",
    "\n",
    "Verifique que tipo de partición debe realizar, ya que sus datos pueden ser de tipo series de tiempo\n",
    "\n",
    "`train_test_split`\n",
    "\n",
    "Rucuerden que en el caso de serie de tiempo es recomendable utilizar `shuffle=false`\n",
    "\n",
    "También recuerde que en el caso de datos desbalanceados es recomendable utilizar estratificación.\n"
   ]
  },
  {
   "cell_type": "code",
   "execution_count": null,
   "metadata": {},
   "outputs": [],
   "source": [
    "datos.columns"
   ]
  },
  {
   "attachments": {},
   "cell_type": "markdown",
   "metadata": {},
   "source": [
    "Del 100% de los datos se deja 20% como validación."
   ]
  },
  {
   "cell_type": "code",
   "execution_count": null,
   "metadata": {},
   "outputs": [],
   "source": [
    "x_train_base,x_val, y_train_base,y_val = train_test_split(datos.loc[:, datos.columns != 'is_legendary'],datos.loc[:,\"is_legendary\"], test_size=0.20,shuffle=True)"
   ]
  },
  {
   "attachments": {},
   "cell_type": "markdown",
   "metadata": {},
   "source": [
    "Del 80% de entrenamiento, se deja 70% para solo para entrenamiento y 30% de pruebas"
   ]
  },
  {
   "cell_type": "code",
   "execution_count": null,
   "metadata": {},
   "outputs": [],
   "source": [
    "x_train,x_test,  y_train,y_test = train_test_split(x_train_base,y_train_base, test_size=0.70,shuffle=True)"
   ]
  },
  {
   "attachments": {},
   "cell_type": "markdown",
   "metadata": {},
   "source": [
    "# Modelo para clasificar si un pokémon es o no legendario\n",
    "___"
   ]
  },
  {
   "cell_type": "code",
   "execution_count": null,
   "metadata": {},
   "outputs": [],
   "source": [
    "from sklearn.svm import SVC\n",
    "from sklearn.ensemble import RandomForestClassifier\n",
    "from sklearn.ensemble import GradientBoostingClassifier\n",
    "from sklearn.naive_bayes import GaussianNB\n",
    "from sklearn.neighbors import KNeighborsClassifier\n",
    "from sklearn.neural_network import MLPClassifier\n",
    "from xgboost import XGBClassifier\n",
    "\n",
    "from sklearn.model_selection import GridSearchCV\n"
   ]
  },
  {
   "cell_type": "code",
   "execution_count": null,
   "metadata": {},
   "outputs": [],
   "source": [
    "\n",
    "# aquí voy a crear un for que itere por modelo y parámetros, guarde en un dataframe el mejor estimador y mejor métrica, al final se compara\n",
    "\n",
    "\n",
    "models = [\n",
    "    (\"SVM\",SVC(),\n",
    "     {'model__C': [0.1, 1, 10, 100, 1000],\n",
    "      'model__gamma': [1, 0.1, 0.01, 0.001, 0.0001],\n",
    "      'model__kernel': ['rbf',\"linear\",\"polynomial\",\"sigmoid\"]}),\n",
    "\n",
    "    (\"Random Forest\",RandomForestClassifier(),\n",
    "     {\"model__n_estimators\":[10,100,200],\n",
    "      \"model__criterion\": [\"gini\", \"entropy\", \"log_loss\"],\n",
    "      \"model__max_depth\":[None,10,100]}),\n",
    "\n",
    "    (\"Gradient Boosting Descent\",GradientBoostingClassifier(),\n",
    "     {\"model__learning_rate\": [0.01, 0.025, 0.05, 0.075, 0.1, 0.15, 0.2],\n",
    "      \"model__min_samples_split\": np.linspace(0.1, 0.5, 12),\n",
    "      \"model__min_samples_leaf\": np.linspace(0.1, 0.5, 12),\n",
    "      \"model__max_depth\":[3,5,10]}),\n",
    "\n",
    "    (\"Naive Bayes\",GaussianNB(),\n",
    "     {'model__var_smoothing': np.logspace(0,-9, num=100)}),\n",
    "\n",
    "    (\"KNN\",KNeighborsClassifier(),\n",
    "     {\"model__n_neighbors\": list(range(1,15))}),\n",
    "\n",
    "    (\"Redes neuronales\",MLPClassifier(),\n",
    "     {'model__solver': ['adam',\"sgd\"],\n",
    "     'model__hidden_layer_sizes': [(50,50), (100,100), (100,100,100)],\n",
    "     'model__activation': ['logistic', 'tanh', 'relu'],\n",
    "     'model__alpha': [0.0001, 0.001, 0.005],\n",
    "     'model__early_stopping': [True, False]}),\n",
    "\n",
    "    (\"XGboost\",XGBClassifier(objective= 'binary:logistic'),\n",
    "     {'model__max_depth': range (2, 10, 2),\n",
    "      'model__n_estimators': range(60, 200, 40),\n",
    "      'model__learning_rate': [0.1, 0.01, 0.05]})\n",
    "]\n",
    "\n",
    "\n",
    "modelos = pd.DataFrame(models,columns=[\"model_name\",\"model\",\"param_grid\"])\n",
    "\n",
    "\n",
    "\n",
    "# for i in range(modelos.shape[0]):\n",
    "for i in range(2,3):\n",
    "    \n",
    "\n",
    "    pipe_base = Pipeline([\n",
    "        (\"preprocesamiento\",preprocessor),\n",
    "        (\"model\",modelos[\"model\"][i])\n",
    "    ])\n",
    "\n",
    "    grid_search = GridSearchCV(pipe_base,\n",
    "                               modelos[\"param_grid\"][i],\n",
    "                               scoring='accuracy',\n",
    "                               cv=3,\n",
    "                               verbose=3,\n",
    "                               refit=True,\n",
    "                               n_jobs=-1) \n",
    "    \n",
    "    grid_search.fit(x_train, y_train)\n",
    "\n",
    "    modelos.loc[i, 'grid_search'] = grid_search\n",
    "    modelos.loc[i, 'best_score'] = grid_search.best_score_"
   ]
  },
  {
   "cell_type": "code",
   "execution_count": null,
   "metadata": {},
   "outputs": [],
   "source": [
    "x_train"
   ]
  },
  {
   "attachments": {},
   "cell_type": "markdown",
   "metadata": {},
   "source": [
    "# 6. Partione en subconjunto de entrenamiento y validación"
   ]
  },
  {
   "attachments": {},
   "cell_type": "markdown",
   "metadata": {},
   "source": [
    "Particione sus datos en entrenamiento y validación para la busqueda de hiperparámetros. Recuerde que puede utilizar otras estrategias como k-fold o one-hold-out"
   ]
  },
  {
   "attachments": {},
   "cell_type": "markdown",
   "metadata": {},
   "source": [
    "# 7. Realice el escalamiento o normalización que requieran los datos\n",
    "\n",
    "Rucuerden que el escalamiento se realiza el fit en entrenamiento y el transform tanto en entrenamiento como pueba"
   ]
  },
  {
   "attachments": {},
   "cell_type": "markdown",
   "metadata": {
    "collapsed": false
   },
   "source": []
  },
  {
   "attachments": {},
   "cell_type": "markdown",
   "metadata": {},
   "source": [
    "# 8. Métodos no supervisados de agrupacion\n"
   ]
  },
  {
   "cell_type": "code",
   "execution_count": null,
   "metadata": {
    "collapsed": false
   },
   "outputs": [],
   "source": []
  },
  {
   "attachments": {},
   "cell_type": "markdown",
   "metadata": {},
   "source": [
    "La idea en este punto es probar varios métodos no supervisados. \n",
    "\n",
    "Posibles métodos:\n",
    "\n",
    "- K-means\n",
    "- Kmedoids\n",
    "- Spectral Clustering\n",
    "- DbScan\n",
    "- Tsne\n",
    "- Affinity Propagation\n",
    "\n",
    "https://scikit-learn.org/stable/modules/classes.html#module-sklearn.cluster\n",
    "\n",
    "https://scikit-learn.org/stable/modules/clustering.html#clustering"
   ]
  },
  {
   "attachments": {},
   "cell_type": "markdown",
   "metadata": {},
   "source": [
    "## Métricas:\n",
    "\n",
    "- Intrinsecas (inercia, coeficiente silueta)\n",
    "- Extrinsecas (Matriz Contingencia, homogeneidad, completez, v-score, f1-score, indice rand, )"
   ]
  },
  {
   "attachments": {},
   "cell_type": "markdown",
   "metadata": {},
   "source": [
    "# 8. Métodos supervisados"
   ]
  },
  {
   "attachments": {},
   "cell_type": "markdown",
   "metadata": {},
   "source": [
    "Posibles métodos:\n",
    "\n",
    "- SVM\n",
    "- Random Forest\n",
    "- Gradient Boosting Descent\n",
    "- Naive Bayes\n",
    "- Knn\n",
    "- Redes neuronales\n",
    "\n",
    "https://scikit-learn.org/stable/modules/classes.html#module-sklearn.svm\n",
    "\n",
    "https://scikit-learn.org/stable/modules/classes.html#module-sklearn.neural_network\n",
    "\n",
    "https://scikit-learn.org/stable/modules/classes.html#module-sklearn.naive_bayes\n",
    "\n",
    "https://scikit-learn.org/stable/modules/classes.html#module-sklearn.kernel_approximation"
   ]
  },
  {
   "cell_type": "code",
   "execution_count": null,
   "metadata": {
    "collapsed": false
   },
   "outputs": [],
   "source": [
    "from sklearn import svm\n",
    "from sklearn.model_selection import train_test_split\n",
    "from sklearn.metrics import accuracy_score\n",
    "\n",
    "data_SVM =datos\n",
    "X = data_SVM.data\n",
    "y = data_SVM.target\n",
    "\n",
    "# Paso 2: se iDividir los datos en conjuntos de entrenamiento y prueba\n",
    "X_train, X_test, y_train, y_test = train_test_split(X, y, test_size=0.2, random_state=42)\n",
    "\n",
    "# Paso 3: Crear un objeto del modelo SVM y entrenarlo\n",
    "model = svm.SVC(kernel='linear')\n",
    "model.fit(X_train, y_train)\n",
    "\n",
    "# Paso 4: Realizar predicciones en el conjunto de prueba\n",
    "y_pred = model.predict(X_test)\n",
    "\n",
    "# Paso 5: Evaluar el desempeño del modelo\n",
    "accuracy = accuracy_score(y_test, y_pred)\n",
    "\n",
    "# Paso 6: Imprimir el resultado\n",
    "print(\"Accuracy:\", accuracy)"
   ]
  },
  {
   "attachments": {},
   "cell_type": "markdown",
   "metadata": {},
   "source": [
    "Métricas:\n",
    "\n",
    "- Clasificación\n",
    "\n",
    "  - Accuracy\n",
    "  - Precision (Macro, Micro, Average)\n",
    "  - Recall (Macro, Micro, Average)\n",
    "  - F1-Score (Macro, Micro, Average)\n",
    "  - Sensitivity\n",
    "  - Auc-PR\n",
    "  - Auc-ROC\n",
    "  - Matriz de confusión\n",
    "\n",
    "- Regresión:\n",
    "\n",
    "  - MSE (mean squared error)\n",
    "  - RMSE (root mean squared erro)\n",
    "  - Log MSE\n",
    "  - MAE( mean average error)\n",
    "  - R^2"
   ]
  },
  {
   "attachments": {},
   "cell_type": "markdown",
   "metadata": {},
   "source": [
    "Metodología para encontrar hiperparametros con grid search cv o random search cv\n",
    "\n",
    "![image.png](data:image/png;base64,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)\n",
    "\n",
    "https://scikit-learn.org/stable/modules/classes.html#module-sklearn.model_selection"
   ]
  },
  {
   "attachments": {},
   "cell_type": "markdown",
   "metadata": {},
   "source": [
    "## ¿Cuál fue el mejor algoritmo que funcionó para sus datos?\n",
    "\n",
    "## ¿Por qué cree que fue el que mejor funcionó?\n",
    "## ¿Qué otras técnicas cree que puede utilizar para mejorar su algoritmo?"
   ]
  },
  {
   "attachments": {},
   "cell_type": "markdown",
   "metadata": {},
   "source": [
    "## ¿Los métodos aplicados le ayudaron a responder sus preguntas con base en los datos? Trate de mostrar gráficamente la información extraida del proceso.\n",
    "## ¿Le hicieron falta datos?, realice una conjetura sobre como podría obtener mejores resultados."
   ]
  }
 ],
 "metadata": {
  "kernelspec": {
   "display_name": "Python 3",
   "language": "python",
   "name": "python3"
  },
  "language_info": {
   "codemirror_mode": {
    "name": "ipython",
    "version": 3
   },
   "file_extension": ".py",
   "mimetype": "text/x-python",
   "name": "python",
   "nbconvert_exporter": "python",
   "pygments_lexer": "ipython3",
   "version": "3.11.3"
  },
  "orig_nbformat": 4
 },
 "nbformat": 4,
 "nbformat_minor": 2
}
