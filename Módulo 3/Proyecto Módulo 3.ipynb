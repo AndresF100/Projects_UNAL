{
  "cells": [
    {
      "attachments": {},
      "cell_type": "markdown",
      "metadata": {},
      "source": [
        "## Proyecto BIG DATA: Google Merchandise Store\n",
        "\n",
        "Daniela Gonzalez\n",
        "\n",
        "Andrés Forero\n",
        "\n",
        "Daniel Cuellar"
      ]
    },
    {
      "attachments": {},
      "cell_type": "markdown",
      "metadata": {},
      "source": [
        "## Librerías"
      ]
    },
    {
      "cell_type": "code",
      "execution_count": 4,
      "metadata": {},
      "outputs": [],
      "source": [
        "import dask.array as da\n",
        "import dask.dataframe as dd\n",
        "import numpy as np\n",
        "import pandas as pd\n",
        "import pymongo\n",
        "\n",
        "from pprint import pprint\n",
        "\n",
        "from ydata_profiling import ProfileReport\n",
        "\n",
        "from dask_mongo import read_mongo, to_mongo"
      ]
    },
    {
      "attachments": {},
      "cell_type": "markdown",
      "metadata": {},
      "source": [
        "## Contexto"
      ]
    },
    {
      "attachments": {},
      "cell_type": "markdown",
      "metadata": {},
      "source": [
        "Las bases de datos usadas se obtuvieron de [Kaggle](https://www.kaggle.com/competitions/ga-customer-revenue-prediction/overview). Comprende un conjunto de datos de clientes de Google Merchandise Store, usados para predecir los ingresos por cliente."
      ]
    },
    {
      "attachments": {},
      "cell_type": "markdown",
      "metadata": {},
      "source": [
        "## Descripción de los datos"
      ]
    },
    {
      "attachments": {},
      "cell_type": "markdown",
      "metadata": {},
      "source": [
        "El conjunto de datos contiene varios archivos csv para realizar los modelos de predicción, para el reto es necesario utilizar dos conjuntos de datos un para el entrenamiento y otro para la prueba. \n",
        "- train_v2.csv: El conjunto de datos contiene transacciones de usuario desde el 1 de agosto de 2016 hasta el 30 de abril de 2018.\n",
        "- test_v2.csv: El conjunto de datos contiene transacciones de usuario desde el 1 de mayo de 2018 hasta el 15 de octubre de 2018."
      ]
    },
    {
      "attachments": {},
      "cell_type": "markdown",
      "metadata": {},
      "source": [
        "<h3>Variables</h3>\n",
        "\n",
        "- fullVisitorId- Identificador único para cada usuario de Google Merchandise Store.\n",
        "- channelGrouping - Canal a través del cual el usuario llegó a la Tienda.\n",
        "- date - Fecha en la que el usuario visitó la Tienda.\n",
        "- device - Especificaciones del dispositivo utilizado para acceder a la tienda\n",
        "- geoNetwork - Información sobre la geografía del usuario.\n",
        "- socialEngagementType - Tipo de compromiso, ya sea \"Socialmente comprometido\" o \"No socialmente comprometido\". \n",
        "- totals - Valores agregados a lo largo de la sesión. \n",
        "- trafficSource - Información sobre la fuente de tráfico desde la que se originó la sesión.\n",
        "- visitId -  Identificador para la sesión.\n",
        "- visitNumber - Número de sesión de este usuario\n",
        "- visitStartTime - Marca de tiempo\n",
        "- hits - Proporciona un registro de todas las visitas a la página.\n",
        "- customDimensions - Contiene las dimensiones personalizadas a nivel de usuario o de sesión que se establecen para una sesión\n",
        "- totals - Incluye principalmente datos agregados de alto nivel"
      ]
    },
    {
      "attachments": {},
      "cell_type": "markdown",
      "metadata": {
        "id": "a9EhyHdIy7y_"
      },
      "source": [
        "## 1 Objetivos"
      ]
    },
    {
      "attachments": {},
      "cell_type": "markdown",
      "metadata": {
        "id": "-sxy-UwAjKhE"
      },
      "source": [
        "- Objetivo general\n",
        "\n",
        "    - Aplicar herramientas adecuadas para la administración y procesamiento eficiente de grandes volúmenes de datos, con el fin de optimizar el almacenamiento, la manipulación y el análisis de la información, brindando así una base sólida para la toma de decisiones fundamentada en datos. \n",
        "\n",
        "<br>\n",
        "\n",
        "\n",
        "\n",
        "- Objetivos especificos\n",
        "\n",
        "    - Utilizar MongoDB para almacenar y procesar la base de datos Google Merchandise Store, para una mejor gestión en las consultas y rendimiento en las solicitudes.\n",
        "\n",
        "    - Implementar Dask para conectar y trabajar con los datos almacenados en MongoDB, que permita aprovechar las capacidades de procesamiento de Dask en combinación con la flexibilidad de MongoDB, utilizando estrategias de particionamiento y ejecución distribuida.\n",
        "\n"
      ]
    },
    {
      "attachments": {},
      "cell_type": "markdown",
      "metadata": {},
      "source": [
        "## 2 Creación de base de datos en Mongo"
      ]
    },
    {
      "attachments": {},
      "cell_type": "markdown",
      "metadata": {},
      "source": [
        "Para manejar los datasets de entrenamiento y prueba con un peso combinado de 30,7 GB, y al poseer estructuras documentales dentro de la misma, se optó por cargarlos en una base local con Mongo."
      ]
    },
    {
      "attachments": {},
      "cell_type": "markdown",
      "metadata": {},
      "source": [
        "<img src = \"https://drive.google.com/uc?id=1mUg8y2gjhUSBE7TVIOqKConA4ubhYQze\" alt = \"Encabezado MLDS\" width = \"80%\">  </img>   "
      ]
    },
    {
      "attachments": {},
      "cell_type": "markdown",
      "metadata": {},
      "source": [
        "De esta manera podemos aprovechar la interfaz para vistas rápidas, o incluso generar esquemas."
      ]
    },
    {
      "attachments": {},
      "cell_type": "markdown",
      "metadata": {},
      "source": [
        "<img src = \"https://drive.google.com/uc?id=1wN7_0YhbzPEa-Eqp5yUbFM0qYuw5x0Rl\" alt = \"Encabezado MLDS\" width = \"80%\">  </img>  "
      ]
    },
    {
      "attachments": {},
      "cell_type": "markdown",
      "metadata": {},
      "source": [
        "## 3 Conexión a la base de datos de Mongo"
      ]
    },
    {
      "cell_type": "code",
      "execution_count": 3,
      "metadata": {},
      "outputs": [],
      "source": [
        "client = pymongo.MongoClient(\"mongodb://localhost:27017\")\n",
        "bd= client[\"Proyecto_MOD_3\"]\n",
        "collection_Test = bd[\"Test\"]\n",
        "collection_Train = bd[\"Train\"]\n"
      ]
    },
    {
      "attachments": {},
      "cell_type": "markdown",
      "metadata": {},
      "source": [
        "### Muestra de la base"
      ]
    },
    {
      "cell_type": "code",
      "execution_count": 13,
      "metadata": {},
      "outputs": [
        {
          "name": "stdout",
          "output_type": "stream",
          "text": [
            "{'_id': ObjectId('648f8586aec8990bd2ff8e99'),\n",
            " 'channelGrouping': 'Organic Search',\n",
            " 'customDimensions': \"[{'index': '4', 'value': 'APAC'}]\",\n",
            " 'date': 20180511,\n",
            " 'device': {'browser': 'Chrome',\n",
            "            'browserSize': 'not available in demo dataset',\n",
            "            'browserVersion': 'not available in demo dataset',\n",
            "            'deviceCategory': 'mobile',\n",
            "            'flashVersion': 'not available in demo dataset',\n",
            "            'isMobile': True,\n",
            "            'language': 'not available in demo dataset',\n",
            "            'mobileDeviceBranding': 'not available in demo dataset',\n",
            "            'mobileDeviceInfo': 'not available in demo dataset',\n",
            "            'mobileDeviceMarketingName': 'not available in demo dataset',\n",
            "            'mobileDeviceModel': 'not available in demo dataset',\n",
            "            'mobileInputSelector': 'not available in demo dataset',\n",
            "            'operatingSystem': 'Android',\n",
            "            'operatingSystemVersion': 'not available in demo dataset',\n",
            "            'screenColors': 'not available in demo dataset',\n",
            "            'screenResolution': 'not available in demo dataset'},\n",
            " 'fullVisitorId': 7460955084541987166,\n",
            " 'geoNetwork': {'city': '(not set)',\n",
            "                'cityId': 'not available in demo dataset',\n",
            "                'continent': 'Asia',\n",
            "                'country': 'India',\n",
            "                'latitude': 'not available in demo dataset',\n",
            "                'longitude': 'not available in demo dataset',\n",
            "                'metro': '(not set)',\n",
            "                'networkDomain': 'unknown.unknown',\n",
            "                'networkLocation': 'not available in demo dataset',\n",
            "                'region': 'Delhi',\n",
            "                'subContinent': 'Southern Asia'},\n",
            " 'hits': \"[{'hitNumber': '1', 'time': '0', 'hour': '21', 'minute': '29', \"\n",
            "         \"'isInteraction': True, 'page': {'pagePath': '/home', 'hostname': \"\n",
            "         \"'shop.googlemerchandisestore.com', 'pageTitle': 'Home', \"\n",
            "         \"'pagePathLevel1': '/home', 'pagePathLevel2': '', 'pagePathLevel3': \"\n",
            "         \"'', 'pagePathLevel4': ''}, 'appInfo': {'screenName': \"\n",
            "         \"'shop.googlemerchandisestore.com/home', 'landingScreenName': \"\n",
            "         \"'shop.googlemerchandisestore.com/home', 'exitScreenName': \"\n",
            "         \"'shop.googlemerchandisestore.com/home', 'screenDepth': '0'}, \"\n",
            "         \"'exceptionInfo': {'isFatal': True}, 'eventInfo': {'eventCategory': \"\n",
            "         \"'Enhanced Ecommerce', 'eventAction': 'Promotion Click'}, 'product': \"\n",
            "         \"[], 'promotion': [{'promoId': 'Category Row 2', 'promoName': \"\n",
            "         \"'Accessories', 'promoCreative': 'toy.png', 'promoPosition': \"\n",
            "         \"'Category Row 2'}], 'promotionActionInfo': {'promoIsClick': True}, \"\n",
            "         \"'eCommerceAction': {'action_type': '0', 'step': '1'}, 'experiment': \"\n",
            "         \"[], 'customVariables': [], 'customDimensions': [], 'customMetrics': \"\n",
            "         \"[], 'type': 'EVENT', 'social': {'socialNetwork': '(not set)', \"\n",
            "         \"'hasSocialSourceReferral': 'No', 'socialInteractionNetworkAction': ' \"\n",
            "         \": '}, 'contentGroup': {'contentGroup1': '(not set)', \"\n",
            "         \"'contentGroup2': '(not set)', 'contentGroup3': '(not set)', \"\n",
            "         \"'contentGroup4': '(not set)', 'contentGroup5': '(not set)', \"\n",
            "         \"'previousContentGroup1': '(entrance)', 'previousContentGroup2': \"\n",
            "         \"'(entrance)', 'previousContentGroup3': '(entrance)', \"\n",
            "         \"'previousContentGroup4': '(entrance)', 'previousContentGroup5': \"\n",
            "         \"'(entrance)'}, 'dataSource': 'web', 'publisher_infos': []}, \"\n",
            "         \"{'hitNumber': '2', 'time': '3352', 'hour': '21', 'minute': '29', \"\n",
            "         \"'isInteraction': True, 'isEntrance': True, 'page': {'pagePath': \"\n",
            "         \"'/google+redesign/accessories', 'hostname': \"\n",
            "         \"'shop.googlemerchandisestore.com', 'pageTitle': 'Accessories | \"\n",
            "         \"Google Merchandise Store', 'pagePathLevel1': '/google+redesign/', \"\n",
            "         \"'pagePathLevel2': '/accessories', 'pagePathLevel3': '', \"\n",
            "         \"'pagePathLevel4': ''}, 'transaction': {'currencyCode': 'USD'}, \"\n",
            "         \"'item': {'currencyCode': 'USD'}, 'appInfo': {'screenName': \"\n",
            "         \"'shop.googlemerchandisestore.com/google+redesign/accessories', \"\n",
            "         \"'landingScreenName': 'shop.googlemerchandisestore.com/home', \"\n",
            "         \"'exitScreenName': 'shop.googlemerchandisestore.com/home', \"\n",
            "         \"'screenDepth': '0'}, 'exceptionInfo': {'isFatal': True}, 'product': \"\n",
            "         \"[{'productSKU': 'GGOEAKDH019899', 'v2ProductName': 'Windup Android', \"\n",
            "         \"'v2ProductCategory': 'Home/Accessories/', 'productVariant': '(not \"\n",
            "         \"set)', 'productBrand': '(not set)', 'productPrice': '3990000', \"\n",
            "         \"'localProductPrice': '3990000', 'isImpression': True, \"\n",
            "         \"'customDimensions': [], 'customMetrics': [], 'productListName': \"\n",
            "         \"'Category', 'productListPosition': '1', 'productCouponCode': '(not \"\n",
            "         \"set)'}, {'productSKU': 'GGOEGFSR022099', 'v2ProductName': 'Google \"\n",
            "         \"Mini Kick Ball', 'v2ProductCategory': 'Home/Accessories/', \"\n",
            "         \"'productVariant': '(not set)', 'productBrand': '(not set)', \"\n",
            "         \"'productPrice': '1990000', 'localProductPrice': '1990000', \"\n",
            "         \"'isImpression': True, 'customDimensions': [], 'customMetrics': [], \"\n",
            "         \"'productListName': 'Category', 'productListPosition': '2', \"\n",
            "         \"'productCouponCode': '(not set)'}, {'productSKU': 'GGOEGEBK094499', \"\n",
            "         \"'v2ProductName': 'Google Bot', 'v2ProductCategory': \"\n",
            "         \"'Home/Accessories/', 'productVariant': '(not set)', 'productBrand': \"\n",
            "         \"'(not set)', 'productPrice': '9990000', 'localProductPrice': \"\n",
            "         \"'9990000', 'isImpression': True, 'customDimensions': [], \"\n",
            "         \"'customMetrics': [], 'productListName': 'Category', \"\n",
            "         \"'productListPosition': '3', 'productCouponCode': '(not set)'}, \"\n",
            "         \"{'productSKU': 'GGOEGPJC019099', 'v2ProductName': '7&quot; Dog \"\n",
            "         \"Frisbee', 'v2ProductCategory': 'Home/Accessories/', \"\n",
            "         \"'productVariant': '(not set)', 'productBrand': '(not set)', \"\n",
            "         \"'productPrice': '1500000', 'localProductPrice': '1500000', \"\n",
            "         \"'isImpression': True, 'customDimensions': [], 'customMetrics': [], \"\n",
            "         \"'productListName': 'Category', 'productListPosition': '4', \"\n",
            "         \"'productCouponCode': '(not set)'}, {'productSKU': 'GGOEAFKA087499', \"\n",
            "         \"'v2ProductName': 'Android Small Removable Sticker Sheet', \"\n",
            "         \"'v2ProductCategory': 'Home/Accessories/', 'productVariant': '(not \"\n",
            "         \"set)', 'productBrand': '(not set)', 'productPrice': '2990000', \"\n",
            "         \"'localProductPrice': '2990000', 'isImpression': True, \"\n",
            "         \"'customDimensions': [], 'customMetrics': [], 'productListName': \"\n",
            "         \"'Category', 'productListPosition': '5', 'productCouponCode': '(not \"\n",
            "         \"set)'}, {'productSKU': 'GGOEAFKA087599', 'v2ProductName': 'Android \"\n",
            "         \"Large Removable Sticker Sheet', 'v2ProductCategory': \"\n",
            "         \"'Home/Accessories/', 'productVariant': '(not set)', 'productBrand': \"\n",
            "         \"'(not set)', 'productPrice': '2990000', 'localProductPrice': \"\n",
            "         \"'2990000', 'isImpression': True, 'customDimensions': [], \"\n",
            "         \"'customMetrics': [], 'productListName': 'Category', \"\n",
            "         \"'productListPosition': '6', 'productCouponCode': '(not set)'}, \"\n",
            "         \"{'productSKU': 'GGOEGABL100799', 'v2ProductName': 'Google Mouse Pad \"\n",
            "         \"Navy', 'v2ProductCategory': 'Home/Accessories/', 'productVariant': \"\n",
            "         \"'(not set)', 'productBrand': '(not set)', 'productPrice': '4990000', \"\n",
            "         \"'localProductPrice': '4990000', 'isImpression': True, \"\n",
            "         \"'customDimensions': [], 'customMetrics': [], 'productListName': \"\n",
            "         \"'Category', 'productListPosition': '7', 'productCouponCode': '(not \"\n",
            "         \"set)'}, {'productSKU': 'GGOEGCBQ098999', 'v2ProductName': 'Google \"\n",
            "         \"Lip Balm & Sanitizer Duo', 'v2ProductCategory': 'Home/Accessories/', \"\n",
            "         \"'productVariant': '(not set)', 'productBrand': '(not set)', \"\n",
            "         \"'productPrice': '6990000', 'localProductPrice': '6990000', \"\n",
            "         \"'isImpression': True, 'customDimensions': [], 'customMetrics': [], \"\n",
            "         \"'productListName': 'Category', 'productListPosition': '8', \"\n",
            "         \"'productCouponCode': '(not set)'}, {'productSKU': 'GGOEGEGC099099', \"\n",
            "         \"'v2ProductName': 'Google Small Cable Organizer Blue', \"\n",
            "         \"'v2ProductCategory': 'Home/Accessories/', 'productVariant': '(not \"\n",
            "         \"set)', 'productBrand': '(not set)', 'productPrice': '2990000', \"\n",
            "         \"'localProductPrice': '2990000', 'isImpression': True, \"\n",
            "         \"'customDimensions': [], 'customMetrics': [], 'productListName': \"\n",
            "         \"'Category', 'productListPosition': '9', 'productCouponCode': '(not \"\n",
            "         \"set)'}, {'productSKU': 'GGOEGFKA086699', 'v2ProductName': 'Google \"\n",
            "         \"Emoji Sticker Pack', 'v2ProductCategory': 'Home/Accessories/', \"\n",
            "         \"'productVariant': '(not set)', 'productBrand': '(not set)', \"\n",
            "         \"'productPrice': '4990000', 'localProductPrice': '4990000', \"\n",
            "         \"'isImpression': True, 'customDimensions': [], 'customMetrics': [], \"\n",
            "         \"'productListName': 'Category', 'productListPosition': '10', \"\n",
            "         \"'productCouponCode': '(not set)'}, {'productSKU': 'GGOEGFKQ020399', \"\n",
            "         \"'v2ProductName': 'Google Laptop and Cell Phone Stickers', \"\n",
            "         \"'v2ProductCategory': 'Home/Accessories/', 'productVariant': '(not \"\n",
            "         \"set)', 'productBrand': '(not set)', 'productPrice': '2990000', \"\n",
            "         \"'localProductPrice': '2990000', 'isImpression': True, \"\n",
            "         \"'customDimensions': [], 'customMetrics': [], 'productListName': \"\n",
            "         \"'Category', 'productListPosition': '11', 'productCouponCode': '(not \"\n",
            "         \"set)'}, {'productSKU': 'GGOEWCKQ085457', 'v2ProductName': 'Waze Pack \"\n",
            "         \"of 9 Decal Set', 'v2ProductCategory': 'Home/Accessories/', \"\n",
            "         \"'productVariant': '(not set)', 'productBrand': '(not set)', \"\n",
            "         \"'productPrice': '16990000', 'localProductPrice': '16990000', \"\n",
            "         \"'isImpression': True, 'customDimensions': [], 'customMetrics': [], \"\n",
            "         \"'productListName': 'Category', 'productListPosition': '12', \"\n",
            "         \"'productCouponCode': '(not set)'}], 'promotion': [], \"\n",
            "         \"'eCommerceAction': {'action_type': '0', 'step': '1'}, 'experiment': \"\n",
            "         \"[], 'customVariables': [], 'customDimensions': [], 'customMetrics': \"\n",
            "         \"[], 'type': 'PAGE', 'social': {'socialNetwork': '(not set)', \"\n",
            "         \"'hasSocialSourceReferral': 'No', 'socialInteractionNetworkAction': ' \"\n",
            "         \": '}, 'contentGroup': {'contentGroup1': '(not set)', \"\n",
            "         \"'contentGroup2': 'Accessories', 'contentGroup3': '(not set)', \"\n",
            "         \"'contentGroup4': '(not set)', 'contentGroup5': '(not set)', \"\n",
            "         \"'previousContentGroup1': '(not set)', 'previousContentGroup2': '(not \"\n",
            "         \"set)', 'previousContentGroup3': '(not set)', \"\n",
            "         \"'previousContentGroup4': '(not set)', 'previousContentGroup5': '(not \"\n",
            "         \"set)', 'contentGroupUniqueViews2': '1'}, 'dataSource': 'web', \"\n",
            "         \"'publisher_infos': []}, {'hitNumber': '3', 'time': '19216', 'hour': \"\n",
            "         \"'21', 'minute': '29', 'isInteraction': True, 'page': {'pagePath': \"\n",
            "         \"'/home', 'hostname': 'shop.googlemerchandisestore.com', 'pageTitle': \"\n",
            "         \"'Home', 'pagePathLevel1': '/home', 'pagePathLevel2': '', \"\n",
            "         \"'pagePathLevel3': '', 'pagePathLevel4': ''}, 'appInfo': \"\n",
            "         \"{'screenName': 'shop.googlemerchandisestore.com/home', \"\n",
            "         \"'landingScreenName': 'shop.googlemerchandisestore.com/home', \"\n",
            "         \"'exitScreenName': 'shop.googlemerchandisestore.com/home', \"\n",
            "         \"'screenDepth': '0'}, 'exceptionInfo': {'isFatal': True}, 'product': \"\n",
            "         \"[], 'promotion': [{'promoId': 'Apparel Row 1', 'promoName': \"\n",
            "         \"'Apparel', 'promoCreative': 'home_main_link_apparel.jpg', \"\n",
            "         \"'promoPosition': 'Row 1'}, {'promoId': 'Backpacks Row 2 Combo', \"\n",
            "         \"'promoName': 'Backpacks', 'promoCreative': 'home_bags_google_2.jpg', \"\n",
            "         \"'promoPosition': 'Row 2 Combo'}, {'promoId': 'Mens T-Shirts Row \"\n",
            "         \"3-1', 'promoName': 'Mens T-Shirts', 'promoCreative': \"\n",
            "         \"'mens-tshirts.jpg', 'promoPosition': 'Row 3-1'}, {'promoId': 'Womens \"\n",
            "         \"T-Shirts Row 3-2', 'promoName': 'Womens T-Shirts', 'promoCreative': \"\n",
            "         \"'womens-tshirts.jpg', 'promoPosition': 'Row 3-2'}, {'promoId': \"\n",
            "         \"'Office Row 5 Color Combo', 'promoName': 'Office', 'promoCreative': \"\n",
            "         \"'green_row_link_to_office.jpg', 'promoPosition': 'Row 5 Color \"\n",
            "         \"Combo'}, {'promoId': 'Drinkware Row 4 Color Combo', 'promoName': \"\n",
            "         \"'Drinkware', 'promoCreative': 'red_row_hydrate.jpg', \"\n",
            "         \"'promoPosition': 'Row 4 Color Combo'}, {'promoId': 'Google Brand Row \"\n",
            "         \"7-1', 'promoName': 'Google Brand', 'promoCreative': \"\n",
            "         \"'home_lower_google_500.jpg', 'promoPosition': 'Brand Row 7-1'}, \"\n",
            "         \"{'promoId': 'YouTube Brand Row 7-2', 'promoName': 'YouTube Brand', \"\n",
            "         \"'promoCreative': 'home_lower_youtube_500.jpg', 'promoPosition': \"\n",
            "         \"'Brand Row 7-2'}, {'promoId': 'Android Brand Row 7-3', 'promoName': \"\n",
            "         \"'Andriod Brand', 'promoCreative': 'home_lower_android_500.jpg', \"\n",
            "         \"'promoPosition': 'Brand Row 7-3'}], 'promotionActionInfo': \"\n",
            "         \"{'promoIsView': True}, 'eCommerceAction': {'action_type': '0', \"\n",
            "         \"'step': '1'}, 'experiment': [], 'customVariables': [], \"\n",
            "         \"'customDimensions': [], 'customMetrics': [], 'type': 'PAGE', \"\n",
            "         \"'social': {'socialNetwork': '(not set)', 'hasSocialSourceReferral': \"\n",
            "         \"'No', 'socialInteractionNetworkAction': ' : '}, 'contentGroup': \"\n",
            "         \"{'contentGroup1': '(not set)', 'contentGroup2': '(not set)', \"\n",
            "         \"'contentGroup3': '(not set)', 'contentGroup4': '(not set)', \"\n",
            "         \"'contentGroup5': '(not set)', 'previousContentGroup1': '(not set)', \"\n",
            "         \"'previousContentGroup2': 'Accessories', 'previousContentGroup3': \"\n",
            "         \"'(not set)', 'previousContentGroup4': '(not set)', \"\n",
            "         \"'previousContentGroup5': '(not set)'}, 'dataSource': 'web', \"\n",
            "         \"'publisher_infos': []}, {'hitNumber': '4', 'time': '973047', 'hour': \"\n",
            "         \"'21', 'minute': '45', 'isInteraction': True, 'isExit': True, 'page': \"\n",
            "         \"{'pagePath': '/home', 'hostname': 'shop.googlemerchandisestore.com', \"\n",
            "         \"'pageTitle': 'Home', 'pagePathLevel1': '/home', 'pagePathLevel2': \"\n",
            "         \"'', 'pagePathLevel3': '', 'pagePathLevel4': ''}, 'appInfo': \"\n",
            "         \"{'screenName': 'shop.googlemerchandisestore.com/home', \"\n",
            "         \"'landingScreenName': 'shop.googlemerchandisestore.com/home', \"\n",
            "         \"'exitScreenName': 'shop.googlemerchandisestore.com/home', \"\n",
            "         \"'screenDepth': '0'}, 'exceptionInfo': {'isFatal': True}, 'product': \"\n",
            "         \"[], 'promotion': [{'promoId': 'Apparel Row 1', 'promoName': \"\n",
            "         \"'Apparel', 'promoCreative': 'home_main_link_apparel.jpg', \"\n",
            "         \"'promoPosition': 'Row 1'}, {'promoId': 'Backpacks Row 2 Combo', \"\n",
            "         \"'promoName': 'Backpacks', 'promoCreative': 'home_bags_google_2.jpg', \"\n",
            "         \"'promoPosition': 'Row 2 Combo'}, {'promoId': 'Mens T-Shirts Row \"\n",
            "         \"3-1', 'promoName': 'Mens T-Shirts', 'promoCreative': \"\n",
            "         \"'mens-tshirts.jpg', 'promoPosition': 'Row 3-1'}, {'promoId': 'Womens \"\n",
            "         \"T-Shirts Row 3-2', 'promoName': 'Womens T-Shirts', 'promoCreative': \"\n",
            "         \"'womens-tshirts.jpg', 'promoPosition': 'Row 3-2'}, {'promoId': \"\n",
            "         \"'Office Row 5 Color Combo', 'promoName': 'Office', 'promoCreative': \"\n",
            "         \"'green_row_link_to_office.jpg', 'promoPosition': 'Row 5 Color \"\n",
            "         \"Combo'}, {'promoId': 'Drinkware Row 4 Color Combo', 'promoName': \"\n",
            "         \"'Drinkware', 'promoCreative': 'red_row_hydrate.jpg', \"\n",
            "         \"'promoPosition': 'Row 4 Color Combo'}, {'promoId': 'Google Brand Row \"\n",
            "         \"7-1', 'promoName': 'Google Brand', 'promoCreative': \"\n",
            "         \"'home_lower_google_500.jpg', 'promoPosition': 'Brand Row 7-1'}, \"\n",
            "         \"{'promoId': 'YouTube Brand Row 7-2', 'promoName': 'YouTube Brand', \"\n",
            "         \"'promoCreative': 'home_lower_youtube_500.jpg', 'promoPosition': \"\n",
            "         \"'Brand Row 7-2'}, {'promoId': 'Android Brand Row 7-3', 'promoName': \"\n",
            "         \"'Andriod Brand', 'promoCreative': 'home_lower_android_500.jpg', \"\n",
            "         \"'promoPosition': 'Brand Row 7-3'}], 'promotionActionInfo': \"\n",
            "         \"{'promoIsView': True}, 'eCommerceAction': {'action_type': '0', \"\n",
            "         \"'step': '1'}, 'experiment': [], 'customVariables': [], \"\n",
            "         \"'customDimensions': [], 'customMetrics': [], 'type': 'PAGE', \"\n",
            "         \"'social': {'socialNetwork': '(not set)', 'hasSocialSourceReferral': \"\n",
            "         \"'No', 'socialInteractionNetworkAction': ' : '}, 'contentGroup': \"\n",
            "         \"{'contentGroup1': '(not set)', 'contentGroup2': '(not set)', \"\n",
            "         \"'contentGroup3': '(not set)', 'contentGroup4': '(not set)', \"\n",
            "         \"'contentGroup5': '(not set)', 'previousContentGroup1': '(not set)', \"\n",
            "         \"'previousContentGroup2': 'Accessories', 'previousContentGroup3': \"\n",
            "         \"'(not set)', 'previousContentGroup4': '(not set)', \"\n",
            "         \"'previousContentGroup5': '(not set)'}, 'dataSource': 'web', \"\n",
            "         \"'publisher_infos': []}]\",\n",
            " 'socialEngagementType': 'Not Socially Engaged',\n",
            " 'totals': {'hits': '4',\n",
            "            'pageviews': '3',\n",
            "            'sessionQualityDim': '1',\n",
            "            'timeOnSite': '973',\n",
            "            'visits': '1'},\n",
            " 'trafficSource': {'adContent': '(not set)',\n",
            "                   'adwordsClickInfo': {'criteriaParameters': 'not available '\n",
            "                                                              'in demo '\n",
            "                                                              'dataset'},\n",
            "                   'campaign': '(not set)',\n",
            "                   'isTrueDirect': True,\n",
            "                   'keyword': '(not provided)',\n",
            "                   'medium': 'organic',\n",
            "                   'referralPath': '(not set)',\n",
            "                   'source': 'google'},\n",
            " 'visitId': 1526099341,\n",
            " 'visitNumber': 2,\n",
            " 'visitStartTime': 1526099341}\n"
          ]
        }
      ],
      "source": [
        "pprint(collection_Test.find_one({}))"
      ]
    },
    {
      "cell_type": "code",
      "execution_count": 14,
      "metadata": {},
      "outputs": [
        {
          "name": "stdout",
          "output_type": "stream",
          "text": [
            "{'_id': ObjectId('648f86efaec8990bd205af51'),\n",
            " 'channelGrouping': 'Organic Search',\n",
            " 'customDimensions': \"[{'index': '4', 'value': 'EMEA'}]\",\n",
            " 'date': 20171016,\n",
            " 'device': {'browser': 'Firefox',\n",
            "            'browserSize': 'not available in demo dataset',\n",
            "            'browserVersion': 'not available in demo dataset',\n",
            "            'deviceCategory': 'desktop',\n",
            "            'flashVersion': 'not available in demo dataset',\n",
            "            'isMobile': False,\n",
            "            'language': 'not available in demo dataset',\n",
            "            'mobileDeviceBranding': 'not available in demo dataset',\n",
            "            'mobileDeviceInfo': 'not available in demo dataset',\n",
            "            'mobileDeviceMarketingName': 'not available in demo dataset',\n",
            "            'mobileDeviceModel': 'not available in demo dataset',\n",
            "            'mobileInputSelector': 'not available in demo dataset',\n",
            "            'operatingSystem': 'Windows',\n",
            "            'operatingSystemVersion': 'not available in demo dataset',\n",
            "            'screenColors': 'not available in demo dataset',\n",
            "            'screenResolution': 'not available in demo dataset'},\n",
            " 'fullVisitorId': 3162355547410993243,\n",
            " 'geoNetwork': {'city': 'not available in demo dataset',\n",
            "                'cityId': 'not available in demo dataset',\n",
            "                'continent': 'Europe',\n",
            "                'country': 'Germany',\n",
            "                'latitude': 'not available in demo dataset',\n",
            "                'longitude': 'not available in demo dataset',\n",
            "                'metro': 'not available in demo dataset',\n",
            "                'networkDomain': '(not set)',\n",
            "                'networkLocation': 'not available in demo dataset',\n",
            "                'region': 'not available in demo dataset',\n",
            "                'subContinent': 'Western Europe'},\n",
            " 'hits': \"[{'hitNumber': '1', 'time': '0', 'hour': '17', 'minute': '0', \"\n",
            "         \"'isInteraction': True, 'isEntrance': True, 'isExit': True, \"\n",
            "         \"'referer': \"\n",
            "         \"'https://www.google.co.uk/search?q=water+bottle&ie=utf-8&num=100&oe=utf-8&hl=en&gl=GB&uule=w+CAIQIFISCamRx0IRO1oCEXoliDJDoPjE&glp=1&gws_rd=cr&fg=1', \"\n",
            "         \"'page': {'pagePath': \"\n",
            "         \"'/google+redesign/bags/water+bottles+and+tumblers', 'hostname': \"\n",
            "         \"'shop.googlemerchandisestore.com', 'pageTitle': 'Water Bottles & \"\n",
            "         \"Tumblers | Drinkware | Google Merchandise Store', 'pagePathLevel1': \"\n",
            "         \"'/google+redesign/', 'pagePathLevel2': '/bags/', 'pagePathLevel3': \"\n",
            "         \"'/water+bottles+and+tumblers', 'pagePathLevel4': ''}, 'transaction': \"\n",
            "         \"{'currencyCode': 'USD'}, 'item': {'currencyCode': 'USD'}, 'appInfo': \"\n",
            "         \"{'screenName': \"\n",
            "         \"'shop.googlemerchandisestore.com/google+redesign/bags/water+bottles+and+tumblers', \"\n",
            "         \"'landingScreenName': \"\n",
            "         \"'shop.googlemerchandisestore.com/google+redesign/bags/water+bottles+and+tumblers', \"\n",
            "         \"'exitScreenName': \"\n",
            "         \"'shop.googlemerchandisestore.com/google+redesign/bags/water+bottles+and+tumblers', \"\n",
            "         \"'screenDepth': '0'}, 'exceptionInfo': {'isFatal': True}, 'product': \"\n",
            "         \"[{'productSKU': 'GGOEGDHC074099', 'v2ProductName': 'Google 17oz \"\n",
            "         \"Stainless Steel Sport Bottle', 'v2ProductCategory': \"\n",
            "         \"'Home/Drinkware/Water Bottles and Tumblers/', 'productVariant': \"\n",
            "         \"'(not set)', 'productBrand': '(not set)', 'productPrice': \"\n",
            "         \"'23990000', 'localProductPrice': '23990000', 'isImpression': True, \"\n",
            "         \"'customDimensions': [], 'customMetrics': [], 'productListName': \"\n",
            "         \"'Category', 'productListPosition': '1'}, {'productSKU': \"\n",
            "         \"'GGOEGDHQ015399', 'v2ProductName': '26 oz Double Wall Insulated \"\n",
            "         \"Bottle', 'v2ProductCategory': 'Home/Drinkware/Water Bottles and \"\n",
            "         \"Tumblers/', 'productVariant': '(not set)', 'productBrand': '(not \"\n",
            "         \"set)', 'productPrice': '24990000', 'localProductPrice': '24990000', \"\n",
            "         \"'isImpression': True, 'customDimensions': [], 'customMetrics': [], \"\n",
            "         \"'productListName': 'Category', 'productListPosition': '2'}, \"\n",
            "         \"{'productSKU': 'GGOEYDHJ056099', 'v2ProductName': '22 oz YouTube \"\n",
            "         \"Bottle Infuser', 'v2ProductCategory': 'Home/Drinkware/Water Bottles \"\n",
            "         \"and Tumblers/', 'productVariant': '(not set)', 'productBrand': '(not \"\n",
            "         \"set)', 'productPrice': '4990000', 'localProductPrice': '4990000', \"\n",
            "         \"'isImpression': True, 'customDimensions': [], 'customMetrics': [], \"\n",
            "         \"'productListName': 'Category', 'productListPosition': '3'}, \"\n",
            "         \"{'productSKU': 'GGOEGAAX0074', 'v2ProductName': 'Google 22 oz Water \"\n",
            "         \"Bottle', 'v2ProductCategory': 'Home/Drinkware/Water Bottles and \"\n",
            "         \"Tumblers/', 'productVariant': '(not set)', 'productBrand': '(not \"\n",
            "         \"set)', 'productPrice': '2990000', 'localProductPrice': '2990000', \"\n",
            "         \"'isImpression': True, 'customDimensions': [], 'customMetrics': [], \"\n",
            "         \"'productListName': 'Category', 'productListPosition': '4'}], \"\n",
            "         \"'promotion': [], 'eCommerceAction': {'action_type': '0', 'step': \"\n",
            "         \"'1'}, 'experiment': [], 'customVariables': [], 'customDimensions': \"\n",
            "         \"[], 'customMetrics': [], 'type': 'PAGE', 'social': {'socialNetwork': \"\n",
            "         \"'(not set)', 'hasSocialSourceReferral': 'No', \"\n",
            "         \"'socialInteractionNetworkAction': ' : '}, 'contentGroup': \"\n",
            "         \"{'contentGroup1': '(not set)', 'contentGroup2': 'Bags', \"\n",
            "         \"'contentGroup3': '(not set)', 'contentGroup4': '(not set)', \"\n",
            "         \"'contentGroup5': '(not set)', 'previousContentGroup1': '(entrance)', \"\n",
            "         \"'previousContentGroup2': '(entrance)', 'previousContentGroup3': \"\n",
            "         \"'(entrance)', 'previousContentGroup4': '(entrance)', \"\n",
            "         \"'previousContentGroup5': '(entrance)', 'contentGroupUniqueViews2': \"\n",
            "         \"'1'}, 'dataSource': 'web', 'publisher_infos': []}]\",\n",
            " 'socialEngagementType': 'Not Socially Engaged',\n",
            " 'totals': {'bounces': '1',\n",
            "            'hits': '1',\n",
            "            'newVisits': '1',\n",
            "            'pageviews': '1',\n",
            "            'sessionQualityDim': '1',\n",
            "            'visits': '1'},\n",
            " 'trafficSource': {'adwordsClickInfo': {'criteriaParameters': 'not available '\n",
            "                                                              'in demo '\n",
            "                                                              'dataset'},\n",
            "                   'campaign': '(not set)',\n",
            "                   'keyword': 'water bottle',\n",
            "                   'medium': 'organic',\n",
            "                   'source': 'google'},\n",
            " 'visitId': 1508198450,\n",
            " 'visitNumber': 1,\n",
            " 'visitStartTime': 1508198450}\n"
          ]
        }
      ],
      "source": [
        "pprint(collection_Train.find_one({}))"
      ]
    },
    {
      "attachments": {},
      "cell_type": "markdown",
      "metadata": {},
      "source": [
        "### Limpieza de datos"
      ]
    },
    {
      "attachments": {},
      "cell_type": "markdown",
      "metadata": {},
      "source": [
        "Cantidad de documentos con 'customDimensions' = []"
      ]
    },
    {
      "cell_type": "code",
      "execution_count": 11,
      "metadata": {},
      "outputs": [
        {
          "name": "stdout",
          "output_type": "stream",
          "text": [
            "Base de datos conformada por:\n",
            " 401589 para Test \n",
            " 1708337 para Train\n"
          ]
        }
      ],
      "source": [
        "N_doc_Test = collection_Test.count_documents({})\n",
        "N_doc_Train = collection_Train.count_documents({})\n",
        "\n",
        "print(f\"\"\"Base de datos conformada por:\\n {N_doc_Test} para Test \\n {N_doc_Train} para Train\"\"\")"
      ]
    },
    {
      "attachments": {},
      "cell_type": "markdown",
      "metadata": {},
      "source": [
        "Dado que hay campos con estructura JSON pero tomandos como lista:"
      ]
    },
    {
      "cell_type": "code",
      "execution_count": 12,
      "metadata": {},
      "outputs": [
        {
          "name": "stdout",
          "output_type": "stream",
          "text": [
            "{'_id': ObjectId('648f8586aec8990bd2ff8e99'),\n",
            " 'customDimensions': \"[{'index': '4', 'value': 'APAC'}]\",\n",
            " 'hits': \"[{'hitNumber': '1', 'time': '0', 'hour': '21', 'minute': '29', \"\n",
            "         \"'isInteraction': True, 'page': {'pagePath': '/home', 'hostname': \"\n",
            "         \"'shop.googlemerchandisestore.com', 'pageTitle': 'Home', \"\n",
            "         \"'pagePathLevel1': '/home', 'pagePathLevel2': '', 'pagePathLevel3': \"\n",
            "         \"'', 'pagePathLevel4': ''}, 'appInfo': {'screenName': \"\n",
            "         \"'shop.googlemerchandisestore.com/home', 'landingScreenName': \"\n",
            "         \"'shop.googlemerchandisestore.com/home', 'exitScreenName': \"\n",
            "         \"'shop.googlemerchandisestore.com/home', 'screenDepth': '0'}, \"\n",
            "         \"'exceptionInfo': {'isFatal': True}, 'eventInfo': {'eventCategory': \"\n",
            "         \"'Enhanced Ecommerce', 'eventAction': 'Promotion Click'}, 'product': \"\n",
            "         \"[], 'promotion': [{'promoId': 'Category Row 2', 'promoName': \"\n",
            "         \"'Accessories', 'promoCreative': 'toy.png', 'promoPosition': \"\n",
            "         \"'Category Row 2'}], 'promotionActionInfo': {'promoIsClick': True}, \"\n",
            "         \"'eCommerceAction': {'action_type': '0', 'step': '1'}, 'experiment': \"\n",
            "         \"[], 'customVariables': [], 'customDimensions': [], 'customMetrics': \"\n",
            "         \"[], 'type': 'EVENT', 'social': {'socialNetwork': '(not set)', \"\n",
            "         \"'hasSocialSourceReferral': 'No', 'socialInteractionNetworkAction': ' \"\n",
            "         \": '}, 'contentGroup': {'contentGroup1': '(not set)', \"\n",
            "         \"'contentGroup2': '(not set)', 'contentGroup3': '(not set)', \"\n",
            "         \"'contentGroup4': '(not set)', 'contentGroup5': '(not set)', \"\n",
            "         \"'previousContentGroup1': '(entrance)', 'previousContentGroup2': \"\n",
            "         \"'(entrance)', 'previousContentGroup3': '(entrance)', \"\n",
            "         \"'previousContentGroup4': '(entrance)', 'previousContentGroup5': \"\n",
            "         \"'(entrance)'}, 'dataSource': 'web', 'publisher_infos': []}, \"\n",
            "         \"{'hitNumber': '2', 'time': '3352', 'hour': '21', 'minute': '29', \"\n",
            "         \"'isInteraction': True, 'isEntrance': True, 'page': {'pagePath': \"\n",
            "         \"'/google+redesign/accessories', 'hostname': \"\n",
            "         \"'shop.googlemerchandisestore.com', 'pageTitle': 'Accessories | \"\n",
            "         \"Google Merchandise Store', 'pagePathLevel1': '/google+redesign/', \"\n",
            "         \"'pagePathLevel2': '/accessories', 'pagePathLevel3': '', \"\n",
            "         \"'pagePathLevel4': ''}, 'transaction': {'currencyCode': 'USD'}, \"\n",
            "         \"'item': {'currencyCode': 'USD'}, 'appInfo': {'screenName': \"\n",
            "         \"'shop.googlemerchandisestore.com/google+redesign/accessories', \"\n",
            "         \"'landingScreenName': 'shop.googlemerchandisestore.com/home', \"\n",
            "         \"'exitScreenName': 'shop.googlemerchandisestore.com/home', \"\n",
            "         \"'screenDepth': '0'}, 'exceptionInfo': {'isFatal': True}, 'product': \"\n",
            "         \"[{'productSKU': 'GGOEAKDH019899', 'v2ProductName': 'Windup Android', \"\n",
            "         \"'v2ProductCategory': 'Home/Accessories/', 'productVariant': '(not \"\n",
            "         \"set)', 'productBrand': '(not set)', 'productPrice': '3990000', \"\n",
            "         \"'localProductPrice': '3990000', 'isImpression': True, \"\n",
            "         \"'customDimensions': [], 'customMetrics': [], 'productListName': \"\n",
            "         \"'Category', 'productListPosition': '1', 'productCouponCode': '(not \"\n",
            "         \"set)'}, {'productSKU': 'GGOEGFSR022099', 'v2ProductName': 'Google \"\n",
            "         \"Mini Kick Ball', 'v2ProductCategory': 'Home/Accessories/', \"\n",
            "         \"'productVariant': '(not set)', 'productBrand': '(not set)', \"\n",
            "         \"'productPrice': '1990000', 'localProductPrice': '1990000', \"\n",
            "         \"'isImpression': True, 'customDimensions': [], 'customMetrics': [], \"\n",
            "         \"'productListName': 'Category', 'productListPosition': '2', \"\n",
            "         \"'productCouponCode': '(not set)'}, {'productSKU': 'GGOEGEBK094499', \"\n",
            "         \"'v2ProductName': 'Google Bot', 'v2ProductCategory': \"\n",
            "         \"'Home/Accessories/', 'productVariant': '(not set)', 'productBrand': \"\n",
            "         \"'(not set)', 'productPrice': '9990000', 'localProductPrice': \"\n",
            "         \"'9990000', 'isImpression': True, 'customDimensions': [], \"\n",
            "         \"'customMetrics': [], 'productListName': 'Category', \"\n",
            "         \"'productListPosition': '3', 'productCouponCode': '(not set)'}, \"\n",
            "         \"{'productSKU': 'GGOEGPJC019099', 'v2ProductName': '7&quot; Dog \"\n",
            "         \"Frisbee', 'v2ProductCategory': 'Home/Accessories/', \"\n",
            "         \"'productVariant': '(not set)', 'productBrand': '(not set)', \"\n",
            "         \"'productPrice': '1500000', 'localProductPrice': '1500000', \"\n",
            "         \"'isImpression': True, 'customDimensions': [], 'customMetrics': [], \"\n",
            "         \"'productListName': 'Category', 'productListPosition': '4', \"\n",
            "         \"'productCouponCode': '(not set)'}, {'productSKU': 'GGOEAFKA087499', \"\n",
            "         \"'v2ProductName': 'Android Small Removable Sticker Sheet', \"\n",
            "         \"'v2ProductCategory': 'Home/Accessories/', 'productVariant': '(not \"\n",
            "         \"set)', 'productBrand': '(not set)', 'productPrice': '2990000', \"\n",
            "         \"'localProductPrice': '2990000', 'isImpression': True, \"\n",
            "         \"'customDimensions': [], 'customMetrics': [], 'productListName': \"\n",
            "         \"'Category', 'productListPosition': '5', 'productCouponCode': '(not \"\n",
            "         \"set)'}, {'productSKU': 'GGOEAFKA087599', 'v2ProductName': 'Android \"\n",
            "         \"Large Removable Sticker Sheet', 'v2ProductCategory': \"\n",
            "         \"'Home/Accessories/', 'productVariant': '(not set)', 'productBrand': \"\n",
            "         \"'(not set)', 'productPrice': '2990000', 'localProductPrice': \"\n",
            "         \"'2990000', 'isImpression': True, 'customDimensions': [], \"\n",
            "         \"'customMetrics': [], 'productListName': 'Category', \"\n",
            "         \"'productListPosition': '6', 'productCouponCode': '(not set)'}, \"\n",
            "         \"{'productSKU': 'GGOEGABL100799', 'v2ProductName': 'Google Mouse Pad \"\n",
            "         \"Navy', 'v2ProductCategory': 'Home/Accessories/', 'productVariant': \"\n",
            "         \"'(not set)', 'productBrand': '(not set)', 'productPrice': '4990000', \"\n",
            "         \"'localProductPrice': '4990000', 'isImpression': True, \"\n",
            "         \"'customDimensions': [], 'customMetrics': [], 'productListName': \"\n",
            "         \"'Category', 'productListPosition': '7', 'productCouponCode': '(not \"\n",
            "         \"set)'}, {'productSKU': 'GGOEGCBQ098999', 'v2ProductName': 'Google \"\n",
            "         \"Lip Balm & Sanitizer Duo', 'v2ProductCategory': 'Home/Accessories/', \"\n",
            "         \"'productVariant': '(not set)', 'productBrand': '(not set)', \"\n",
            "         \"'productPrice': '6990000', 'localProductPrice': '6990000', \"\n",
            "         \"'isImpression': True, 'customDimensions': [], 'customMetrics': [], \"\n",
            "         \"'productListName': 'Category', 'productListPosition': '8', \"\n",
            "         \"'productCouponCode': '(not set)'}, {'productSKU': 'GGOEGEGC099099', \"\n",
            "         \"'v2ProductName': 'Google Small Cable Organizer Blue', \"\n",
            "         \"'v2ProductCategory': 'Home/Accessories/', 'productVariant': '(not \"\n",
            "         \"set)', 'productBrand': '(not set)', 'productPrice': '2990000', \"\n",
            "         \"'localProductPrice': '2990000', 'isImpression': True, \"\n",
            "         \"'customDimensions': [], 'customMetrics': [], 'productListName': \"\n",
            "         \"'Category', 'productListPosition': '9', 'productCouponCode': '(not \"\n",
            "         \"set)'}, {'productSKU': 'GGOEGFKA086699', 'v2ProductName': 'Google \"\n",
            "         \"Emoji Sticker Pack', 'v2ProductCategory': 'Home/Accessories/', \"\n",
            "         \"'productVariant': '(not set)', 'productBrand': '(not set)', \"\n",
            "         \"'productPrice': '4990000', 'localProductPrice': '4990000', \"\n",
            "         \"'isImpression': True, 'customDimensions': [], 'customMetrics': [], \"\n",
            "         \"'productListName': 'Category', 'productListPosition': '10', \"\n",
            "         \"'productCouponCode': '(not set)'}, {'productSKU': 'GGOEGFKQ020399', \"\n",
            "         \"'v2ProductName': 'Google Laptop and Cell Phone Stickers', \"\n",
            "         \"'v2ProductCategory': 'Home/Accessories/', 'productVariant': '(not \"\n",
            "         \"set)', 'productBrand': '(not set)', 'productPrice': '2990000', \"\n",
            "         \"'localProductPrice': '2990000', 'isImpression': True, \"\n",
            "         \"'customDimensions': [], 'customMetrics': [], 'productListName': \"\n",
            "         \"'Category', 'productListPosition': '11', 'productCouponCode': '(not \"\n",
            "         \"set)'}, {'productSKU': 'GGOEWCKQ085457', 'v2ProductName': 'Waze Pack \"\n",
            "         \"of 9 Decal Set', 'v2ProductCategory': 'Home/Accessories/', \"\n",
            "         \"'productVariant': '(not set)', 'productBrand': '(not set)', \"\n",
            "         \"'productPrice': '16990000', 'localProductPrice': '16990000', \"\n",
            "         \"'isImpression': True, 'customDimensions': [], 'customMetrics': [], \"\n",
            "         \"'productListName': 'Category', 'productListPosition': '12', \"\n",
            "         \"'productCouponCode': '(not set)'}], 'promotion': [], \"\n",
            "         \"'eCommerceAction': {'action_type': '0', 'step': '1'}, 'experiment': \"\n",
            "         \"[], 'customVariables': [], 'customDimensions': [], 'customMetrics': \"\n",
            "         \"[], 'type': 'PAGE', 'social': {'socialNetwork': '(not set)', \"\n",
            "         \"'hasSocialSourceReferral': 'No', 'socialInteractionNetworkAction': ' \"\n",
            "         \": '}, 'contentGroup': {'contentGroup1': '(not set)', \"\n",
            "         \"'contentGroup2': 'Accessories', 'contentGroup3': '(not set)', \"\n",
            "         \"'contentGroup4': '(not set)', 'contentGroup5': '(not set)', \"\n",
            "         \"'previousContentGroup1': '(not set)', 'previousContentGroup2': '(not \"\n",
            "         \"set)', 'previousContentGroup3': '(not set)', \"\n",
            "         \"'previousContentGroup4': '(not set)', 'previousContentGroup5': '(not \"\n",
            "         \"set)', 'contentGroupUniqueViews2': '1'}, 'dataSource': 'web', \"\n",
            "         \"'publisher_infos': []}, {'hitNumber': '3', 'time': '19216', 'hour': \"\n",
            "         \"'21', 'minute': '29', 'isInteraction': True, 'page': {'pagePath': \"\n",
            "         \"'/home', 'hostname': 'shop.googlemerchandisestore.com', 'pageTitle': \"\n",
            "         \"'Home', 'pagePathLevel1': '/home', 'pagePathLevel2': '', \"\n",
            "         \"'pagePathLevel3': '', 'pagePathLevel4': ''}, 'appInfo': \"\n",
            "         \"{'screenName': 'shop.googlemerchandisestore.com/home', \"\n",
            "         \"'landingScreenName': 'shop.googlemerchandisestore.com/home', \"\n",
            "         \"'exitScreenName': 'shop.googlemerchandisestore.com/home', \"\n",
            "         \"'screenDepth': '0'}, 'exceptionInfo': {'isFatal': True}, 'product': \"\n",
            "         \"[], 'promotion': [{'promoId': 'Apparel Row 1', 'promoName': \"\n",
            "         \"'Apparel', 'promoCreative': 'home_main_link_apparel.jpg', \"\n",
            "         \"'promoPosition': 'Row 1'}, {'promoId': 'Backpacks Row 2 Combo', \"\n",
            "         \"'promoName': 'Backpacks', 'promoCreative': 'home_bags_google_2.jpg', \"\n",
            "         \"'promoPosition': 'Row 2 Combo'}, {'promoId': 'Mens T-Shirts Row \"\n",
            "         \"3-1', 'promoName': 'Mens T-Shirts', 'promoCreative': \"\n",
            "         \"'mens-tshirts.jpg', 'promoPosition': 'Row 3-1'}, {'promoId': 'Womens \"\n",
            "         \"T-Shirts Row 3-2', 'promoName': 'Womens T-Shirts', 'promoCreative': \"\n",
            "         \"'womens-tshirts.jpg', 'promoPosition': 'Row 3-2'}, {'promoId': \"\n",
            "         \"'Office Row 5 Color Combo', 'promoName': 'Office', 'promoCreative': \"\n",
            "         \"'green_row_link_to_office.jpg', 'promoPosition': 'Row 5 Color \"\n",
            "         \"Combo'}, {'promoId': 'Drinkware Row 4 Color Combo', 'promoName': \"\n",
            "         \"'Drinkware', 'promoCreative': 'red_row_hydrate.jpg', \"\n",
            "         \"'promoPosition': 'Row 4 Color Combo'}, {'promoId': 'Google Brand Row \"\n",
            "         \"7-1', 'promoName': 'Google Brand', 'promoCreative': \"\n",
            "         \"'home_lower_google_500.jpg', 'promoPosition': 'Brand Row 7-1'}, \"\n",
            "         \"{'promoId': 'YouTube Brand Row 7-2', 'promoName': 'YouTube Brand', \"\n",
            "         \"'promoCreative': 'home_lower_youtube_500.jpg', 'promoPosition': \"\n",
            "         \"'Brand Row 7-2'}, {'promoId': 'Android Brand Row 7-3', 'promoName': \"\n",
            "         \"'Andriod Brand', 'promoCreative': 'home_lower_android_500.jpg', \"\n",
            "         \"'promoPosition': 'Brand Row 7-3'}], 'promotionActionInfo': \"\n",
            "         \"{'promoIsView': True}, 'eCommerceAction': {'action_type': '0', \"\n",
            "         \"'step': '1'}, 'experiment': [], 'customVariables': [], \"\n",
            "         \"'customDimensions': [], 'customMetrics': [], 'type': 'PAGE', \"\n",
            "         \"'social': {'socialNetwork': '(not set)', 'hasSocialSourceReferral': \"\n",
            "         \"'No', 'socialInteractionNetworkAction': ' : '}, 'contentGroup': \"\n",
            "         \"{'contentGroup1': '(not set)', 'contentGroup2': '(not set)', \"\n",
            "         \"'contentGroup3': '(not set)', 'contentGroup4': '(not set)', \"\n",
            "         \"'contentGroup5': '(not set)', 'previousContentGroup1': '(not set)', \"\n",
            "         \"'previousContentGroup2': 'Accessories', 'previousContentGroup3': \"\n",
            "         \"'(not set)', 'previousContentGroup4': '(not set)', \"\n",
            "         \"'previousContentGroup5': '(not set)'}, 'dataSource': 'web', \"\n",
            "         \"'publisher_infos': []}, {'hitNumber': '4', 'time': '973047', 'hour': \"\n",
            "         \"'21', 'minute': '45', 'isInteraction': True, 'isExit': True, 'page': \"\n",
            "         \"{'pagePath': '/home', 'hostname': 'shop.googlemerchandisestore.com', \"\n",
            "         \"'pageTitle': 'Home', 'pagePathLevel1': '/home', 'pagePathLevel2': \"\n",
            "         \"'', 'pagePathLevel3': '', 'pagePathLevel4': ''}, 'appInfo': \"\n",
            "         \"{'screenName': 'shop.googlemerchandisestore.com/home', \"\n",
            "         \"'landingScreenName': 'shop.googlemerchandisestore.com/home', \"\n",
            "         \"'exitScreenName': 'shop.googlemerchandisestore.com/home', \"\n",
            "         \"'screenDepth': '0'}, 'exceptionInfo': {'isFatal': True}, 'product': \"\n",
            "         \"[], 'promotion': [{'promoId': 'Apparel Row 1', 'promoName': \"\n",
            "         \"'Apparel', 'promoCreative': 'home_main_link_apparel.jpg', \"\n",
            "         \"'promoPosition': 'Row 1'}, {'promoId': 'Backpacks Row 2 Combo', \"\n",
            "         \"'promoName': 'Backpacks', 'promoCreative': 'home_bags_google_2.jpg', \"\n",
            "         \"'promoPosition': 'Row 2 Combo'}, {'promoId': 'Mens T-Shirts Row \"\n",
            "         \"3-1', 'promoName': 'Mens T-Shirts', 'promoCreative': \"\n",
            "         \"'mens-tshirts.jpg', 'promoPosition': 'Row 3-1'}, {'promoId': 'Womens \"\n",
            "         \"T-Shirts Row 3-2', 'promoName': 'Womens T-Shirts', 'promoCreative': \"\n",
            "         \"'womens-tshirts.jpg', 'promoPosition': 'Row 3-2'}, {'promoId': \"\n",
            "         \"'Office Row 5 Color Combo', 'promoName': 'Office', 'promoCreative': \"\n",
            "         \"'green_row_link_to_office.jpg', 'promoPosition': 'Row 5 Color \"\n",
            "         \"Combo'}, {'promoId': 'Drinkware Row 4 Color Combo', 'promoName': \"\n",
            "         \"'Drinkware', 'promoCreative': 'red_row_hydrate.jpg', \"\n",
            "         \"'promoPosition': 'Row 4 Color Combo'}, {'promoId': 'Google Brand Row \"\n",
            "         \"7-1', 'promoName': 'Google Brand', 'promoCreative': \"\n",
            "         \"'home_lower_google_500.jpg', 'promoPosition': 'Brand Row 7-1'}, \"\n",
            "         \"{'promoId': 'YouTube Brand Row 7-2', 'promoName': 'YouTube Brand', \"\n",
            "         \"'promoCreative': 'home_lower_youtube_500.jpg', 'promoPosition': \"\n",
            "         \"'Brand Row 7-2'}, {'promoId': 'Android Brand Row 7-3', 'promoName': \"\n",
            "         \"'Andriod Brand', 'promoCreative': 'home_lower_android_500.jpg', \"\n",
            "         \"'promoPosition': 'Brand Row 7-3'}], 'promotionActionInfo': \"\n",
            "         \"{'promoIsView': True}, 'eCommerceAction': {'action_type': '0', \"\n",
            "         \"'step': '1'}, 'experiment': [], 'customVariables': [], \"\n",
            "         \"'customDimensions': [], 'customMetrics': [], 'type': 'PAGE', \"\n",
            "         \"'social': {'socialNetwork': '(not set)', 'hasSocialSourceReferral': \"\n",
            "         \"'No', 'socialInteractionNetworkAction': ' : '}, 'contentGroup': \"\n",
            "         \"{'contentGroup1': '(not set)', 'contentGroup2': '(not set)', \"\n",
            "         \"'contentGroup3': '(not set)', 'contentGroup4': '(not set)', \"\n",
            "         \"'contentGroup5': '(not set)', 'previousContentGroup1': '(not set)', \"\n",
            "         \"'previousContentGroup2': 'Accessories', 'previousContentGroup3': \"\n",
            "         \"'(not set)', 'previousContentGroup4': '(not set)', \"\n",
            "         \"'previousContentGroup5': '(not set)'}, 'dataSource': 'web', \"\n",
            "         \"'publisher_infos': []}]\"}\n"
          ]
        }
      ],
      "source": [
        "pprint(collection_Test.find_one({}, {\"customDimensions\":1,\"hits\":1}))"
      ]
    },
    {
      "attachments": {},
      "cell_type": "markdown",
      "metadata": {},
      "source": [
        "Se revisan valores vacíos (No poseen Json dentro de la lista)"
      ]
    },
    {
      "cell_type": "code",
      "execution_count": 13,
      "metadata": {},
      "outputs": [
        {
          "name": "stdout",
          "output_type": "stream",
          "text": [
            "Vacíos en customDimensions de Test:  60581\n",
            "Vacíos en customDimensions de Train:  333235\n",
            "Vacíos en hits de Test:  58\n",
            "Vacíos en hits de Train:  1215\n"
          ]
        }
      ],
      "source": [
        "def Vacios_json_list(field_name, collection):\n",
        "    query = {field_name: []}\n",
        "    count = collection.count_documents(query)\n",
        "    return count\n",
        "\n",
        "field_name = 'customDimensions'\n",
        "print(f\"Vacíos en {field_name} de Test: \",Vacios_json_list(field_name, collection_Test))\n",
        "print(f\"Vacíos en {field_name} de Train: \",Vacios_json_list(field_name, collection_Train))\n",
        "\n",
        "field_name = 'hits'\n",
        "print(f\"Vacíos en {field_name} de Test: \",Vacios_json_list(field_name, collection_Test))\n",
        "print(f\"Vacíos en {field_name} de Train: \",Vacios_json_list(field_name, collection_Train))"
      ]
    },
    {
      "cell_type": "code",
      "execution_count": 15,
      "metadata": {},
      "outputs": [
        {
          "data": {
            "text/plain": [
              "<pymongo.results.DeleteResult at 0x2cb7ebec040>"
            ]
          },
          "execution_count": 15,
          "metadata": {},
          "output_type": "execute_result"
        }
      ],
      "source": [
        "query = {\"customDimensions\" : {'$eq': []},\n",
        "         \"hits\" : {'$eq': []}}\n",
        "\n",
        "collection_Test.delete_many(query)\n",
        "collection_Train.delete_many(query)"
      ]
    },
    {
      "attachments": {},
      "cell_type": "markdown",
      "metadata": {},
      "source": [
        "### Consultas"
      ]
    },
    {
      "attachments": {},
      "cell_type": "markdown",
      "metadata": {},
      "source": [
        "Muestra de los sistemas operativos usados."
      ]
    },
    {
      "cell_type": "code",
      "execution_count": 9,
      "metadata": {},
      "outputs": [
        {
          "name": "stdout",
          "output_type": "stream",
          "text": [
            "{'_id': ObjectId('648f86efaec8990bd205af51'), 'device': {'operatingSystem': 'Windows'}}\n",
            "{'_id': ObjectId('648f86efaec8990bd205af65'), 'device': {'operatingSystem': 'Windows'}}\n",
            "{'_id': ObjectId('648f86efaec8990bd205af85'), 'device': {'operatingSystem': 'Macintosh'}}\n",
            "{'_id': ObjectId('648f86efaec8990bd205af8e'), 'device': {'operatingSystem': 'Macintosh'}}\n",
            "{'_id': ObjectId('648f86efaec8990bd205afab'), 'device': {'operatingSystem': 'Windows'}}\n"
          ]
        }
      ],
      "source": [
        "browser= collection_Train.find({\"device.browser\": \"Firefox\"},{\"device.operatingSystem\":1}).limit(5)\n",
        "for res in browser:\n",
        "    print(res)"
      ]
    },
    {
      "attachments": {},
      "cell_type": "markdown",
      "metadata": {},
      "source": [
        "Conteo de los navegadores más usados."
      ]
    },
    {
      "cell_type": "code",
      "execution_count": 10,
      "metadata": {},
      "outputs": [
        {
          "name": "stdout",
          "output_type": "stream",
          "text": [
            "Chrome - 1173018\n",
            "Safari - 312165\n",
            "Firefox - 63845\n",
            "Internet Explorer - 35474\n",
            "Android Webview - 34266\n",
            "Edge - 20543\n",
            "Samsung Internet - 15792\n",
            "Opera Mini - 15018\n",
            "Safari (in-app) - 14207\n",
            "Opera - 9585\n"
          ]
        }
      ],
      "source": [
        "\n",
        "pipeline = [\n",
        "    {\"$group\": {\"_id\": \"$device.browser\", \"count\": {\"$sum\": 1}}},\n",
        "    {\"$sort\": {\"count\": -1}},\n",
        "    {\"$limit\": 10}\n",
        "]\n",
        "\n",
        "results = collection_Train.aggregate(pipeline)\n",
        "\n",
        "for result in results:\n",
        "    print(result['_id'], \"-\", result['count'])"
      ]
    },
    {
      "attachments": {},
      "cell_type": "markdown",
      "metadata": {},
      "source": [
        "Conteo de visitas por continente."
      ]
    },
    {
      "cell_type": "code",
      "execution_count": 11,
      "metadata": {},
      "outputs": [
        {
          "name": "stdout",
          "output_type": "stream",
          "text": [
            "(not set) 5670\n",
            "Africa 42944\n",
            "Americas 2532496\n",
            "Asia 713807\n",
            "Europe 654860\n",
            "Oceania 39426\n"
          ]
        }
      ],
      "source": [
        "pipeline = [\n",
        "    {\n",
        "        \"$group\": {\n",
        "            \"_id\": \"$geoNetwork.continent\",\n",
        "            \"visitNumber\": { \"$sum\": \"$visitNumber\" }\n",
        "        }\n",
        "    },\n",
        "    {\n",
        "        \"$sort\": { \"_id\": 1 }\n",
        "    }\n",
        "]\n",
        "\n",
        "results = collection_Train.aggregate(pipeline)\n",
        "for result in results:\n",
        "    print(result[\"_id\"], result[\"visitNumber\"])"
      ]
    },
    {
      "attachments": {},
      "cell_type": "markdown",
      "metadata": {},
      "source": [
        "Cantidad de visitas por países del continente Americano."
      ]
    },
    {
      "cell_type": "code",
      "execution_count": 12,
      "metadata": {},
      "outputs": [
        {
          "name": "stdout",
          "output_type": "stream",
          "text": [
            "United States 717217\n",
            "Canada 51057\n",
            "Brazil 35432\n",
            "Mexico 25270\n",
            "Argentina 10128\n",
            "Colombia 9434\n",
            "Peru 9234\n",
            "Chile 3721\n",
            "Venezuela 2909\n",
            "Ecuador 2007\n"
          ]
        }
      ],
      "source": [
        "pipeline = [\n",
        "    {\n",
        "        \"$match\": {\n",
        "            \"geoNetwork.continent\": \"Americas\"\n",
        "        }\n",
        "    },\n",
        "    {\n",
        "        \"$group\": {\n",
        "            \"_id\": \"$geoNetwork.country\",\n",
        "            \"totalVisits\": { \"$sum\": 1 }\n",
        "        }\n",
        "    },\n",
        "    {\n",
        "        \"$sort\": {\n",
        "            \"totalVisits\": -1\n",
        "        }\n",
        "    },\n",
        "    {\"$limit\": 10}\n",
        "]\n",
        "\n",
        "results = collection_Train.aggregate(pipeline)\n",
        "for result in results:\n",
        "    print(result[\"_id\"], result[\"totalVisits\"])"
      ]
    },
    {
      "attachments": {},
      "cell_type": "markdown",
      "metadata": {},
      "source": [
        "Número de visitas por fecha (limitado a 10 para visualización)."
      ]
    },
    {
      "cell_type": "code",
      "execution_count": 13,
      "metadata": {},
      "outputs": [
        {
          "name": "stdout",
          "output_type": "stream",
          "text": [
            "20160801 6320\n",
            "20160802 6929\n",
            "20160803 7233\n",
            "20160804 6456\n",
            "20160805 5686\n",
            "20160806 3080\n",
            "20160807 2819\n",
            "20160808 6758\n",
            "20160809 6256\n",
            "20160810 6920\n"
          ]
        }
      ],
      "source": [
        "pipeline = [\n",
        "    {\n",
        "        \"$group\": {\n",
        "            \"_id\": \"$date\",\n",
        "            \"visitNumber\": { \"$sum\": \"$visitNumber\" }\n",
        "        }\n",
        "    },\n",
        "    {\n",
        "        \"$sort\": { \"_id\": 1 }\n",
        "    },\n",
        "    {\"$limit\": 10}\n",
        "]\n",
        "\n",
        "results = collection_Train.aggregate(pipeline)\n",
        "for result in results:\n",
        "    print(result[\"_id\"], result[\"visitNumber\"])"
      ]
    },
    {
      "attachments": {},
      "cell_type": "markdown",
      "metadata": {},
      "source": [
        "Cierre del conector de base de datos"
      ]
    },
    {
      "cell_type": "code",
      "execution_count": 14,
      "metadata": {},
      "outputs": [],
      "source": [
        "client.close()"
      ]
    },
    {
      "attachments": {},
      "cell_type": "markdown",
      "metadata": {},
      "source": [
        "## 4 Uso de la base de datos con Dask"
      ]
    },
    {
      "attachments": {},
      "cell_type": "markdown",
      "metadata": {},
      "source": [
        "Definición del tipo de columnas para leer con Dask"
      ]
    },
    {
      "cell_type": "code",
      "execution_count": 2,
      "metadata": {},
      "outputs": [],
      "source": [
        "column_types = {'_id':str, 'channelGrouping':str, 'customDimensions':str, 'date':str, 'device':str,\n",
        "       'fullVisitorId':str, 'geoNetwork':str, 'hits':str, 'socialEngagementType':str, 'totals':str,\n",
        "       'trafficSource':str, 'visitId':str, 'visitNumber':str, 'visitStartTime':str}"
      ]
    },
    {
      "attachments": {},
      "cell_type": "markdown",
      "metadata": {},
      "source": [
        "Conexión a la base de Mongo"
      ]
    },
    {
      "cell_type": "code",
      "execution_count": 3,
      "metadata": {},
      "outputs": [],
      "source": [
        "base_Test = read_mongo(\n",
        "    connection_kwargs={\"host\": \"mongodb://localhost:27017\"},\n",
        "    database=\"Proyecto_MOD_3\",\n",
        "    collection=\"Test\",\n",
        "    chunksize=500,\n",
        ").to_dataframe(meta=column_types)\n",
        "\n",
        "base_Train = read_mongo(\n",
        "    connection_kwargs={\"host\": \"mongodb://localhost:27017\"},\n",
        "    database=\"Proyecto_MOD_3\",\n",
        "    collection=\"Train\",\n",
        "    chunksize=500,\n",
        ").to_dataframe(meta=column_types)\n"
      ]
    },
    {
      "attachments": {},
      "cell_type": "markdown",
      "metadata": {},
      "source": [
        "Particiones utilizadas"
      ]
    },
    {
      "cell_type": "code",
      "execution_count": 35,
      "metadata": {},
      "outputs": [
        {
          "data": {
            "text/plain": [
              "804"
            ]
          },
          "execution_count": 35,
          "metadata": {},
          "output_type": "execute_result"
        }
      ],
      "source": [
        "base_Test.npartitions"
      ]
    },
    {
      "attachments": {},
      "cell_type": "markdown",
      "metadata": {},
      "source": [
        "Dimensiones del dataset resultante"
      ]
    },
    {
      "cell_type": "code",
      "execution_count": 36,
      "metadata": {},
      "outputs": [],
      "source": [
        "rows_Test = base_Test.shape[0].compute()"
      ]
    },
    {
      "cell_type": "code",
      "execution_count": 37,
      "metadata": {},
      "outputs": [],
      "source": [
        "rows_Train = base_Train.shape[0].compute()"
      ]
    },
    {
      "cell_type": "code",
      "execution_count": 38,
      "metadata": {},
      "outputs": [
        {
          "name": "stdout",
          "output_type": "stream",
          "text": [
            "\n",
            "      Número de filas en Test: 401582\n",
            "      Número de filas en Train: 1708299\n"
          ]
        }
      ],
      "source": [
        "print(f\"\"\"\n",
        "      Número de filas en Test: {rows_Test}\n",
        "      Número de filas en Train: {rows_Train}\"\"\")"
      ]
    },
    {
      "attachments": {},
      "cell_type": "markdown",
      "metadata": {},
      "source": [
        "Verificando que no existan vacíos en las columnas que parecen tener un Json (customDimensions, hits)"
      ]
    },
    {
      "cell_type": "code",
      "execution_count": 11,
      "metadata": {},
      "outputs": [],
      "source": [
        "bte_cd_empty = sum(base_Test[\"customDimensions\"]==\"[]\")\n",
        "bte_h_empty = sum(base_Test[\"hits\"]==\"[]\")\n",
        "\n",
        "btr_cd_empty = sum(base_Train[\"customDimensions\"]==\"[]\")\n",
        "btr_h_empty = sum(base_Train[\"hits\"]==\"[]\")\n"
      ]
    },
    {
      "cell_type": "code",
      "execution_count": 12,
      "metadata": {},
      "outputs": [
        {
          "name": "stdout",
          "output_type": "stream",
          "text": [
            " \n",
            "      Vacíos ajustados en base_Test:\n",
            "        customDimensions: 0\n",
            "        hits: 0\n",
            "      \n",
            "      Vacíos ajustados en base_Train:\n",
            "        customDimensions: 0\n",
            "        hits: 0\n",
            "      \n"
          ]
        }
      ],
      "source": [
        "print(f\"\"\" \n",
        "      Vacíos ajustados en base_Test:\n",
        "        customDimensions: {bte_cd_empty}\n",
        "        hits: {bte_h_empty}\n",
        "      \n",
        "      Vacíos ajustados en base_Train:\n",
        "        customDimensions: {btr_cd_empty}\n",
        "        hits: {btr_h_empty}\n",
        "      \"\"\")"
      ]
    },
    {
      "attachments": {},
      "cell_type": "markdown",
      "metadata": {},
      "source": [
        "Estructura del dataset"
      ]
    },
    {
      "cell_type": "code",
      "execution_count": 138,
      "metadata": {},
      "outputs": [
        {
          "data": {
            "text/html": [
              "<div>\n",
              "<style scoped>\n",
              "    .dataframe tbody tr th:only-of-type {\n",
              "        vertical-align: middle;\n",
              "    }\n",
              "\n",
              "    .dataframe tbody tr th {\n",
              "        vertical-align: top;\n",
              "    }\n",
              "\n",
              "    .dataframe thead th {\n",
              "        text-align: right;\n",
              "    }\n",
              "</style>\n",
              "<table border=\"1\" class=\"dataframe\">\n",
              "  <thead>\n",
              "    <tr style=\"text-align: right;\">\n",
              "      <th></th>\n",
              "      <th>_id</th>\n",
              "      <th>channelGrouping</th>\n",
              "      <th>customDimensions</th>\n",
              "      <th>date</th>\n",
              "      <th>device</th>\n",
              "      <th>fullVisitorId</th>\n",
              "      <th>geoNetwork</th>\n",
              "      <th>hits</th>\n",
              "      <th>socialEngagementType</th>\n",
              "      <th>totals</th>\n",
              "      <th>trafficSource</th>\n",
              "      <th>visitId</th>\n",
              "      <th>visitNumber</th>\n",
              "      <th>visitStartTime</th>\n",
              "    </tr>\n",
              "  </thead>\n",
              "  <tbody>\n",
              "    <tr>\n",
              "      <th>0</th>\n",
              "      <td>648f8586aec8990bd2ff8e99</td>\n",
              "      <td>Organic Search</td>\n",
              "      <td>[{'index': '4', 'value': 'APAC'}]</td>\n",
              "      <td>20180511</td>\n",
              "      <td>{'browser': 'Chrome', 'browserVersion': 'not a...</td>\n",
              "      <td>7460955084541987166</td>\n",
              "      <td>{'continent': 'Asia', 'subContinent': 'Souther...</td>\n",
              "      <td>[{'hitNumber': '1', 'time': '0', 'hour': '21',...</td>\n",
              "      <td>Not Socially Engaged</td>\n",
              "      <td>{'visits': '1', 'hits': '4', 'pageviews': '3',...</td>\n",
              "      <td>{'referralPath': '(not set)', 'campaign': '(no...</td>\n",
              "      <td>1526099341</td>\n",
              "      <td>2</td>\n",
              "      <td>1526099341</td>\n",
              "    </tr>\n",
              "    <tr>\n",
              "      <th>1</th>\n",
              "      <td>648f8586aec8990bd2ff8e9a</td>\n",
              "      <td>Direct</td>\n",
              "      <td>[{'index': '4', 'value': 'North America'}]</td>\n",
              "      <td>20180511</td>\n",
              "      <td>{'browser': 'Chrome', 'browserVersion': 'not a...</td>\n",
              "      <td>460252456180441002</td>\n",
              "      <td>{'continent': 'Americas', 'subContinent': 'Nor...</td>\n",
              "      <td>[{'hitNumber': '1', 'time': '0', 'hour': '11',...</td>\n",
              "      <td>Not Socially Engaged</td>\n",
              "      <td>{'visits': '1', 'hits': '4', 'pageviews': '3',...</td>\n",
              "      <td>{'referralPath': '(not set)', 'campaign': '(no...</td>\n",
              "      <td>1526064483</td>\n",
              "      <td>166</td>\n",
              "      <td>1526064483</td>\n",
              "    </tr>\n",
              "    <tr>\n",
              "      <th>2</th>\n",
              "      <td>648f8586aec8990bd2ff8e9b</td>\n",
              "      <td>Organic Search</td>\n",
              "      <td>[{'index': '4', 'value': 'North America'}]</td>\n",
              "      <td>20180511</td>\n",
              "      <td>{'browser': 'Chrome', 'browserVersion': 'not a...</td>\n",
              "      <td>3461808543879602873</td>\n",
              "      <td>{'continent': 'Americas', 'subContinent': 'Nor...</td>\n",
              "      <td>[{'hitNumber': '1', 'time': '0', 'hour': '12',...</td>\n",
              "      <td>Not Socially Engaged</td>\n",
              "      <td>{'visits': '1', 'hits': '4', 'pageviews': '3',...</td>\n",
              "      <td>{'referralPath': '(not set)', 'campaign': '(no...</td>\n",
              "      <td>1526067157</td>\n",
              "      <td>2</td>\n",
              "      <td>1526067157</td>\n",
              "    </tr>\n",
              "    <tr>\n",
              "      <th>3</th>\n",
              "      <td>648f8586aec8990bd2ff8e9c</td>\n",
              "      <td>Direct</td>\n",
              "      <td>[{'index': '4', 'value': 'North America'}]</td>\n",
              "      <td>20180511</td>\n",
              "      <td>{'browser': 'Chrome', 'browserVersion': 'not a...</td>\n",
              "      <td>975129477712150630</td>\n",
              "      <td>{'continent': 'Americas', 'subContinent': 'Nor...</td>\n",
              "      <td>[{'hitNumber': '1', 'time': '0', 'hour': '23',...</td>\n",
              "      <td>Not Socially Engaged</td>\n",
              "      <td>{'visits': '1', 'hits': '5', 'pageviews': '4',...</td>\n",
              "      <td>{'referralPath': '(not set)', 'campaign': '(no...</td>\n",
              "      <td>1526107551</td>\n",
              "      <td>4</td>\n",
              "      <td>1526107551</td>\n",
              "    </tr>\n",
              "    <tr>\n",
              "      <th>4</th>\n",
              "      <td>648f8586aec8990bd2ff8e9d</td>\n",
              "      <td>Organic Search</td>\n",
              "      <td>[{'index': '4', 'value': 'North America'}]</td>\n",
              "      <td>20180511</td>\n",
              "      <td>{'browser': 'Internet Explorer', 'browserVersi...</td>\n",
              "      <td>8381672768065729990</td>\n",
              "      <td>{'continent': 'Americas', 'subContinent': 'Nor...</td>\n",
              "      <td>[{'hitNumber': '1', 'time': '0', 'hour': '10',...</td>\n",
              "      <td>Not Socially Engaged</td>\n",
              "      <td>{'visits': '1', 'hits': '5', 'pageviews': '4',...</td>\n",
              "      <td>{'referralPath': '(not set)', 'campaign': '(no...</td>\n",
              "      <td>1526060254</td>\n",
              "      <td>1</td>\n",
              "      <td>1526060254</td>\n",
              "    </tr>\n",
              "  </tbody>\n",
              "</table>\n",
              "</div>"
            ],
            "text/plain": [
              "                        _id channelGrouping   \n",
              "0  648f8586aec8990bd2ff8e99  Organic Search  \\\n",
              "1  648f8586aec8990bd2ff8e9a          Direct   \n",
              "2  648f8586aec8990bd2ff8e9b  Organic Search   \n",
              "3  648f8586aec8990bd2ff8e9c          Direct   \n",
              "4  648f8586aec8990bd2ff8e9d  Organic Search   \n",
              "\n",
              "                             customDimensions      date   \n",
              "0           [{'index': '4', 'value': 'APAC'}]  20180511  \\\n",
              "1  [{'index': '4', 'value': 'North America'}]  20180511   \n",
              "2  [{'index': '4', 'value': 'North America'}]  20180511   \n",
              "3  [{'index': '4', 'value': 'North America'}]  20180511   \n",
              "4  [{'index': '4', 'value': 'North America'}]  20180511   \n",
              "\n",
              "                                              device        fullVisitorId   \n",
              "0  {'browser': 'Chrome', 'browserVersion': 'not a...  7460955084541987166  \\\n",
              "1  {'browser': 'Chrome', 'browserVersion': 'not a...   460252456180441002   \n",
              "2  {'browser': 'Chrome', 'browserVersion': 'not a...  3461808543879602873   \n",
              "3  {'browser': 'Chrome', 'browserVersion': 'not a...   975129477712150630   \n",
              "4  {'browser': 'Internet Explorer', 'browserVersi...  8381672768065729990   \n",
              "\n",
              "                                          geoNetwork   \n",
              "0  {'continent': 'Asia', 'subContinent': 'Souther...  \\\n",
              "1  {'continent': 'Americas', 'subContinent': 'Nor...   \n",
              "2  {'continent': 'Americas', 'subContinent': 'Nor...   \n",
              "3  {'continent': 'Americas', 'subContinent': 'Nor...   \n",
              "4  {'continent': 'Americas', 'subContinent': 'Nor...   \n",
              "\n",
              "                                                hits  socialEngagementType   \n",
              "0  [{'hitNumber': '1', 'time': '0', 'hour': '21',...  Not Socially Engaged  \\\n",
              "1  [{'hitNumber': '1', 'time': '0', 'hour': '11',...  Not Socially Engaged   \n",
              "2  [{'hitNumber': '1', 'time': '0', 'hour': '12',...  Not Socially Engaged   \n",
              "3  [{'hitNumber': '1', 'time': '0', 'hour': '23',...  Not Socially Engaged   \n",
              "4  [{'hitNumber': '1', 'time': '0', 'hour': '10',...  Not Socially Engaged   \n",
              "\n",
              "                                              totals   \n",
              "0  {'visits': '1', 'hits': '4', 'pageviews': '3',...  \\\n",
              "1  {'visits': '1', 'hits': '4', 'pageviews': '3',...   \n",
              "2  {'visits': '1', 'hits': '4', 'pageviews': '3',...   \n",
              "3  {'visits': '1', 'hits': '5', 'pageviews': '4',...   \n",
              "4  {'visits': '1', 'hits': '5', 'pageviews': '4',...   \n",
              "\n",
              "                                       trafficSource     visitId visitNumber   \n",
              "0  {'referralPath': '(not set)', 'campaign': '(no...  1526099341           2  \\\n",
              "1  {'referralPath': '(not set)', 'campaign': '(no...  1526064483         166   \n",
              "2  {'referralPath': '(not set)', 'campaign': '(no...  1526067157           2   \n",
              "3  {'referralPath': '(not set)', 'campaign': '(no...  1526107551           4   \n",
              "4  {'referralPath': '(not set)', 'campaign': '(no...  1526060254           1   \n",
              "\n",
              "  visitStartTime  \n",
              "0     1526099341  \n",
              "1     1526064483  \n",
              "2     1526067157  \n",
              "3     1526107551  \n",
              "4     1526060254  "
            ]
          },
          "execution_count": 138,
          "metadata": {},
          "output_type": "execute_result"
        }
      ],
      "source": [
        "base_Test.head(5)"
      ]
    },
    {
      "attachments": {},
      "cell_type": "markdown",
      "metadata": {},
      "source": [
        "Validación de operaciones con la base cargada"
      ]
    },
    {
      "cell_type": "code",
      "execution_count": 131,
      "metadata": {},
      "outputs": [
        {
          "data": {
            "text/plain": [
              "channelGrouping\n",
              "Organic Search    198378\n",
              "Direct             76076\n",
              "Referral           59498\n",
              "Social             36881\n",
              "Paid Search        12834\n",
              "Affiliates         10833\n",
              "Display             7076\n",
              "(Other)                6\n",
              "Name: count, dtype: int64"
            ]
          },
          "execution_count": 131,
          "metadata": {},
          "output_type": "execute_result"
        }
      ],
      "source": [
        "base_Test.channelGrouping.value_counts().compute()"
      ]
    },
    {
      "attachments": {},
      "cell_type": "markdown",
      "metadata": {},
      "source": [
        "Perfilamiento de los datos en formato html"
      ]
    },
    {
      "cell_type": "code",
      "execution_count": null,
      "metadata": {},
      "outputs": [],
      "source": [
        "muestra = base_Test.sample(frac=0.2)\n",
        "profile = ProfileReport(muestra.compute())\n",
        "profile\n",
        "profile.to_file(\"reporte_base_Test.html\")"
      ]
    },
    {
      "attachments": {},
      "cell_type": "markdown",
      "metadata": {},
      "source": [
        "## 5 Conclusiones"
      ]
    },
    {
      "attachments": {},
      "cell_type": "markdown",
      "metadata": {},
      "source": [
        "* La elección de MongoDB se basó en las capacidades de administración de grandes volúmenes de datos, al igual que, a la naturaleza de estos, ya que varias columnas estaban representadas en formato json, dando una vista documental.\n",
        "\n",
        "* Una vez establecida la bases de datos, se buscó una forma eficiente de poder trabajar con los mismos, para ello, con Dask se utilizó computación paralela y distribuida para implementar diversas operaciones y al final computar los resultados. \n"
      ]
    }
  ],
  "metadata": {
    "colab": {
      "provenance": []
    },
    "kernelspec": {
      "display_name": "Python 3",
      "name": "python3"
    },
    "language_info": {
      "codemirror_mode": {
        "name": "ipython",
        "version": 3
      },
      "file_extension": ".py",
      "mimetype": "text/x-python",
      "name": "python",
      "nbconvert_exporter": "python",
      "pygments_lexer": "ipython3",
      "version": "3.11.3"
    }
  },
  "nbformat": 4,
  "nbformat_minor": 0
}
